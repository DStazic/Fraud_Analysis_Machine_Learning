{
 "cells": [
  {
   "cell_type": "markdown",
   "metadata": {},
   "source": [
    "# Overview and Goal\n",
    "\n",
    "### Enron at its prime\n",
    "Enron was awarded \"America's Most Innovative Company\" by Fortune Magazine for 6 consecutive years between 1996 and 2001 (https://www.investopedia.com/updates/enron-scandal-summary/) and was arguably one of the big coorporate players in the United States and worldwide, respectively. In fact, Enron was ranked the sixt-largest energy company in the world and ranked No. 7 on the Fortune 500 list in 2000 with the company's shares being worth almost \\$100 in that same year (http://edition.cnn.com/2013/07/02/us/enron-fast-facts/index.html). before dropping to approximately $1 in 2001\n",
    "In 2001 An investigation was launched by the U.S. Securities and Exchange Commission \n",
    "\n",
    "\n",
    "\n",
    "### Enron's Fall\n",
    "So only one year aftre the perennial rally for \"America's hottest company\", Enron's shares dropped under $1 (http://edition.cnn.com/2013/07/02/us/enron-fast-facts/index.html)!! So what caused the fall of such a corporate giant??\n",
    "The Enron case unraveled one of the biggest accounting frauds in U.S. history. A large network of acquired partner companies was used to specificically process Enron's liabilities, whereas the parent company Enron solely registered profits in their balance sheet (https://www.capital.de/wirtschaft-politik/der-enron-skandal). \n",
    "Eventually, Enron filed for bankruptcy in 2001 (http://edition.cnn.com/2013/07/02/us/enron-fast-facts/index.html).\n",
    "\n",
    "\n",
    "### Project Goal\n",
    "The aim of this project is to use machine learning in order to develop a classifier that can successfully identify individuals that were involved in the enron fraud case. Ultimatly, the classifier could be used to assist in fraud detection providing similar but unseen data.\n",
    "\n"
   ]
  },
  {
   "cell_type": "markdown",
   "metadata": {},
   "source": [
    "## Import relevant packages"
   ]
  },
  {
   "cell_type": "code",
   "execution_count": 6,
   "metadata": {
    "collapsed": true
   },
   "outputs": [],
   "source": [
    "import pandas as pd\n",
    "import numpy as np\n",
    "import seaborn as sns\n",
    "from fancyimpute import MICE\n",
    "import matplotlib.pyplot as plt\n",
    "import missingno as msno\n",
    "from collections import defaultdict, Counter\n",
    "from datetime import datetime\n",
    "import re\n",
    "import pickle\n",
    "import gzip\n",
    "import csv\n",
    "import string\n",
    "import warnings\n",
    "import sys\n",
    "import os\n",
    "import tester\n",
    "from sklearn.feature_extraction.text import TfidfVectorizer\n",
    "from sklearn.feature_extraction.text import CountVectorizer\n",
    "from sklearn.feature_selection import SelectKBest,SelectPercentile, f_classif\n",
    "from sklearn.model_selection import GridSearchCV,train_test_split\n",
    "from sklearn.pipeline import Pipeline\n",
    "from sklearn.model_selection import StratifiedShuffleSplit\n",
    "from sklearn.metrics import f1_score,recall_score,precision_score,accuracy_score\n",
    "from itertools import combinations\n",
    "from sklearn.svm import SVC\n",
    "from sklearn.naive_bayes import GaussianNB\n",
    "from sklearn.tree import DecisionTreeClassifier as DT \n",
    "from sklearn.ensemble import RandomForestClassifier as RF\n",
    "from sklearn.ensemble import AdaBoostClassifier as ADA\n",
    "from sklearn.linear_model import LogisticRegression\n",
    "from sklearn.cluster import KMeans\n",
    "from sklearn.preprocessing import StandardScaler\n",
    "from fancyimpute import MICE\n",
    "import missingno as msno\n",
    "from sklearn.utils import resample\n",
    "\n",
    "%matplotlib inline"
   ]
  },
  {
   "cell_type": "markdown",
   "metadata": {},
   "source": [
    "##### Getting an overview of the data\n",
    "\n",
    "The main dataset is a dictionary storing information about a subset of enron employees (middle and top management individuals). For each of those employees, there is information available about their financial status (e.g., salary, bonus,etc.) and also statistics that summarize email-based communication (e.g., number of emails send or received, etc.).\n",
    "\n",
    "Furthermore there is also a large dataset that comprises of approximately 500,000 emails from Enron employees. Those emails have been seized by authorities in the course of the aforementioned investigation. Those emails have been used to construct the email-specific features present in the main dataset. However, I aim at processing the email corpus via natural language processing techniques (NLP) and engineer new features based on the NLP results.  \n",
    "\n",
    "So let's get acquainted with the main dataset. I decided to transform the main dataset into a dataframe and use this format for wrangling and manipulation of the dataset (more convenient). "
   ]
  },
  {
   "cell_type": "code",
   "execution_count": 3,
   "metadata": {
    "collapsed": false
   },
   "outputs": [
    {
     "name": "stdout",
     "output_type": "stream",
     "text": [
      "total number of data points in the set:  146\n",
      "total number of features per data point:  21\n"
     ]
    }
   ],
   "source": [
    "warnings.filterwarnings(\"ignore\")\n",
    "\n",
    "# load the main dataset\n",
    "financial_data = pickle.load(open(\"final_project_dataset.pkl\"))\n",
    "\n",
    "# include all features in feature_list\n",
    "features_list = []\n",
    "for name_key in financial_data:\n",
    "    for feature_key in financial_data[name_key]:\n",
    "        features_list.append(feature_key)\n",
    "    break \n",
    "\n",
    "    \n",
    "# check the number of data points in the set (number of names)\n",
    "print \"total number of data points in the set: \", len(financial_data)\n",
    "\n",
    "# check the dimensionality of data (number of features per data point)\n",
    "print \"total number of features per data point: \", len(features_list)"
   ]
  },
  {
   "cell_type": "markdown",
   "metadata": {},
   "source": [
    "The overall sample size of the main dataset is quite low with only 146 data points. In proportion to sample size, the number of features is rather high. Already at this point we can conclude that overfitting will be an issue in the process of model building!  "
   ]
  },
  {
   "cell_type": "markdown",
   "metadata": {},
   "source": [
    "# Check for irregularities and outliers"
   ]
  },
  {
   "cell_type": "code",
   "execution_count": 4,
   "metadata": {
    "collapsed": false
   },
   "outputs": [
    {
     "data": {
      "text/html": [
       "<div>\n",
       "<style>\n",
       "    .dataframe thead tr:only-child th {\n",
       "        text-align: right;\n",
       "    }\n",
       "\n",
       "    .dataframe thead th {\n",
       "        text-align: left;\n",
       "    }\n",
       "\n",
       "    .dataframe tbody tr th {\n",
       "        vertical-align: top;\n",
       "    }\n",
       "</style>\n",
       "<table border=\"1\" class=\"dataframe\">\n",
       "  <thead>\n",
       "    <tr style=\"text-align: right;\">\n",
       "      <th></th>\n",
       "      <th>salary</th>\n",
       "      <th>to_messages</th>\n",
       "      <th>deferral_payments</th>\n",
       "      <th>total_payments</th>\n",
       "      <th>exercised_stock_options</th>\n",
       "      <th>bonus</th>\n",
       "      <th>restricted_stock</th>\n",
       "      <th>shared_receipt_with_poi</th>\n",
       "      <th>restricted_stock_deferred</th>\n",
       "      <th>total_stock_value</th>\n",
       "      <th>...</th>\n",
       "      <th>loan_advances</th>\n",
       "      <th>from_messages</th>\n",
       "      <th>other</th>\n",
       "      <th>from_this_person_to_poi</th>\n",
       "      <th>poi</th>\n",
       "      <th>director_fees</th>\n",
       "      <th>deferred_income</th>\n",
       "      <th>long_term_incentive</th>\n",
       "      <th>email_address</th>\n",
       "      <th>from_poi_to_this_person</th>\n",
       "    </tr>\n",
       "  </thead>\n",
       "  <tbody>\n",
       "    <tr>\n",
       "      <th>ALLEN PHILLIP K</th>\n",
       "      <td>201955</td>\n",
       "      <td>2902</td>\n",
       "      <td>2869717</td>\n",
       "      <td>4484442</td>\n",
       "      <td>1729541</td>\n",
       "      <td>4175000</td>\n",
       "      <td>126027</td>\n",
       "      <td>1407</td>\n",
       "      <td>-126027</td>\n",
       "      <td>1729541</td>\n",
       "      <td>...</td>\n",
       "      <td>NaN</td>\n",
       "      <td>2195</td>\n",
       "      <td>152</td>\n",
       "      <td>65</td>\n",
       "      <td>False</td>\n",
       "      <td>NaN</td>\n",
       "      <td>-3081055</td>\n",
       "      <td>304805</td>\n",
       "      <td>phillip.allen@enron.com</td>\n",
       "      <td>47</td>\n",
       "    </tr>\n",
       "    <tr>\n",
       "      <th>BADUM JAMES P</th>\n",
       "      <td>NaN</td>\n",
       "      <td>NaN</td>\n",
       "      <td>178980</td>\n",
       "      <td>182466</td>\n",
       "      <td>257817</td>\n",
       "      <td>NaN</td>\n",
       "      <td>NaN</td>\n",
       "      <td>NaN</td>\n",
       "      <td>NaN</td>\n",
       "      <td>257817</td>\n",
       "      <td>...</td>\n",
       "      <td>NaN</td>\n",
       "      <td>NaN</td>\n",
       "      <td>NaN</td>\n",
       "      <td>NaN</td>\n",
       "      <td>False</td>\n",
       "      <td>NaN</td>\n",
       "      <td>NaN</td>\n",
       "      <td>NaN</td>\n",
       "      <td>NaN</td>\n",
       "      <td>NaN</td>\n",
       "    </tr>\n",
       "    <tr>\n",
       "      <th>BANNANTINE JAMES M</th>\n",
       "      <td>477</td>\n",
       "      <td>566</td>\n",
       "      <td>NaN</td>\n",
       "      <td>916197</td>\n",
       "      <td>4046157</td>\n",
       "      <td>NaN</td>\n",
       "      <td>1757552</td>\n",
       "      <td>465</td>\n",
       "      <td>-560222</td>\n",
       "      <td>5243487</td>\n",
       "      <td>...</td>\n",
       "      <td>NaN</td>\n",
       "      <td>29</td>\n",
       "      <td>864523</td>\n",
       "      <td>0</td>\n",
       "      <td>False</td>\n",
       "      <td>NaN</td>\n",
       "      <td>-5104</td>\n",
       "      <td>NaN</td>\n",
       "      <td>james.bannantine@enron.com</td>\n",
       "      <td>39</td>\n",
       "    </tr>\n",
       "    <tr>\n",
       "      <th>BAXTER JOHN C</th>\n",
       "      <td>267102</td>\n",
       "      <td>NaN</td>\n",
       "      <td>1295738</td>\n",
       "      <td>5634343</td>\n",
       "      <td>6680544</td>\n",
       "      <td>1200000</td>\n",
       "      <td>3942714</td>\n",
       "      <td>NaN</td>\n",
       "      <td>NaN</td>\n",
       "      <td>10623258</td>\n",
       "      <td>...</td>\n",
       "      <td>NaN</td>\n",
       "      <td>NaN</td>\n",
       "      <td>2660303</td>\n",
       "      <td>NaN</td>\n",
       "      <td>False</td>\n",
       "      <td>NaN</td>\n",
       "      <td>-1386055</td>\n",
       "      <td>1586055</td>\n",
       "      <td>NaN</td>\n",
       "      <td>NaN</td>\n",
       "    </tr>\n",
       "    <tr>\n",
       "      <th>BAY FRANKLIN R</th>\n",
       "      <td>239671</td>\n",
       "      <td>NaN</td>\n",
       "      <td>260455</td>\n",
       "      <td>827696</td>\n",
       "      <td>NaN</td>\n",
       "      <td>400000</td>\n",
       "      <td>145796</td>\n",
       "      <td>NaN</td>\n",
       "      <td>-82782</td>\n",
       "      <td>63014</td>\n",
       "      <td>...</td>\n",
       "      <td>NaN</td>\n",
       "      <td>NaN</td>\n",
       "      <td>69</td>\n",
       "      <td>NaN</td>\n",
       "      <td>False</td>\n",
       "      <td>NaN</td>\n",
       "      <td>-201641</td>\n",
       "      <td>NaN</td>\n",
       "      <td>frank.bay@enron.com</td>\n",
       "      <td>NaN</td>\n",
       "    </tr>\n",
       "  </tbody>\n",
       "</table>\n",
       "<p>5 rows × 21 columns</p>\n",
       "</div>"
      ],
      "text/plain": [
       "                    salary to_messages deferral_payments total_payments  \\\n",
       "ALLEN PHILLIP K     201955        2902           2869717        4484442   \n",
       "BADUM JAMES P          NaN         NaN            178980         182466   \n",
       "BANNANTINE JAMES M     477         566               NaN         916197   \n",
       "BAXTER JOHN C       267102         NaN           1295738        5634343   \n",
       "BAY FRANKLIN R      239671         NaN            260455         827696   \n",
       "\n",
       "                   exercised_stock_options    bonus restricted_stock  \\\n",
       "ALLEN PHILLIP K                    1729541  4175000           126027   \n",
       "BADUM JAMES P                       257817      NaN              NaN   \n",
       "BANNANTINE JAMES M                 4046157      NaN          1757552   \n",
       "BAXTER JOHN C                      6680544  1200000          3942714   \n",
       "BAY FRANKLIN R                         NaN   400000           145796   \n",
       "\n",
       "                   shared_receipt_with_poi restricted_stock_deferred  \\\n",
       "ALLEN PHILLIP K                       1407                   -126027   \n",
       "BADUM JAMES P                          NaN                       NaN   \n",
       "BANNANTINE JAMES M                     465                   -560222   \n",
       "BAXTER JOHN C                          NaN                       NaN   \n",
       "BAY FRANKLIN R                         NaN                    -82782   \n",
       "\n",
       "                   total_stock_value           ...           loan_advances  \\\n",
       "ALLEN PHILLIP K              1729541           ...                     NaN   \n",
       "BADUM JAMES P                 257817           ...                     NaN   \n",
       "BANNANTINE JAMES M           5243487           ...                     NaN   \n",
       "BAXTER JOHN C               10623258           ...                     NaN   \n",
       "BAY FRANKLIN R                 63014           ...                     NaN   \n",
       "\n",
       "                   from_messages    other from_this_person_to_poi    poi  \\\n",
       "ALLEN PHILLIP K             2195      152                      65  False   \n",
       "BADUM JAMES P                NaN      NaN                     NaN  False   \n",
       "BANNANTINE JAMES M            29   864523                       0  False   \n",
       "BAXTER JOHN C                NaN  2660303                     NaN  False   \n",
       "BAY FRANKLIN R               NaN       69                     NaN  False   \n",
       "\n",
       "                    director_fees deferred_income long_term_incentive  \\\n",
       "ALLEN PHILLIP K               NaN        -3081055              304805   \n",
       "BADUM JAMES P                 NaN             NaN                 NaN   \n",
       "BANNANTINE JAMES M            NaN           -5104                 NaN   \n",
       "BAXTER JOHN C                 NaN        -1386055             1586055   \n",
       "BAY FRANKLIN R                NaN         -201641                 NaN   \n",
       "\n",
       "                                 email_address from_poi_to_this_person  \n",
       "ALLEN PHILLIP K        phillip.allen@enron.com                      47  \n",
       "BADUM JAMES P                              NaN                     NaN  \n",
       "BANNANTINE JAMES M  james.bannantine@enron.com                      39  \n",
       "BAXTER JOHN C                              NaN                     NaN  \n",
       "BAY FRANKLIN R             frank.bay@enron.com                     NaN  \n",
       "\n",
       "[5 rows x 21 columns]"
      ]
     },
     "execution_count": 4,
     "metadata": {},
     "output_type": "execute_result"
    }
   ],
   "source": [
    "# transform data dictionary to pandas data frame\n",
    "data_df = pd.DataFrame.from_dict(financial_data, orient = \"index\")\n",
    "default_dataset = pd.DataFrame(data_df) # copy of dataframe (manipulation of data_df has no effect on default_dataset)\n",
    "data_df.head()"
   ]
  },
  {
   "cell_type": "markdown",
   "metadata": {},
   "source": [
    "pickle the default dataset"
   ]
  },
  {
   "cell_type": "code",
   "execution_count": 5,
   "metadata": {
    "collapsed": true
   },
   "outputs": [],
   "source": [
    "with open(\"default_dataset.pkl\", \"wb\") as file_out:\n",
    "    pickle.dump(default_dataset, file_out)"
   ]
  },
  {
   "cell_type": "markdown",
   "metadata": {},
   "source": [
    "After transformation, the data set is represented as data frame data points as rows (names of corresponding Enron employees, are represented as row indices) and  features as columns. \n",
    "\n",
    "From a first glimpse at the transformed data, we can denote that all features but **email_address** are encoded as integers. **email_address** is simply the cognate string representation of an email address for a given employee. \n",
    "I assume that the feature **email_address** doesn't have much predictive power because it is a signature feature that is specific for a single person and, thus, has no general predictive power. As such, **email_address** will be removed from the feature set."
   ]
  },
  {
   "cell_type": "code",
   "execution_count": 5,
   "metadata": {
    "collapsed": false
   },
   "outputs": [
    {
     "name": "stdout",
     "output_type": "stream",
     "text": [
      "check removal of email_address feature\n"
     ]
    },
    {
     "data": {
      "text/html": [
       "<div>\n",
       "<style>\n",
       "    .dataframe thead tr:only-child th {\n",
       "        text-align: right;\n",
       "    }\n",
       "\n",
       "    .dataframe thead th {\n",
       "        text-align: left;\n",
       "    }\n",
       "\n",
       "    .dataframe tbody tr th {\n",
       "        vertical-align: top;\n",
       "    }\n",
       "</style>\n",
       "<table border=\"1\" class=\"dataframe\">\n",
       "  <thead>\n",
       "    <tr style=\"text-align: right;\">\n",
       "      <th></th>\n",
       "      <th>salary</th>\n",
       "      <th>to_messages</th>\n",
       "      <th>deferral_payments</th>\n",
       "      <th>total_payments</th>\n",
       "      <th>exercised_stock_options</th>\n",
       "      <th>bonus</th>\n",
       "      <th>restricted_stock</th>\n",
       "      <th>shared_receipt_with_poi</th>\n",
       "      <th>restricted_stock_deferred</th>\n",
       "      <th>total_stock_value</th>\n",
       "      <th>expenses</th>\n",
       "      <th>loan_advances</th>\n",
       "      <th>from_messages</th>\n",
       "      <th>other</th>\n",
       "      <th>from_this_person_to_poi</th>\n",
       "      <th>poi</th>\n",
       "      <th>director_fees</th>\n",
       "      <th>deferred_income</th>\n",
       "      <th>long_term_incentive</th>\n",
       "      <th>from_poi_to_this_person</th>\n",
       "    </tr>\n",
       "  </thead>\n",
       "  <tbody>\n",
       "    <tr>\n",
       "      <th>ALLEN PHILLIP K</th>\n",
       "      <td>201955</td>\n",
       "      <td>2902</td>\n",
       "      <td>2869717</td>\n",
       "      <td>4484442</td>\n",
       "      <td>1729541</td>\n",
       "      <td>4175000</td>\n",
       "      <td>126027</td>\n",
       "      <td>1407</td>\n",
       "      <td>-126027</td>\n",
       "      <td>1729541</td>\n",
       "      <td>13868</td>\n",
       "      <td>NaN</td>\n",
       "      <td>2195</td>\n",
       "      <td>152</td>\n",
       "      <td>65</td>\n",
       "      <td>False</td>\n",
       "      <td>NaN</td>\n",
       "      <td>-3081055</td>\n",
       "      <td>304805</td>\n",
       "      <td>47</td>\n",
       "    </tr>\n",
       "    <tr>\n",
       "      <th>BADUM JAMES P</th>\n",
       "      <td>NaN</td>\n",
       "      <td>NaN</td>\n",
       "      <td>178980</td>\n",
       "      <td>182466</td>\n",
       "      <td>257817</td>\n",
       "      <td>NaN</td>\n",
       "      <td>NaN</td>\n",
       "      <td>NaN</td>\n",
       "      <td>NaN</td>\n",
       "      <td>257817</td>\n",
       "      <td>3486</td>\n",
       "      <td>NaN</td>\n",
       "      <td>NaN</td>\n",
       "      <td>NaN</td>\n",
       "      <td>NaN</td>\n",
       "      <td>False</td>\n",
       "      <td>NaN</td>\n",
       "      <td>NaN</td>\n",
       "      <td>NaN</td>\n",
       "      <td>NaN</td>\n",
       "    </tr>\n",
       "    <tr>\n",
       "      <th>BANNANTINE JAMES M</th>\n",
       "      <td>477</td>\n",
       "      <td>566</td>\n",
       "      <td>NaN</td>\n",
       "      <td>916197</td>\n",
       "      <td>4046157</td>\n",
       "      <td>NaN</td>\n",
       "      <td>1757552</td>\n",
       "      <td>465</td>\n",
       "      <td>-560222</td>\n",
       "      <td>5243487</td>\n",
       "      <td>56301</td>\n",
       "      <td>NaN</td>\n",
       "      <td>29</td>\n",
       "      <td>864523</td>\n",
       "      <td>0</td>\n",
       "      <td>False</td>\n",
       "      <td>NaN</td>\n",
       "      <td>-5104</td>\n",
       "      <td>NaN</td>\n",
       "      <td>39</td>\n",
       "    </tr>\n",
       "    <tr>\n",
       "      <th>BAXTER JOHN C</th>\n",
       "      <td>267102</td>\n",
       "      <td>NaN</td>\n",
       "      <td>1295738</td>\n",
       "      <td>5634343</td>\n",
       "      <td>6680544</td>\n",
       "      <td>1200000</td>\n",
       "      <td>3942714</td>\n",
       "      <td>NaN</td>\n",
       "      <td>NaN</td>\n",
       "      <td>10623258</td>\n",
       "      <td>11200</td>\n",
       "      <td>NaN</td>\n",
       "      <td>NaN</td>\n",
       "      <td>2660303</td>\n",
       "      <td>NaN</td>\n",
       "      <td>False</td>\n",
       "      <td>NaN</td>\n",
       "      <td>-1386055</td>\n",
       "      <td>1586055</td>\n",
       "      <td>NaN</td>\n",
       "    </tr>\n",
       "    <tr>\n",
       "      <th>BAY FRANKLIN R</th>\n",
       "      <td>239671</td>\n",
       "      <td>NaN</td>\n",
       "      <td>260455</td>\n",
       "      <td>827696</td>\n",
       "      <td>NaN</td>\n",
       "      <td>400000</td>\n",
       "      <td>145796</td>\n",
       "      <td>NaN</td>\n",
       "      <td>-82782</td>\n",
       "      <td>63014</td>\n",
       "      <td>129142</td>\n",
       "      <td>NaN</td>\n",
       "      <td>NaN</td>\n",
       "      <td>69</td>\n",
       "      <td>NaN</td>\n",
       "      <td>False</td>\n",
       "      <td>NaN</td>\n",
       "      <td>-201641</td>\n",
       "      <td>NaN</td>\n",
       "      <td>NaN</td>\n",
       "    </tr>\n",
       "  </tbody>\n",
       "</table>\n",
       "</div>"
      ],
      "text/plain": [
       "                    salary to_messages deferral_payments total_payments  \\\n",
       "ALLEN PHILLIP K     201955        2902           2869717        4484442   \n",
       "BADUM JAMES P          NaN         NaN            178980         182466   \n",
       "BANNANTINE JAMES M     477         566               NaN         916197   \n",
       "BAXTER JOHN C       267102         NaN           1295738        5634343   \n",
       "BAY FRANKLIN R      239671         NaN            260455         827696   \n",
       "\n",
       "                   exercised_stock_options    bonus restricted_stock  \\\n",
       "ALLEN PHILLIP K                    1729541  4175000           126027   \n",
       "BADUM JAMES P                       257817      NaN              NaN   \n",
       "BANNANTINE JAMES M                 4046157      NaN          1757552   \n",
       "BAXTER JOHN C                      6680544  1200000          3942714   \n",
       "BAY FRANKLIN R                         NaN   400000           145796   \n",
       "\n",
       "                   shared_receipt_with_poi restricted_stock_deferred  \\\n",
       "ALLEN PHILLIP K                       1407                   -126027   \n",
       "BADUM JAMES P                          NaN                       NaN   \n",
       "BANNANTINE JAMES M                     465                   -560222   \n",
       "BAXTER JOHN C                          NaN                       NaN   \n",
       "BAY FRANKLIN R                         NaN                    -82782   \n",
       "\n",
       "                   total_stock_value expenses loan_advances from_messages  \\\n",
       "ALLEN PHILLIP K              1729541    13868           NaN          2195   \n",
       "BADUM JAMES P                 257817     3486           NaN           NaN   \n",
       "BANNANTINE JAMES M           5243487    56301           NaN            29   \n",
       "BAXTER JOHN C               10623258    11200           NaN           NaN   \n",
       "BAY FRANKLIN R                 63014   129142           NaN           NaN   \n",
       "\n",
       "                      other from_this_person_to_poi    poi director_fees  \\\n",
       "ALLEN PHILLIP K         152                      65  False           NaN   \n",
       "BADUM JAMES P           NaN                     NaN  False           NaN   \n",
       "BANNANTINE JAMES M   864523                       0  False           NaN   \n",
       "BAXTER JOHN C       2660303                     NaN  False           NaN   \n",
       "BAY FRANKLIN R           69                     NaN  False           NaN   \n",
       "\n",
       "                   deferred_income long_term_incentive from_poi_to_this_person  \n",
       "ALLEN PHILLIP K           -3081055              304805                      47  \n",
       "BADUM JAMES P                  NaN                 NaN                     NaN  \n",
       "BANNANTINE JAMES M           -5104                 NaN                      39  \n",
       "BAXTER JOHN C             -1386055             1586055                     NaN  \n",
       "BAY FRANKLIN R             -201641                 NaN                     NaN  "
      ]
     },
     "execution_count": 5,
     "metadata": {},
     "output_type": "execute_result"
    }
   ],
   "source": [
    "data_df.drop(\"email_address\", inplace=True, axis=1) \n",
    "print \"check removal of email_address feature\"\n",
    "data_df.head()"
   ]
  },
  {
   "cell_type": "markdown",
   "metadata": {},
   "source": [
    "Let's continue with auditing employee names. It can be expected that valid entries consist of **First Name**, **Last Name** and optionally a **Middle Name** and **Generation Title**"
   ]
  },
  {
   "cell_type": "code",
   "execution_count": 6,
   "metadata": {
    "collapsed": false
   },
   "outputs": [
    {
     "data": {
      "text/plain": [
       "['BLAKE JR. NORMAN P',\n",
       " 'BOWEN JR RAYMOND M',\n",
       " 'DERRICK JR. JAMES V',\n",
       " 'DONAHUE JR JEFFREY M',\n",
       " 'GLISAN JR BEN F',\n",
       " 'OVERDYKE JR JERE C',\n",
       " 'PEREIRA PAULO V. FERRAZ',\n",
       " 'THE TRAVEL AGENCY IN THE PARK',\n",
       " 'TOTAL',\n",
       " 'WALLS JR ROBERT H',\n",
       " 'WHITE JR THOMAS E',\n",
       " 'WINOKUR JR. HERBERT S']"
      ]
     },
     "execution_count": 6,
     "metadata": {},
     "output_type": "execute_result"
    }
   ],
   "source": [
    "def audit_names(data):\n",
    "    '''assume first name, last name and optionally middle name and/or generation titles, such as Junior (Jr), Senior (Sr),\n",
    "    or number representation (I, II, etc.) '''\n",
    "    \n",
    "    irregularities = []\n",
    "    names = data_df.index.values\n",
    "    for name in names:\n",
    "        name_split = name.split()\n",
    "        if len(name_split) > 3 or len(name_split) < 2:\n",
    "            irregularities.append(name)\n",
    "    return irregularities   \n",
    "\n",
    "audit_names(data_df)"
   ]
  },
  {
   "cell_type": "markdown",
   "metadata": {},
   "source": [
    "Some names contain both, a middle name and a generation tile or more than one middle name. Both representations are valid. However, \"TOTAL\" and \"THE TRAVEL AGENCY IN THE PARK\" are no valid names and will be removed from the data set."
   ]
  },
  {
   "cell_type": "code",
   "execution_count": 7,
   "metadata": {
    "collapsed": false
   },
   "outputs": [
    {
     "name": "stdout",
     "output_type": "stream",
     "text": [
      "confirm removal of invalid name entries from data dictionary \n",
      "\n",
      "['BLAKE JR. NORMAN P', 'BOWEN JR RAYMOND M', 'DERRICK JR. JAMES V', 'DONAHUE JR JEFFREY M', 'GLISAN JR BEN F', 'OVERDYKE JR JERE C', 'PEREIRA PAULO V. FERRAZ', 'WALLS JR ROBERT H', 'WHITE JR THOMAS E', 'WINOKUR JR. HERBERT S']\n"
     ]
    }
   ],
   "source": [
    "data_df.drop([\"THE TRAVEL AGENCY IN THE PARK\", \"TOTAL\"], inplace=True)\n",
    "print \"confirm removal of invalid name entries from data dictionary \\n\\n\", audit_names(data_df)"
   ]
  },
  {
   "cell_type": "markdown",
   "metadata": {},
   "source": [
    "From the sneak peak at the dataset, we already know that missing values are present. Let's get an overview about the distribution of NaNs in the dataset.  \n",
    "1. What is the total number of NaN for each feature? \n",
    "2. How many data points have at least 1 NaN in any of the features? \n",
    "3. Do we observe any patterns in missing data?  \n",
    "\n",
    "*NaNs are not encoded as true nan but as strings (checked type of entry after numpy.isnan() returned False for an NaN entry from the data set).*"
   ]
  },
  {
   "cell_type": "code",
   "execution_count": 8,
   "metadata": {
    "collapsed": false
   },
   "outputs": [
    {
     "name": "stdout",
     "output_type": "stream",
     "text": [
      "percentage of data points missing for each feature \n",
      "\n"
     ]
    },
    {
     "data": {
      "text/plain": [
       "salary                       0.347222\n",
       "to_messages                  0.402778\n",
       "deferral_payments            0.736111\n",
       "total_payments               0.145833\n",
       "exercised_stock_options      0.298611\n",
       "bonus                        0.437500\n",
       "restricted_stock             0.243056\n",
       "shared_receipt_with_poi      0.402778\n",
       "restricted_stock_deferred    0.881944\n",
       "total_stock_value            0.131944\n",
       "expenses                     0.347222\n",
       "loan_advances                0.979167\n",
       "from_messages                0.402778\n",
       "other                        0.368056\n",
       "from_this_person_to_poi      0.402778\n",
       "poi                          0.000000\n",
       "director_fees                0.888889\n",
       "deferred_income              0.666667\n",
       "long_term_incentive          0.548611\n",
       "from_poi_to_this_person      0.402778\n",
       "dtype: float64"
      ]
     },
     "execution_count": 8,
     "metadata": {},
     "output_type": "execute_result"
    }
   ],
   "source": [
    "# count the total number of NaN present in each feature \n",
    "print \"percentage of data points missing for each feature \\n\"\n",
    "data_df.apply(lambda col: sum(col == \"NaN\")/float(len(col)))"
   ]
  },
  {
   "cell_type": "code",
   "execution_count": 9,
   "metadata": {
    "collapsed": true
   },
   "outputs": [],
   "source": [
    "# replace NaN string with true NaN; Following data wrangling will require to remove NaN column-wise\n",
    "data_df.replace(\"NaN\", np.nan, inplace=True)"
   ]
  },
  {
   "cell_type": "code",
   "execution_count": 10,
   "metadata": {
    "collapsed": false
   },
   "outputs": [
    {
     "name": "stdout",
     "output_type": "stream",
     "text": [
      "144 of total 146 data points contain at least 1 NaN\n"
     ]
    }
   ],
   "source": [
    "# check for each data point if any feature contains a NaN\n",
    "print \"{} of total 146 data points contain at least 1 NaN\".format(sum(data_df.apply(lambda row: any(pd.isnull(row)), axis=1)))"
   ]
  },
  {
   "cell_type": "markdown",
   "metadata": {},
   "source": [
    "Overall, a significant percentage of data is missing from the entire set. Especially features, such as **deferral_payments, restricted_stock_deferred, loan_advances, director_fees, deferred_income** contain a high proportion of NaN as opposed to real information value. Based on the fact that the total number of data points in the financial data set is only 146, the aforementioned features with high numbers of missing values don't really provide much information/predictive power to the underlying classification problem. As such, these features will be removed from the dataset.\n",
    "\n"
   ]
  },
  {
   "cell_type": "code",
   "execution_count": 11,
   "metadata": {
    "collapsed": false
   },
   "outputs": [
    {
     "name": "stdout",
     "output_type": "stream",
     "text": [
      "confirm removal of features with highest number of missing values \n",
      "\n",
      "\n"
     ]
    },
    {
     "data": {
      "text/html": [
       "<div>\n",
       "<style>\n",
       "    .dataframe thead tr:only-child th {\n",
       "        text-align: right;\n",
       "    }\n",
       "\n",
       "    .dataframe thead th {\n",
       "        text-align: left;\n",
       "    }\n",
       "\n",
       "    .dataframe tbody tr th {\n",
       "        vertical-align: top;\n",
       "    }\n",
       "</style>\n",
       "<table border=\"1\" class=\"dataframe\">\n",
       "  <thead>\n",
       "    <tr style=\"text-align: right;\">\n",
       "      <th></th>\n",
       "      <th>salary</th>\n",
       "      <th>to_messages</th>\n",
       "      <th>total_payments</th>\n",
       "      <th>exercised_stock_options</th>\n",
       "      <th>bonus</th>\n",
       "      <th>restricted_stock</th>\n",
       "      <th>shared_receipt_with_poi</th>\n",
       "      <th>total_stock_value</th>\n",
       "      <th>expenses</th>\n",
       "      <th>from_messages</th>\n",
       "      <th>other</th>\n",
       "      <th>from_this_person_to_poi</th>\n",
       "      <th>poi</th>\n",
       "      <th>deferred_income</th>\n",
       "      <th>long_term_incentive</th>\n",
       "      <th>from_poi_to_this_person</th>\n",
       "    </tr>\n",
       "  </thead>\n",
       "  <tbody>\n",
       "    <tr>\n",
       "      <th>ALLEN PHILLIP K</th>\n",
       "      <td>201955.0</td>\n",
       "      <td>2902.0</td>\n",
       "      <td>4484442.0</td>\n",
       "      <td>1729541.0</td>\n",
       "      <td>4175000.0</td>\n",
       "      <td>126027.0</td>\n",
       "      <td>1407.0</td>\n",
       "      <td>1729541.0</td>\n",
       "      <td>13868.0</td>\n",
       "      <td>2195.0</td>\n",
       "      <td>152.0</td>\n",
       "      <td>65.0</td>\n",
       "      <td>False</td>\n",
       "      <td>-3081055.0</td>\n",
       "      <td>304805.0</td>\n",
       "      <td>47.0</td>\n",
       "    </tr>\n",
       "    <tr>\n",
       "      <th>BADUM JAMES P</th>\n",
       "      <td>NaN</td>\n",
       "      <td>NaN</td>\n",
       "      <td>182466.0</td>\n",
       "      <td>257817.0</td>\n",
       "      <td>NaN</td>\n",
       "      <td>NaN</td>\n",
       "      <td>NaN</td>\n",
       "      <td>257817.0</td>\n",
       "      <td>3486.0</td>\n",
       "      <td>NaN</td>\n",
       "      <td>NaN</td>\n",
       "      <td>NaN</td>\n",
       "      <td>False</td>\n",
       "      <td>NaN</td>\n",
       "      <td>NaN</td>\n",
       "      <td>NaN</td>\n",
       "    </tr>\n",
       "  </tbody>\n",
       "</table>\n",
       "</div>"
      ],
      "text/plain": [
       "                   salary  to_messages  total_payments  \\\n",
       "ALLEN PHILLIP K  201955.0       2902.0       4484442.0   \n",
       "BADUM JAMES P         NaN          NaN        182466.0   \n",
       "\n",
       "                 exercised_stock_options      bonus  restricted_stock  \\\n",
       "ALLEN PHILLIP K                1729541.0  4175000.0          126027.0   \n",
       "BADUM JAMES P                   257817.0        NaN               NaN   \n",
       "\n",
       "                 shared_receipt_with_poi  total_stock_value  expenses  \\\n",
       "ALLEN PHILLIP K                   1407.0          1729541.0   13868.0   \n",
       "BADUM JAMES P                        NaN           257817.0    3486.0   \n",
       "\n",
       "                 from_messages  other  from_this_person_to_poi    poi  \\\n",
       "ALLEN PHILLIP K         2195.0  152.0                     65.0  False   \n",
       "BADUM JAMES P              NaN    NaN                      NaN  False   \n",
       "\n",
       "                 deferred_income  long_term_incentive  from_poi_to_this_person  \n",
       "ALLEN PHILLIP K       -3081055.0             304805.0                     47.0  \n",
       "BADUM JAMES P                NaN                  NaN                      NaN  "
      ]
     },
     "execution_count": 11,
     "metadata": {},
     "output_type": "execute_result"
    }
   ],
   "source": [
    "data_df.drop([\"deferral_payments\", \"restricted_stock_deferred\", \"loan_advances\", \"director_fees\"], inplace=True,axis=1)\n",
    "print \"confirm removal of features with highest number of missing values \\n\\n\"\n",
    "data_df.head(2)"
   ]
  },
  {
   "cell_type": "markdown",
   "metadata": {},
   "source": [
    "Furthermore, we can't simply use complete cases and discard data points that harbour at least 1 NaN (in any feature) because the sample size would be significantly reduced. In fact we would basically delete the entire dataset (remember that the total number of data points is 146). Consequently, imputation techniques are required to substitute missing values with estimated values."
   ]
  },
  {
   "cell_type": "markdown",
   "metadata": {},
   "source": [
    "Before conducting any imputation, let's try to elaborate on the type of missingness. 3 different types of missingness can be distinguished.\n",
    "\n",
    "1. Missing at random (missing is related to some of the observed data but not on unobserved) -**MAR**-\n",
    "2. Missing completely at random (does not depend on observed or unobserved values/features) -**MCAR**-\n",
    "3. Missing not at random (missingness depends on unobserved values/features) -**MNAR**-\n",
    "\n",
    "In order to obtain unbiased model parameters imputation techniques should be conducted with data that is MAR or MCAR (http://www.personal.psu.edu/jxb14/M554/articles/Graham2009.pdf). However, it is not possible to evaluate if missingness is MAR or MCAR solely from the data provided. Visualization of data is a good first step to find any indication of non-randomness in the dataset. Any kind of patterns in the dataset would be such indicators that would imply non random missingness due to technical issues during the collection of data/entering the data in the dataset."
   ]
  },
  {
   "cell_type": "code",
   "execution_count": 84,
   "metadata": {
    "collapsed": false
   },
   "outputs": [
    {
     "data": {
      "image/png": "[encoded data removed]",
      "text/plain": [
       "<matplotlib.figure.Figure at 0x10e56d6d0>"
      ]
     },
     "metadata": {},
     "output_type": "display_data"
    }
   ],
   "source": [
    "# visualize missing data\n",
    "msno.matrix(data_df)"
   ]
  },
  {
   "cell_type": "markdown",
   "metadata": {},
   "source": [
    "Missing values are displayed as white boxes in the missing data matrix. The missingness shows no obvious pattern for any feature (e.g. ). \n",
    "Since the data was collected on basis of a federal investigation, we can furthermore assume that employees were not allowed to hold back or delete any data. This also supports the notion that missingness is rather random than biased."
   ]
  },
  {
   "cell_type": "markdown",
   "metadata": {},
   "source": [
    "Furthermore, lets assess the occurence of outliers for each feature by plotting the data. Removal of potential outliers will make sure that no bias is introduced during imputation. Boxplots for each feature, comparing values for \"poi\" and \"Regular\", will provide a good overview of the underlying data distribution.   "
   ]
  },
  {
   "cell_type": "code",
   "execution_count": 782,
   "metadata": {
    "collapsed": false
   },
   "outputs": [
    {
     "data": {
      "image/png": "[encoded data removed]",
      "text/plain": [
       "<matplotlib.figure.Figure at 0x10eec4d10>"
      ]
     },
     "metadata": {},
     "output_type": "display_data"
    }
   ],
   "source": [
    "# manualy override the matplotlib configuration file to display outliers (in default mode outliers are not displayed)\n",
    "plt.rc(\"lines\", markeredgewidth=0.5)\n",
    "\n",
    "data_df.drop([\"poi\"], axis=1).plot(kind=\"box\", subplots=True, layout=(3,5), figsize = (15,8))\n",
    "plt.subplots_adjust(wspace=0.8)"
   ]
  },
  {
   "cell_type": "markdown",
   "metadata": {},
   "source": [
    "Now, let's compare the distribution of each feature for \"person of interest\" versus \"regular person\". This will provide an overview about the discriminative power of each feature. Based on this assessment, we can decide whether features can be excluded, thus, decreasing model complexity."
   ]
  },
  {
   "cell_type": "markdown",
   "metadata": {},
   "source": [
    "Basically, all features exhibit values that qualify as outliers in terms of the technical definition, which is as follows:\n",
    "\n",
    "outlier lower end Q1 – 1.5×IQR  \n",
    "outlier upper end Q3 + 1.5×IQR  \n",
    "\n",
    "IQR = interquartile range  \n",
    "Q1 = 25% quartile  \n",
    "Q3 = 25% quartile  \n",
    "\n",
    "E.g., for salary, some data points are well above \\$1000000. Nevertheless, those outliers might actually reflect true values. E.g., we can assume that all data representing payments and stock values, is having disproportionally higher values for the top executives (e.g., Ken Lay, Jeffrey Skilling, etc.) as opposed for regular employees!! \n",
    "\n",
    "There are also values that might qualify as outliers for from_messages (e.g., > 14000 messages!!) and from_this_person_to_poi (e.g., >600 messages). With respect to these features describing email communication (from_messages, from_this_person_to_poi, from_poi_to_this_person), I have no robust expectations about reasonable nubmers of emails, etc. However, I will make the assumption that only top executives are supposed to have such high numbers. I reason that communication is a key task for major representatives of a company (even more than for regular employees), which also involves communication via email. \n",
    "\n",
    "Overall, one has to be very careful about defining a threshold that separates outlieres, because as already mentioned, we can expect a discrepancy in values by many orders of magnitude between regular employees, middle/upper management and top executives for features associated with financial data. "
   ]
  },
  {
   "cell_type": "code",
   "execution_count": 12,
   "metadata": {
    "collapsed": false
   },
   "outputs": [
    {
     "data": {
      "text/plain": [
       "0.10    159715.8\n",
       "0.25    211802.0\n",
       "0.50    258741.0\n",
       "Name: salary, dtype: float64"
      ]
     },
     "execution_count": 12,
     "metadata": {},
     "output_type": "execute_result"
    }
   ],
   "source": [
    "data_df[\"salary\"].quantile([0.1,0.25,0.5])"
   ]
  },
  {
   "cell_type": "markdown",
   "metadata": {},
   "source": [
    "The 25% percentile and median are well above \\$200,000 and even the 10% percentile is above \\$150,000. If we assume $100,000 as the average salary for upper management positions (http://work.chron.com/salaries-upperlevel-management-1899.html) then the dataset contains almost exclusively upper/top management employees! As such, outliers in the upper range are likely possible to be valid and we don't have enough information to decide otherwise, respectively.\n",
    "\n",
    "Nevertheless, there are a few values that still don't seem to fit in the valid range, as we defined it.  \n",
    "These are:  \n",
    "1. salary value close to 0 \n",
    "2. total_payments value >100 million\n",
    "3. restricted stock value <0"
   ]
  },
  {
   "cell_type": "markdown",
   "metadata": {},
   "source": [
    "*Research employees with lowest salaries*"
   ]
  },
  {
   "cell_type": "code",
   "execution_count": 13,
   "metadata": {
    "collapsed": false
   },
   "outputs": [
    {
     "data": {
      "text/plain": [
       "BANNANTINE JAMES M      477.0\n",
       "BAZELIDES PHILIP J    80818.0\n",
       "GRAY RODNEY            6615.0\n",
       "IZZO LAWRENCE L       85274.0\n",
       "OVERDYKE JR JERE C    94941.0\n",
       "REDMOND BRIAN L       96840.0\n",
       "REYNOLDS LAWRENCE     76399.0\n",
       "WESTFAHL RICHARD K    63744.0\n",
       "Name: salary, dtype: float64"
      ]
     },
     "execution_count": 13,
     "metadata": {},
     "output_type": "execute_result"
    }
   ],
   "source": [
    "# filter employees by salary < $100000\n",
    "data_df[\"salary\"][data_df[\"salary\"] < 100000]"
   ]
  },
  {
   "cell_type": "markdown",
   "metadata": {},
   "source": [
    "The salaries of BANNANTINE JAMES M and GRAY RODNEY exhibit a stark deviation from the median salary (approx. 250000) and can't be actually considered as valid annual salaries. Let's try to shed some light by having a closer look at the CV's of Mr. Bannantine and Mr. Gray.\n",
    "\n",
    "\n",
    "**BANNANTINE JAMES M**  \n",
    "from http://shopops1.com/james-m-bannantine/:\n",
    "\n",
    "*\"Mr. Bannantine worked with Enron Corporation for ten years, from 1990 to 2000, holding several top management positions, including Chief Executive Officer for Enron South America, a $1.5 billion power and pipeline division of Enron.\"*  \n",
    "\n",
    "Clearly, Mr. Bannantine belongs to the top management staff members. However, he was affiliated with enron's subsidiary in South America. It seems that his true salary is not listed in the documents. Maybe this is due to some accounting specifications (formality), because he was not directly affiliated with the main branch (receiving the salary from the subsidiary). This is supported by the finding that he received substantial payments for consulting service (original pdf file).\n",
    "\n",
    "**GRAY RODNEY**  \n",
    "from https://www.bloomberg.com/research/stocks/private/person.asp?personId=438862&privcapId=337480:  \n",
    "\n",
    "*\"Mr. Gray served as Chief Executive Officer of Enron Global Power & Pipelines LLC from October 1994 to 1997 and its Chairman from June 1995 to 1997. Mr. Gray served as Executive Vice President of Enron International Inc. ('EI') and has served as a Managing Director of both EDC and of Enron Capital & Trade Resources Corp. ('ECT'). Mr. Gray joined Enron Corp. in 1988 as Vice President and Treasurer.\"*\n",
    "\n",
    "Enron Global Power & Pipelines LLC was another subsidiary. Similarly to Mr. Bannantine, Mr. Gray was a top executive and we can expect a much higher salary. Again, because of his affiliation to a subsidiary of enron, there is a possibility that his financial compensation was documented in enron's account books primarily by means of consulting services ($680833 based on information from the original pdf).  \n",
    "\n",
    "Nevertheless, I expect both, Mr Gray and Mr Bannantine, to have received a regular CEO salary from their respective companies. I will substitute both values with the median salary."
   ]
  },
  {
   "cell_type": "code",
   "execution_count": 14,
   "metadata": {
    "collapsed": false
   },
   "outputs": [],
   "source": [
    "salary_median = np.median(data_df[\"salary\"].dropna())\n",
    "\n",
    "data_df[\"salary\"].loc[\"BANNANTINE JAMES M\"] = salary_median\n",
    "data_df[\"salary\"].loc[\"GRAY RODNEY\"] = salary_median"
   ]
  },
  {
   "cell_type": "markdown",
   "metadata": {},
   "source": [
    "Confirmation of successful substitution"
   ]
  },
  {
   "cell_type": "code",
   "execution_count": 15,
   "metadata": {
    "collapsed": false
   },
   "outputs": [
    {
     "name": "stdout",
     "output_type": "stream",
     "text": [
      "258741.0\n",
      "258741.0\n"
     ]
    }
   ],
   "source": [
    "print data_df[\"salary\"].loc[\"BANNANTINE JAMES M\"]\n",
    "print data_df[\"salary\"].loc[\"GRAY RODNEY\"]"
   ]
  },
  {
   "cell_type": "markdown",
   "metadata": {},
   "source": [
    "*research the single employee with \\>$100 million total payment*"
   ]
  },
  {
   "cell_type": "code",
   "execution_count": 16,
   "metadata": {
    "collapsed": false
   },
   "outputs": [
    {
     "data": {
      "text/plain": [
       "LAY KENNETH L    103559793.0\n",
       "Name: total_payments, dtype: float64"
      ]
     },
     "execution_count": 16,
     "metadata": {},
     "output_type": "execute_result"
    }
   ],
   "source": [
    "data_df[\"total_payments\"][data_df[\"total_payments\"] > 1e8]"
   ]
  },
  {
   "cell_type": "markdown",
   "metadata": {},
   "source": [
    "As founder and former Enron CEO, Kenneth Lay may well have received this sum. But lets confirm this by summing over all financial features corresponding to Kenneth Lay and see if the sum matches the total payments value. Deviation from the total payments value would be indicative of an error/typo in the course of setting up the dataset."
   ]
  },
  {
   "cell_type": "markdown",
   "metadata": {},
   "source": [
    "**It is required to reload the default main dataset, because we already removed some features, which are required for correctly facilitating the audit.**"
   ]
  },
  {
   "cell_type": "code",
   "execution_count": 17,
   "metadata": {
    "collapsed": false
   },
   "outputs": [
    {
     "data": {
      "text/plain": [
       "103559793.0"
      ]
     },
     "execution_count": 17,
     "metadata": {},
     "output_type": "execute_result"
    }
   ],
   "source": [
    "# load the original dataset, because some features have been removed\n",
    "financial_features = [\"salary\", \"bonus\", \"expenses\", \"other\", \"deferred_income\", \"long_term_incentive\",\n",
    "                     \"deferral_payments\", \"loan_advances\", \"director_fees\"]\n",
    "\n",
    "complete_data = pd.DataFrame.from_dict(financial_data, orient = \"index\")\n",
    "complete_data.replace(\"NaN\", np.nan, inplace = True)\n",
    "\n",
    "sum(complete_data[financial_features].loc[\"LAY KENNETH L\"].dropna())"
   ]
  },
  {
   "cell_type": "markdown",
   "metadata": {},
   "source": [
    "The sum over all financial features matches the total payment value. I will compare the total payments value with the sum of all financial featuresfor all employees."
   ]
  },
  {
   "cell_type": "code",
   "execution_count": 18,
   "metadata": {
    "collapsed": false
   },
   "outputs": [
    {
     "data": {
      "text/plain": [
       "True     123\n",
       "False     23\n",
       "dtype: int64"
      ]
     },
     "execution_count": 18,
     "metadata": {},
     "output_type": "execute_result"
    }
   ],
   "source": [
    "complete_data.apply(lambda row: sum(row[financial_features].dropna()) == row[\"total_payments\"], axis=1).value_counts()"
   ]
  },
  {
   "cell_type": "markdown",
   "metadata": {},
   "source": [
    "23 employees exhibit a mismatch between total payments and the sum of all financial features. However, False will also be returned if the value for total payments is NaN. So let's extract only those employees having a mismatch and not NaN as total payments value. Subtraction of total payments value from the sum of financial features yields value < 0 only in case of a mismatch."
   ]
  },
  {
   "cell_type": "code",
   "execution_count": 19,
   "metadata": {
    "collapsed": false
   },
   "outputs": [
    {
     "data": {
      "text/plain": [
       "BELFER ROBERT        -201715.0\n",
       "BHATNAGAR SANJAY   -15180562.0\n",
       "dtype: float64"
      ]
     },
     "execution_count": 19,
     "metadata": {},
     "output_type": "execute_result"
    }
   ],
   "source": [
    "mismatch = complete_data.apply(lambda row: sum(row[financial_features].dropna()) - row[\"total_payments\"], axis=1).dropna()\n",
    "\n",
    "mismatch[mismatch != 0]"
   ]
  },
  {
   "cell_type": "code",
   "execution_count": 20,
   "metadata": {
    "collapsed": false
   },
   "outputs": [
    {
     "name": "stdout",
     "output_type": "stream",
     "text": [
      "15456290.0\n",
      "102500.0\n"
     ]
    }
   ],
   "source": [
    "print complete_data.loc[\"BHATNAGAR SANJAY\"][\"total_payments\"]\n",
    "print complete_data.loc[\"BELFER ROBERT\"][\"total_payments\"]"
   ]
  },
  {
   "cell_type": "markdown",
   "metadata": {},
   "source": [
    "These two employees exhibit a true mismatch between their respective total payments value versus the sum of all financial features. Looking up these two entries in original pdf file, it seems that the mismatch is due to column swap (director fees instead of total payments for Belfer Robert; Expected stock options instead of total payments for Bhatnagar Sanjay).\n",
    "The wrong entries will be replaced by the sum of the financial features respectively. "
   ]
  },
  {
   "cell_type": "code",
   "execution_count": 21,
   "metadata": {
    "collapsed": false
   },
   "outputs": [],
   "source": [
    "data_df[\"total_payments\"].loc[\"BHATNAGAR SANJAY\"] = sum(complete_data.loc[\"BHATNAGAR SANJAY\"][financial_features].replace(np.nan,0))\n",
    "data_df[\"total_payments\"].loc[\"BELFER ROBERT\"] = sum(complete_data.loc[\"BELFER ROBERT\"][financial_features].replace(np.nan,0))"
   ]
  },
  {
   "cell_type": "code",
   "execution_count": 22,
   "metadata": {
    "collapsed": false
   },
   "outputs": [
    {
     "name": "stdout",
     "output_type": "stream",
     "text": [
      "275728.0\n",
      "-99215.0\n"
     ]
    }
   ],
   "source": [
    "print data_df[\"total_payments\"].loc[\"BHATNAGAR SANJAY\"]\n",
    "print data_df[\"total_payments\"].loc[\"BELFER ROBERT\"]"
   ]
  },
  {
   "cell_type": "markdown",
   "metadata": {},
   "source": [
    "Why is the new total payments value for Belfer Robert negative?"
   ]
  },
  {
   "cell_type": "code",
   "execution_count": 23,
   "metadata": {
    "collapsed": false
   },
   "outputs": [
    {
     "data": {
      "text/plain": [
       "salary                      0.0\n",
       "bonus                       0.0\n",
       "expenses                    0.0\n",
       "other                       0.0\n",
       "deferred_income             0.0\n",
       "long_term_incentive         0.0\n",
       "deferral_payments     -102500.0\n",
       "loan_advances               0.0\n",
       "director_fees            3285.0\n",
       "Name: BELFER ROBERT, dtype: float64"
      ]
     },
     "execution_count": 23,
     "metadata": {},
     "output_type": "execute_result"
    }
   ],
   "source": [
    "complete_data[financial_features].loc[\"BELFER ROBERT\"].replace(np.nan,0)"
   ]
  },
  {
   "cell_type": "markdown",
   "metadata": {},
   "source": [
    "The reason is that the corresponding value for deferral_payments is negative, but we know from the sneak peak at the dataset (section Check for irregularities and outliers) that deferral_payments have positive values. Let's check if employees other than Robert Belfer also have negative values as their corresponding deferral_payments values.  "
   ]
  },
  {
   "cell_type": "code",
   "execution_count": 24,
   "metadata": {
    "collapsed": false
   },
   "outputs": [
    {
     "data": {
      "text/plain": [
       "BELFER ROBERT   -102500.0\n",
       "Name: deferral_payments, dtype: float64"
      ]
     },
     "execution_count": 24,
     "metadata": {},
     "output_type": "execute_result"
    }
   ],
   "source": [
    "complete_data[\"deferral_payments\"][complete_data[\"deferral_payments\"] < 0]"
   ]
  },
  {
   "cell_type": "markdown",
   "metadata": {},
   "source": [
    "This is only true for Robert Belfer. I conclude that the negative value is a mistake/typo and will be transformed to a positive value."
   ]
  },
  {
   "cell_type": "code",
   "execution_count": 25,
   "metadata": {
    "collapsed": false
   },
   "outputs": [],
   "source": [
    "complete_data[\"deferral_payments\"].loc[\"BELFER ROBERT\"] = 102500"
   ]
  },
  {
   "cell_type": "markdown",
   "metadata": {},
   "source": [
    "Confirmation of successful substitution"
   ]
  },
  {
   "cell_type": "code",
   "execution_count": 26,
   "metadata": {
    "collapsed": false
   },
   "outputs": [
    {
     "data": {
      "text/plain": [
       "102500.0"
      ]
     },
     "execution_count": 26,
     "metadata": {},
     "output_type": "execute_result"
    }
   ],
   "source": [
    "complete_data[\"deferral_payments\"].loc[\"BELFER ROBERT\"]"
   ]
  },
  {
   "cell_type": "markdown",
   "metadata": {},
   "source": [
    "Let's update the total payments value in the dataset that will be used throughout the project (data_df). "
   ]
  },
  {
   "cell_type": "code",
   "execution_count": 27,
   "metadata": {
    "collapsed": true
   },
   "outputs": [],
   "source": [
    "data_df[\"total_payments\"].loc[\"BELFER ROBERT\"] = sum(complete_data.loc[\"BELFER ROBERT\"][financial_features].replace(np.nan,0))"
   ]
  },
  {
   "cell_type": "markdown",
   "metadata": {},
   "source": [
    "Confirmation of successful substitution"
   ]
  },
  {
   "cell_type": "code",
   "execution_count": 28,
   "metadata": {
    "collapsed": false
   },
   "outputs": [
    {
     "name": "stdout",
     "output_type": "stream",
     "text": [
      "105785.0\n"
     ]
    }
   ],
   "source": [
    "print data_df[\"total_payments\"].loc[\"BELFER ROBERT\"]"
   ]
  },
  {
   "cell_type": "markdown",
   "metadata": {},
   "source": [
    "*Research the single value <0 in restricted stock*"
   ]
  },
  {
   "cell_type": "code",
   "execution_count": 29,
   "metadata": {
    "collapsed": false
   },
   "outputs": [
    {
     "data": {
      "text/plain": [
       "BHATNAGAR SANJAY   -2604490.0\n",
       "Name: restricted_stock, dtype: float64"
      ]
     },
     "execution_count": 29,
     "metadata": {},
     "output_type": "execute_result"
    }
   ],
   "source": [
    "data_df[\"restricted_stock\"][data_df[\"restricted_stock\"] < 0]"
   ]
  },
  {
   "cell_type": "markdown",
   "metadata": {},
   "source": [
    "Interestingly, the negative value corresponds to Bhatnagar Sanjay, who already had a negative value in the total_payments feature. This might indicate that all feature values for Bhatnagar Sanjay are erroneously negative."
   ]
  },
  {
   "cell_type": "code",
   "execution_count": 30,
   "metadata": {
    "collapsed": false
   },
   "outputs": [
    {
     "data": {
      "text/plain": [
       "salary                             NaN\n",
       "to_messages                        523\n",
       "total_payments                  275728\n",
       "exercised_stock_options    2.60449e+06\n",
       "bonus                              NaN\n",
       "restricted_stock          -2.60449e+06\n",
       "shared_receipt_with_poi            463\n",
       "total_stock_value                  NaN\n",
       "expenses                           NaN\n",
       "from_messages                       29\n",
       "other                           137864\n",
       "from_this_person_to_poi              1\n",
       "poi                              False\n",
       "deferred_income                    NaN\n",
       "long_term_incentive                NaN\n",
       "from_poi_to_this_person              0\n",
       "Name: BHATNAGAR SANJAY, dtype: object"
      ]
     },
     "execution_count": 30,
     "metadata": {},
     "output_type": "execute_result"
    }
   ],
   "source": [
    "data_df.loc[\"BHATNAGAR SANJAY\"]"
   ]
  },
  {
   "cell_type": "markdown",
   "metadata": {},
   "source": [
    "It appears that only the restricted stock feature has a negative value (we fixed total_payments). It will be transformed to a positive value. "
   ]
  },
  {
   "cell_type": "code",
   "execution_count": 31,
   "metadata": {
    "collapsed": true
   },
   "outputs": [],
   "source": [
    "data_df[\"restricted_stock\"].loc[\"BHATNAGAR SANJAY\"] = 2.60449e+06"
   ]
  },
  {
   "cell_type": "markdown",
   "metadata": {},
   "source": [
    "Confirmation of successful substitution"
   ]
  },
  {
   "cell_type": "code",
   "execution_count": 32,
   "metadata": {
    "collapsed": false
   },
   "outputs": [
    {
     "data": {
      "text/plain": [
       "2604490.0"
      ]
     },
     "execution_count": 32,
     "metadata": {},
     "output_type": "execute_result"
    }
   ],
   "source": [
    "data_df[\"restricted_stock\"].loc[\"BHATNAGAR SANJAY\"]"
   ]
  },
  {
   "cell_type": "markdown",
   "metadata": {},
   "source": [
    "Since we discovered multiple values having a negative value but we expect a positive value, let's check if any of the other features contain negative values (excluding deferred_income)"
   ]
  },
  {
   "cell_type": "code",
   "execution_count": 33,
   "metadata": {
    "collapsed": false
   },
   "outputs": [
    {
     "data": {
      "text/plain": [
       "salary                     False\n",
       "to_messages                False\n",
       "total_payments             False\n",
       "exercised_stock_options    False\n",
       "bonus                      False\n",
       "restricted_stock           False\n",
       "shared_receipt_with_poi    False\n",
       "total_stock_value           True\n",
       "expenses                   False\n",
       "from_messages              False\n",
       "other                      False\n",
       "from_this_person_to_poi    False\n",
       "poi                        False\n",
       "deferred_income             True\n",
       "long_term_incentive        False\n",
       "from_poi_to_this_person    False\n",
       "dtype: bool"
      ]
     },
     "execution_count": 33,
     "metadata": {},
     "output_type": "execute_result"
    }
   ],
   "source": [
    "data_df.apply(lambda row: any(row < 0))"
   ]
  },
  {
   "cell_type": "markdown",
   "metadata": {},
   "source": [
    "Now, let's examine how many data points have a negative total_stock value."
   ]
  },
  {
   "cell_type": "code",
   "execution_count": 34,
   "metadata": {
    "collapsed": false
   },
   "outputs": [
    {
     "data": {
      "text/plain": [
       "BELFER ROBERT   -44093.0\n",
       "Name: total_stock_value, dtype: float64"
      ]
     },
     "execution_count": 34,
     "metadata": {},
     "output_type": "execute_result"
    }
   ],
   "source": [
    "data_df[\"total_stock_value\"][data_df[\"total_stock_value\"] < 0]"
   ]
  },
  {
   "cell_type": "markdown",
   "metadata": {},
   "source": [
    "This is true for only one employee. Negative values have already been identified for Robert Belfer (see section above). This implies a systemic mistake (all negative entries) in the course of setting up the dataset. The total_stock value will be transformed into a positive value. "
   ]
  },
  {
   "cell_type": "code",
   "execution_count": 35,
   "metadata": {
    "collapsed": false
   },
   "outputs": [],
   "source": [
    "data_df[\"total_stock_value\"].loc[\"BELFER ROBERT\"] = 44093.0"
   ]
  },
  {
   "cell_type": "markdown",
   "metadata": {},
   "source": [
    "Confirming the correction of the total_stock_value value for Robert Belfer"
   ]
  },
  {
   "cell_type": "code",
   "execution_count": 36,
   "metadata": {
    "collapsed": false
   },
   "outputs": [
    {
     "data": {
      "text/plain": [
       "44093.0"
      ]
     },
     "execution_count": 36,
     "metadata": {},
     "output_type": "execute_result"
    }
   ],
   "source": [
    "data_df[\"total_stock_value\"].loc[\"BELFER ROBERT\"]"
   ]
  },
  {
   "cell_type": "markdown",
   "metadata": {},
   "source": [
    "# Imputation"
   ]
  },
  {
   "cell_type": "markdown",
   "metadata": {},
   "source": [
    "I will make following assumption for the imputation procedure:  \n",
    "\n",
    "   1. The correlation matrix below indicates a weak correlation between data describing email communication and financial data. Strongest correlation can be observed between features related to financial data and features related to email communication, respectively. Good correlation is beneficial for imputation, because we don't care about causal relationship between those variables, but simply want accurate predictions. Therefore, imputation will be conducted separately for financial features and email features, respectively, each grouped by by the poi feature.  \n",
    "   \n",
    "\n",
    "   2. Financial data (features describing payments and stocks) is expected to have a value. E.g., salary is mandatory for employees and it makes no sense for salary to be of 0 value. Furthermore, I expect all other features related to financial data to have a value > 0 (with the exception of deferred income -negative values-).  \n",
    "   \n",
    "\n",
    "   3. Recall that the initial analysis of missing values exposed NaN in email features. From the histogram in the figure below, we can see that email features also contain 0 values. Having a closer look at email features, it seems that NaN are representative of completely missing employees, whereas 0 is used if only certain email features are missing but at least one email feature is present for a given employee. Here, 0 values are considered as true values and will not be imputed.   "
   ]
  },
  {
   "cell_type": "code",
   "execution_count": 48,
   "metadata": {
    "collapsed": false
   },
   "outputs": [
    {
     "data": {
      "image/png": "[encoded data removed]",
      "text/plain": [
       "<matplotlib.figure.Figure at 0x1123a7250>"
      ]
     },
     "metadata": {},
     "output_type": "display_data"
    }
   ],
   "source": [
    "# arrange all features (except poi) in 3 lists, each list containing 5 features. \n",
    "#--> 3x5 will be the shape of the figure\n",
    "feature_list = np.array(data_df.columns.drop([\"poi\"])).reshape(3,5)\n",
    "\n",
    "# create figure object with 15 subplots (3x5 arrangement)\n",
    "fig, axes = plt.subplots(3,5, sharex=False, sharey=False, figsize=(16,10))\n",
    "for i in range(3):\n",
    "    for j in range(5):\n",
    "        # extract each feature from the main dataframe and group by \"poi\" \n",
    "        feature = data_df[feature_list[i][j]].dropna()\n",
    "        \n",
    "        # plot histogram\n",
    "        axes[i,j].hist(feature.values, bins = 40)\n",
    "        axes[i,j].set_title(feature_list[i][j]).set_position([.5, 1.05])\n",
    "        \n",
    "plt.subplots_adjust(wspace=0.8, hspace=0.5)  "
   ]
  },
  {
   "cell_type": "code",
   "execution_count": 809,
   "metadata": {
    "collapsed": false
   },
   "outputs": [
    {
     "data": {
      "text/html": [
       "<div>\n",
       "<table border=\"1\" class=\"dataframe\">\n",
       "  <thead>\n",
       "    <tr style=\"text-align: right;\">\n",
       "      <th></th>\n",
       "      <th>salary</th>\n",
       "      <th>to_messages</th>\n",
       "      <th>total_payments</th>\n",
       "      <th>exercised_stock_options</th>\n",
       "      <th>bonus</th>\n",
       "      <th>restricted_stock</th>\n",
       "      <th>shared_receipt_with_poi</th>\n",
       "      <th>total_stock_value</th>\n",
       "      <th>expenses</th>\n",
       "      <th>from_messages</th>\n",
       "      <th>other</th>\n",
       "      <th>from_this_person_to_poi</th>\n",
       "      <th>poi</th>\n",
       "      <th>deferred_income</th>\n",
       "      <th>long_term_incentive</th>\n",
       "      <th>from_poi_to_this_person</th>\n",
       "    </tr>\n",
       "  </thead>\n",
       "  <tbody>\n",
       "    <tr>\n",
       "      <th>salary</th>\n",
       "      <td>1.000000</td>\n",
       "      <td>0.177177</td>\n",
       "      <td>0.589283</td>\n",
       "      <td>0.619883</td>\n",
       "      <td>0.523190</td>\n",
       "      <td>0.562643</td>\n",
       "      <td>0.274921</td>\n",
       "      <td>0.627087</td>\n",
       "      <td>0.147909</td>\n",
       "      <td>-0.010733</td>\n",
       "      <td>0.632684</td>\n",
       "      <td>0.012152</td>\n",
       "      <td>0.257609</td>\n",
       "      <td>-0.338275</td>\n",
       "      <td>0.483622</td>\n",
       "      <td>0.173847</td>\n",
       "    </tr>\n",
       "    <tr>\n",
       "      <th>to_messages</th>\n",
       "      <td>0.177177</td>\n",
       "      <td>1.000000</td>\n",
       "      <td>0.145492</td>\n",
       "      <td>0.079568</td>\n",
       "      <td>0.372997</td>\n",
       "      <td>0.176318</td>\n",
       "      <td>0.847990</td>\n",
       "      <td>0.120864</td>\n",
       "      <td>0.155070</td>\n",
       "      <td>0.475450</td>\n",
       "      <td>0.040580</td>\n",
       "      <td>0.568506</td>\n",
       "      <td>0.058954</td>\n",
       "      <td>-0.350815</td>\n",
       "      <td>0.134277</td>\n",
       "      <td>0.525667</td>\n",
       "    </tr>\n",
       "    <tr>\n",
       "      <th>total_payments</th>\n",
       "      <td>0.589283</td>\n",
       "      <td>0.145492</td>\n",
       "      <td>1.000000</td>\n",
       "      <td>0.597378</td>\n",
       "      <td>0.569054</td>\n",
       "      <td>0.626164</td>\n",
       "      <td>0.203986</td>\n",
       "      <td>0.668176</td>\n",
       "      <td>0.109798</td>\n",
       "      <td>-0.027616</td>\n",
       "      <td>0.834537</td>\n",
       "      <td>0.018946</td>\n",
       "      <td>0.237214</td>\n",
       "      <td>-0.054404</td>\n",
       "      <td>0.518498</td>\n",
       "      <td>0.168825</td>\n",
       "    </tr>\n",
       "    <tr>\n",
       "      <th>exercised_stock_options</th>\n",
       "      <td>0.619883</td>\n",
       "      <td>0.079568</td>\n",
       "      <td>0.597378</td>\n",
       "      <td>1.000000</td>\n",
       "      <td>0.506998</td>\n",
       "      <td>0.697974</td>\n",
       "      <td>0.154333</td>\n",
       "      <td>0.963561</td>\n",
       "      <td>0.019412</td>\n",
       "      <td>-0.066129</td>\n",
       "      <td>0.536248</td>\n",
       "      <td>-0.030101</td>\n",
       "      <td>0.503551</td>\n",
       "      <td>-0.308076</td>\n",
       "      <td>0.500016</td>\n",
       "      <td>0.160253</td>\n",
       "    </tr>\n",
       "    <tr>\n",
       "      <th>bonus</th>\n",
       "      <td>0.523190</td>\n",
       "      <td>0.372997</td>\n",
       "      <td>0.569054</td>\n",
       "      <td>0.506998</td>\n",
       "      <td>1.000000</td>\n",
       "      <td>0.376992</td>\n",
       "      <td>0.549102</td>\n",
       "      <td>0.509441</td>\n",
       "      <td>0.033799</td>\n",
       "      <td>0.052725</td>\n",
       "      <td>0.376371</td>\n",
       "      <td>0.354634</td>\n",
       "      <td>0.302384</td>\n",
       "      <td>-0.411659</td>\n",
       "      <td>0.625259</td>\n",
       "      <td>0.562187</td>\n",
       "    </tr>\n",
       "    <tr>\n",
       "      <th>restricted_stock</th>\n",
       "      <td>0.562643</td>\n",
       "      <td>0.176318</td>\n",
       "      <td>0.626164</td>\n",
       "      <td>0.697974</td>\n",
       "      <td>0.376992</td>\n",
       "      <td>1.000000</td>\n",
       "      <td>0.212713</td>\n",
       "      <td>0.855250</td>\n",
       "      <td>0.042896</td>\n",
       "      <td>-0.008696</td>\n",
       "      <td>0.647534</td>\n",
       "      <td>0.034975</td>\n",
       "      <td>0.218089</td>\n",
       "      <td>-0.133895</td>\n",
       "      <td>0.635172</td>\n",
       "      <td>0.107548</td>\n",
       "    </tr>\n",
       "    <tr>\n",
       "      <th>shared_receipt_with_poi</th>\n",
       "      <td>0.274921</td>\n",
       "      <td>0.847990</td>\n",
       "      <td>0.203986</td>\n",
       "      <td>0.154333</td>\n",
       "      <td>0.549102</td>\n",
       "      <td>0.212713</td>\n",
       "      <td>1.000000</td>\n",
       "      <td>0.176314</td>\n",
       "      <td>0.223495</td>\n",
       "      <td>0.230855</td>\n",
       "      <td>0.122591</td>\n",
       "      <td>0.475748</td>\n",
       "      <td>0.228313</td>\n",
       "      <td>-0.394677</td>\n",
       "      <td>0.178944</td>\n",
       "      <td>0.659264</td>\n",
       "    </tr>\n",
       "    <tr>\n",
       "      <th>total_stock_value</th>\n",
       "      <td>0.627087</td>\n",
       "      <td>0.120864</td>\n",
       "      <td>0.668176</td>\n",
       "      <td>0.963561</td>\n",
       "      <td>0.509441</td>\n",
       "      <td>0.855250</td>\n",
       "      <td>0.176314</td>\n",
       "      <td>1.000000</td>\n",
       "      <td>0.034707</td>\n",
       "      <td>-0.036310</td>\n",
       "      <td>0.627171</td>\n",
       "      <td>0.001289</td>\n",
       "      <td>0.366438</td>\n",
       "      <td>-0.298189</td>\n",
       "      <td>0.495485</td>\n",
       "      <td>0.146366</td>\n",
       "    </tr>\n",
       "    <tr>\n",
       "      <th>expenses</th>\n",
       "      <td>0.147909</td>\n",
       "      <td>0.155070</td>\n",
       "      <td>0.109798</td>\n",
       "      <td>0.019412</td>\n",
       "      <td>0.033799</td>\n",
       "      <td>0.042896</td>\n",
       "      <td>0.223495</td>\n",
       "      <td>0.034707</td>\n",
       "      <td>1.000000</td>\n",
       "      <td>0.094144</td>\n",
       "      <td>0.062874</td>\n",
       "      <td>0.014964</td>\n",
       "      <td>0.060292</td>\n",
       "      <td>0.101181</td>\n",
       "      <td>-0.100766</td>\n",
       "      <td>-0.059244</td>\n",
       "    </tr>\n",
       "    <tr>\n",
       "      <th>from_messages</th>\n",
       "      <td>-0.010733</td>\n",
       "      <td>0.475450</td>\n",
       "      <td>-0.027616</td>\n",
       "      <td>-0.066129</td>\n",
       "      <td>0.052725</td>\n",
       "      <td>-0.008696</td>\n",
       "      <td>0.230855</td>\n",
       "      <td>-0.036310</td>\n",
       "      <td>0.094144</td>\n",
       "      <td>1.000000</td>\n",
       "      <td>-0.101686</td>\n",
       "      <td>0.588687</td>\n",
       "      <td>-0.074308</td>\n",
       "      <td>-0.319995</td>\n",
       "      <td>-0.071958</td>\n",
       "      <td>0.186708</td>\n",
       "    </tr>\n",
       "    <tr>\n",
       "      <th>other</th>\n",
       "      <td>0.632684</td>\n",
       "      <td>0.040580</td>\n",
       "      <td>0.834537</td>\n",
       "      <td>0.536248</td>\n",
       "      <td>0.376371</td>\n",
       "      <td>0.647534</td>\n",
       "      <td>0.122591</td>\n",
       "      <td>0.627171</td>\n",
       "      <td>0.062874</td>\n",
       "      <td>-0.101686</td>\n",
       "      <td>1.000000</td>\n",
       "      <td>-0.110335</td>\n",
       "      <td>0.120270</td>\n",
       "      <td>-0.185219</td>\n",
       "      <td>0.529398</td>\n",
       "      <td>0.111249</td>\n",
       "    </tr>\n",
       "    <tr>\n",
       "      <th>from_this_person_to_poi</th>\n",
       "      <td>0.012152</td>\n",
       "      <td>0.568506</td>\n",
       "      <td>0.018946</td>\n",
       "      <td>-0.030101</td>\n",
       "      <td>0.354634</td>\n",
       "      <td>0.034975</td>\n",
       "      <td>0.475748</td>\n",
       "      <td>0.001289</td>\n",
       "      <td>0.014964</td>\n",
       "      <td>0.588687</td>\n",
       "      <td>-0.110335</td>\n",
       "      <td>1.000000</td>\n",
       "      <td>0.112940</td>\n",
       "      <td>-0.271673</td>\n",
       "      <td>0.083591</td>\n",
       "      <td>0.445063</td>\n",
       "    </tr>\n",
       "    <tr>\n",
       "      <th>poi</th>\n",
       "      <td>0.257609</td>\n",
       "      <td>0.058954</td>\n",
       "      <td>0.237214</td>\n",
       "      <td>0.503551</td>\n",
       "      <td>0.302384</td>\n",
       "      <td>0.218089</td>\n",
       "      <td>0.228313</td>\n",
       "      <td>0.366438</td>\n",
       "      <td>0.060292</td>\n",
       "      <td>-0.074308</td>\n",
       "      <td>0.120270</td>\n",
       "      <td>0.112940</td>\n",
       "      <td>1.000000</td>\n",
       "      <td>-0.265698</td>\n",
       "      <td>0.254723</td>\n",
       "      <td>0.167722</td>\n",
       "    </tr>\n",
       "    <tr>\n",
       "      <th>deferred_income</th>\n",
       "      <td>-0.338275</td>\n",
       "      <td>-0.350815</td>\n",
       "      <td>-0.054404</td>\n",
       "      <td>-0.308076</td>\n",
       "      <td>-0.411659</td>\n",
       "      <td>-0.133895</td>\n",
       "      <td>-0.394677</td>\n",
       "      <td>-0.298189</td>\n",
       "      <td>0.101181</td>\n",
       "      <td>-0.319995</td>\n",
       "      <td>-0.185219</td>\n",
       "      <td>-0.271673</td>\n",
       "      <td>-0.265698</td>\n",
       "      <td>1.000000</td>\n",
       "      <td>-0.331715</td>\n",
       "      <td>-0.178951</td>\n",
       "    </tr>\n",
       "    <tr>\n",
       "      <th>long_term_incentive</th>\n",
       "      <td>0.483622</td>\n",
       "      <td>0.134277</td>\n",
       "      <td>0.518498</td>\n",
       "      <td>0.500016</td>\n",
       "      <td>0.625259</td>\n",
       "      <td>0.635172</td>\n",
       "      <td>0.178944</td>\n",
       "      <td>0.495485</td>\n",
       "      <td>-0.100766</td>\n",
       "      <td>-0.071958</td>\n",
       "      <td>0.529398</td>\n",
       "      <td>0.083591</td>\n",
       "      <td>0.254723</td>\n",
       "      <td>-0.331715</td>\n",
       "      <td>1.000000</td>\n",
       "      <td>0.212538</td>\n",
       "    </tr>\n",
       "    <tr>\n",
       "      <th>from_poi_to_this_person</th>\n",
       "      <td>0.173847</td>\n",
       "      <td>0.525667</td>\n",
       "      <td>0.168825</td>\n",
       "      <td>0.160253</td>\n",
       "      <td>0.562187</td>\n",
       "      <td>0.107548</td>\n",
       "      <td>0.659264</td>\n",
       "      <td>0.146366</td>\n",
       "      <td>-0.059244</td>\n",
       "      <td>0.186708</td>\n",
       "      <td>0.111249</td>\n",
       "      <td>0.445063</td>\n",
       "      <td>0.167722</td>\n",
       "      <td>-0.178951</td>\n",
       "      <td>0.212538</td>\n",
       "      <td>1.000000</td>\n",
       "    </tr>\n",
       "  </tbody>\n",
       "</table>\n",
       "</div>"
      ],
      "text/plain": [
       "                           salary  to_messages  total_payments  \\\n",
       "salary                   1.000000     0.177177        0.589283   \n",
       "to_messages              0.177177     1.000000        0.145492   \n",
       "total_payments           0.589283     0.145492        1.000000   \n",
       "exercised_stock_options  0.619883     0.079568        0.597378   \n",
       "bonus                    0.523190     0.372997        0.569054   \n",
       "restricted_stock         0.562643     0.176318        0.626164   \n",
       "shared_receipt_with_poi  0.274921     0.847990        0.203986   \n",
       "total_stock_value        0.627087     0.120864        0.668176   \n",
       "expenses                 0.147909     0.155070        0.109798   \n",
       "from_messages           -0.010733     0.475450       -0.027616   \n",
       "other                    0.632684     0.040580        0.834537   \n",
       "from_this_person_to_poi  0.012152     0.568506        0.018946   \n",
       "poi                      0.257609     0.058954        0.237214   \n",
       "deferred_income         -0.338275    -0.350815       -0.054404   \n",
       "long_term_incentive      0.483622     0.134277        0.518498   \n",
       "from_poi_to_this_person  0.173847     0.525667        0.168825   \n",
       "\n",
       "                         exercised_stock_options     bonus  restricted_stock  \\\n",
       "salary                                  0.619883  0.523190          0.562643   \n",
       "to_messages                             0.079568  0.372997          0.176318   \n",
       "total_payments                          0.597378  0.569054          0.626164   \n",
       "exercised_stock_options                 1.000000  0.506998          0.697974   \n",
       "bonus                                   0.506998  1.000000          0.376992   \n",
       "restricted_stock                        0.697974  0.376992          1.000000   \n",
       "shared_receipt_with_poi                 0.154333  0.549102          0.212713   \n",
       "total_stock_value                       0.963561  0.509441          0.855250   \n",
       "expenses                                0.019412  0.033799          0.042896   \n",
       "from_messages                          -0.066129  0.052725         -0.008696   \n",
       "other                                   0.536248  0.376371          0.647534   \n",
       "from_this_person_to_poi                -0.030101  0.354634          0.034975   \n",
       "poi                                     0.503551  0.302384          0.218089   \n",
       "deferred_income                        -0.308076 -0.411659         -0.133895   \n",
       "long_term_incentive                     0.500016  0.625259          0.635172   \n",
       "from_poi_to_this_person                 0.160253  0.562187          0.107548   \n",
       "\n",
       "                         shared_receipt_with_poi  total_stock_value  expenses  \\\n",
       "salary                                  0.274921           0.627087  0.147909   \n",
       "to_messages                             0.847990           0.120864  0.155070   \n",
       "total_payments                          0.203986           0.668176  0.109798   \n",
       "exercised_stock_options                 0.154333           0.963561  0.019412   \n",
       "bonus                                   0.549102           0.509441  0.033799   \n",
       "restricted_stock                        0.212713           0.855250  0.042896   \n",
       "shared_receipt_with_poi                 1.000000           0.176314  0.223495   \n",
       "total_stock_value                       0.176314           1.000000  0.034707   \n",
       "expenses                                0.223495           0.034707  1.000000   \n",
       "from_messages                           0.230855          -0.036310  0.094144   \n",
       "other                                   0.122591           0.627171  0.062874   \n",
       "from_this_person_to_poi                 0.475748           0.001289  0.014964   \n",
       "poi                                     0.228313           0.366438  0.060292   \n",
       "deferred_income                        -0.394677          -0.298189  0.101181   \n",
       "long_term_incentive                     0.178944           0.495485 -0.100766   \n",
       "from_poi_to_this_person                 0.659264           0.146366 -0.059244   \n",
       "\n",
       "                         from_messages     other  from_this_person_to_poi  \\\n",
       "salary                       -0.010733  0.632684                 0.012152   \n",
       "to_messages                   0.475450  0.040580                 0.568506   \n",
       "total_payments               -0.027616  0.834537                 0.018946   \n",
       "exercised_stock_options      -0.066129  0.536248                -0.030101   \n",
       "bonus                         0.052725  0.376371                 0.354634   \n",
       "restricted_stock             -0.008696  0.647534                 0.034975   \n",
       "shared_receipt_with_poi       0.230855  0.122591                 0.475748   \n",
       "total_stock_value            -0.036310  0.627171                 0.001289   \n",
       "expenses                      0.094144  0.062874                 0.014964   \n",
       "from_messages                 1.000000 -0.101686                 0.588687   \n",
       "other                        -0.101686  1.000000                -0.110335   \n",
       "from_this_person_to_poi       0.588687 -0.110335                 1.000000   \n",
       "poi                          -0.074308  0.120270                 0.112940   \n",
       "deferred_income              -0.319995 -0.185219                -0.271673   \n",
       "long_term_incentive          -0.071958  0.529398                 0.083591   \n",
       "from_poi_to_this_person       0.186708  0.111249                 0.445063   \n",
       "\n",
       "                              poi  deferred_income  long_term_incentive  \\\n",
       "salary                   0.257609        -0.338275             0.483622   \n",
       "to_messages              0.058954        -0.350815             0.134277   \n",
       "total_payments           0.237214        -0.054404             0.518498   \n",
       "exercised_stock_options  0.503551        -0.308076             0.500016   \n",
       "bonus                    0.302384        -0.411659             0.625259   \n",
       "restricted_stock         0.218089        -0.133895             0.635172   \n",
       "shared_receipt_with_poi  0.228313        -0.394677             0.178944   \n",
       "total_stock_value        0.366438        -0.298189             0.495485   \n",
       "expenses                 0.060292         0.101181            -0.100766   \n",
       "from_messages           -0.074308        -0.319995            -0.071958   \n",
       "other                    0.120270        -0.185219             0.529398   \n",
       "from_this_person_to_poi  0.112940        -0.271673             0.083591   \n",
       "poi                      1.000000        -0.265698             0.254723   \n",
       "deferred_income         -0.265698         1.000000            -0.331715   \n",
       "long_term_incentive      0.254723        -0.331715             1.000000   \n",
       "from_poi_to_this_person  0.167722        -0.178951             0.212538   \n",
       "\n",
       "                         from_poi_to_this_person  \n",
       "salary                                  0.173847  \n",
       "to_messages                             0.525667  \n",
       "total_payments                          0.168825  \n",
       "exercised_stock_options                 0.160253  \n",
       "bonus                                   0.562187  \n",
       "restricted_stock                        0.107548  \n",
       "shared_receipt_with_poi                 0.659264  \n",
       "total_stock_value                       0.146366  \n",
       "expenses                               -0.059244  \n",
       "from_messages                           0.186708  \n",
       "other                                   0.111249  \n",
       "from_this_person_to_poi                 0.445063  \n",
       "poi                                     0.167722  \n",
       "deferred_income                        -0.178951  \n",
       "long_term_incentive                     0.212538  \n",
       "from_poi_to_this_person                 1.000000  "
      ]
     },
     "execution_count": 809,
     "metadata": {},
     "output_type": "execute_result"
    }
   ],
   "source": [
    "data_df.corr()"
   ]
  },
  {
   "cell_type": "markdown",
   "metadata": {},
   "source": [
    "Split the dataset into subsets by poi and drop the poi feature (no relevant information for imputation). Imputation will be conducted separately for each group.   "
   ]
  },
  {
   "cell_type": "code",
   "execution_count": 37,
   "metadata": {
    "collapsed": false
   },
   "outputs": [],
   "source": [
    "poiYes_data = data_df[data_df[\"poi\"] == True]\n",
    "poiNo_data = data_df[data_df[\"poi\"] == False]"
   ]
  },
  {
   "cell_type": "markdown",
   "metadata": {},
   "source": [
    "I decided to apply multiple imputation on missing data, because the proportion of missing data is very high for each feature. Consequently, single imputation (e.g., mean, median) would introduce a bias and strongly underestimate variance. This in turn would lead to compromised relationship between features and, thus, strongly bias model accuracy. (wrong inference because more data points assumed than actually available). Let's start with imputing missing values for financial features. "
   ]
  },
  {
   "cell_type": "code",
   "execution_count": 39,
   "metadata": {
    "collapsed": false,
    "scrolled": true
   },
   "outputs": [
    {
     "data": {
      "text/html": [
       "<div>\n",
       "<style>\n",
       "    .dataframe thead tr:only-child th {\n",
       "        text-align: right;\n",
       "    }\n",
       "\n",
       "    .dataframe thead th {\n",
       "        text-align: left;\n",
       "    }\n",
       "\n",
       "    .dataframe tbody tr th {\n",
       "        vertical-align: top;\n",
       "    }\n",
       "</style>\n",
       "<table border=\"1\" class=\"dataframe\">\n",
       "  <thead>\n",
       "    <tr style=\"text-align: right;\">\n",
       "      <th></th>\n",
       "      <th>salary</th>\n",
       "      <th>total_payments</th>\n",
       "      <th>bonus</th>\n",
       "      <th>total_stock_value</th>\n",
       "      <th>expenses</th>\n",
       "      <th>exercised_stock_options</th>\n",
       "      <th>other</th>\n",
       "      <th>deferred_income</th>\n",
       "      <th>restricted_stock</th>\n",
       "      <th>long_term_incentive</th>\n",
       "    </tr>\n",
       "  </thead>\n",
       "  <tbody>\n",
       "    <tr>\n",
       "      <th>BELDEN TIMOTHY N</th>\n",
       "      <td>213999.0</td>\n",
       "      <td>5501630.0</td>\n",
       "      <td>5249999.0</td>\n",
       "      <td>1110705.0</td>\n",
       "      <td>17355.0</td>\n",
       "      <td>9.531360e+05</td>\n",
       "      <td>210698.0</td>\n",
       "      <td>-2334434.0</td>\n",
       "      <td>157569.0</td>\n",
       "      <td>1.231696e+06</td>\n",
       "    </tr>\n",
       "    <tr>\n",
       "      <th>BOWEN JR RAYMOND M</th>\n",
       "      <td>278601.0</td>\n",
       "      <td>2669589.0</td>\n",
       "      <td>1350000.0</td>\n",
       "      <td>252055.0</td>\n",
       "      <td>65907.0</td>\n",
       "      <td>-2.503382e+05</td>\n",
       "      <td>1621.0</td>\n",
       "      <td>-833.0</td>\n",
       "      <td>252055.0</td>\n",
       "      <td>9.742930e+05</td>\n",
       "    </tr>\n",
       "    <tr>\n",
       "      <th>CALGER CHRISTOPHER F</th>\n",
       "      <td>240189.0</td>\n",
       "      <td>1639297.0</td>\n",
       "      <td>1250000.0</td>\n",
       "      <td>126027.0</td>\n",
       "      <td>35818.0</td>\n",
       "      <td>-2.078368e+05</td>\n",
       "      <td>486.0</td>\n",
       "      <td>-262500.0</td>\n",
       "      <td>126027.0</td>\n",
       "      <td>3.753040e+05</td>\n",
       "    </tr>\n",
       "    <tr>\n",
       "      <th>CAUSEY RICHARD A</th>\n",
       "      <td>415189.0</td>\n",
       "      <td>1868758.0</td>\n",
       "      <td>1000000.0</td>\n",
       "      <td>2502063.0</td>\n",
       "      <td>30674.0</td>\n",
       "      <td>1.313194e+06</td>\n",
       "      <td>307895.0</td>\n",
       "      <td>-235000.0</td>\n",
       "      <td>2502063.0</td>\n",
       "      <td>3.500000e+05</td>\n",
       "    </tr>\n",
       "    <tr>\n",
       "      <th>COLWELL WESLEY</th>\n",
       "      <td>288542.0</td>\n",
       "      <td>1490344.0</td>\n",
       "      <td>1200000.0</td>\n",
       "      <td>698242.0</td>\n",
       "      <td>16514.0</td>\n",
       "      <td>-5.494003e+04</td>\n",
       "      <td>101740.0</td>\n",
       "      <td>-144062.0</td>\n",
       "      <td>698242.0</td>\n",
       "      <td>7.692522e+05</td>\n",
       "    </tr>\n",
       "  </tbody>\n",
       "</table>\n",
       "</div>"
      ],
      "text/plain": [
       "                        salary  total_payments      bonus  total_stock_value  \\\n",
       "BELDEN TIMOTHY N      213999.0       5501630.0  5249999.0          1110705.0   \n",
       "BOWEN JR RAYMOND M    278601.0       2669589.0  1350000.0           252055.0   \n",
       "CALGER CHRISTOPHER F  240189.0       1639297.0  1250000.0           126027.0   \n",
       "CAUSEY RICHARD A      415189.0       1868758.0  1000000.0          2502063.0   \n",
       "COLWELL WESLEY        288542.0       1490344.0  1200000.0           698242.0   \n",
       "\n",
       "                      expenses  exercised_stock_options     other  \\\n",
       "BELDEN TIMOTHY N       17355.0             9.531360e+05  210698.0   \n",
       "BOWEN JR RAYMOND M     65907.0            -2.503382e+05    1621.0   \n",
       "CALGER CHRISTOPHER F   35818.0            -2.078368e+05     486.0   \n",
       "CAUSEY RICHARD A       30674.0             1.313194e+06  307895.0   \n",
       "COLWELL WESLEY         16514.0            -5.494003e+04  101740.0   \n",
       "\n",
       "                      deferred_income  restricted_stock  long_term_incentive  \n",
       "BELDEN TIMOTHY N           -2334434.0          157569.0         1.231696e+06  \n",
       "BOWEN JR RAYMOND M             -833.0          252055.0         9.742930e+05  \n",
       "CALGER CHRISTOPHER F        -262500.0          126027.0         3.753040e+05  \n",
       "CAUSEY RICHARD A            -235000.0         2502063.0         3.500000e+05  \n",
       "COLWELL WESLEY              -144062.0          698242.0         7.692522e+05  "
      ]
     },
     "execution_count": 39,
     "metadata": {},
     "output_type": "execute_result"
    }
   ],
   "source": [
    "# all email features \n",
    "email_features = set([\"to_messages\", \"shared_receipt_with_poi\", \"from_messages\", \n",
    "                \"from_this_person_to_poi\", \"from_poi_to_this_person\"])\n",
    "\n",
    "# all financial status-relevant features including the feature for poi\n",
    "financial_features = set(data_df.columns) - email_features\n",
    "financial_features.remove(\"poi\")\n",
    "\n",
    "poi_data_filled = MICE(n_imputations=500, verbose=False).complete(np.array(poiYes_data[list(financial_features)]))\n",
    "poi_data_filled = pd.DataFrame(poi_data_filled)\n",
    "#use indices to reconstruct the dataframe after imputation\n",
    "poi_data_filled.index = poiYes_data.index\n",
    "\n",
    "poi_data_filled.columns = poiYes_data[list(financial_features)].columns\n",
    "poi_data_filled.head(5)"
   ]
  },
  {
   "cell_type": "markdown",
   "metadata": {},
   "source": [
    "Imputation results in negative values for exercised stock options. This might be due to the skewed distribution in each features. As evident from the histogram series in the figure below, the distribution in each feature approaches normal distribution following log10 transformation."
   ]
  },
  {
   "cell_type": "code",
   "execution_count": 1429,
   "metadata": {
    "collapsed": false
   },
   "outputs": [
    {
     "data": {
      "image/png": "[encoded data removed]",
      "text/plain": [
       "<matplotlib.figure.Figure at 0x1222be210>"
      ]
     },
     "metadata": {},
     "output_type": "display_data"
    }
   ],
   "source": [
    "# create figure object with 15 subplots (3x5 arrangement)\n",
    "fig, axes = plt.subplots(3,5, sharex=False, sharey=False, figsize=(16,10))\n",
    "for i in range(3):\n",
    "    for j in range(5):\n",
    "        try:\n",
    "            # extract each feature from the main dataframe and group by \"poi\" \n",
    "            feature = data_df[feature_list[i][j]].dropna()\n",
    "            # transform 0 to non-zero values to allow log10 transformation\n",
    "            feature = feature+1\n",
    "            # convert deferred income to positive values to allow log10 transformation\n",
    "            if feature_list[i][j] == \"deferred_income\":\n",
    "                feature *= -1 \n",
    "            # plot histogram\n",
    "            axes[i,j].hist(np.log10(feature.values), bins = 40)\n",
    "            axes[i,j].set_title(feature_list[i][j]).set_position([.5, 1.05])\n",
    "        except IndexError:\n",
    "            continue\n",
    "plt.subplots_adjust(wspace=0.8, hspace=0.5)  "
   ]
  },
  {
   "cell_type": "markdown",
   "metadata": {},
   "source": [
    "Let's repeat imputation, however, using log10 scale for each feature. After imputation, features will be transformed to linear scale. \n",
    "(*use MultipleImputation function from imputation.py)*"
   ]
  },
  {
   "cell_type": "code",
   "execution_count": 97,
   "metadata": {
    "collapsed": false
   },
   "outputs": [
    {
     "data": {
      "text/html": [
       "<div>\n",
       "<style>\n",
       "    .dataframe thead tr:only-child th {\n",
       "        text-align: right;\n",
       "    }\n",
       "\n",
       "    .dataframe thead th {\n",
       "        text-align: left;\n",
       "    }\n",
       "\n",
       "    .dataframe tbody tr th {\n",
       "        vertical-align: top;\n",
       "    }\n",
       "</style>\n",
       "<table border=\"1\" class=\"dataframe\">\n",
       "  <thead>\n",
       "    <tr style=\"text-align: right;\">\n",
       "      <th></th>\n",
       "      <th>salary</th>\n",
       "      <th>total_payments</th>\n",
       "      <th>bonus</th>\n",
       "      <th>total_stock_value</th>\n",
       "      <th>expenses</th>\n",
       "      <th>exercised_stock_options</th>\n",
       "      <th>other</th>\n",
       "      <th>deferred_income</th>\n",
       "      <th>restricted_stock</th>\n",
       "      <th>long_term_incentive</th>\n",
       "      <th>from_poi_to_this_person</th>\n",
       "      <th>to_messages</th>\n",
       "      <th>from_messages</th>\n",
       "      <th>from_this_person_to_poi</th>\n",
       "      <th>shared_receipt_with_poi</th>\n",
       "      <th>poi</th>\n",
       "    </tr>\n",
       "  </thead>\n",
       "  <tbody>\n",
       "    <tr>\n",
       "      <th>RICE KENNETH D</th>\n",
       "      <td>420636.0</td>\n",
       "      <td>505050.0</td>\n",
       "      <td>1.750000e+06</td>\n",
       "      <td>22542539.0</td>\n",
       "      <td>46950.0</td>\n",
       "      <td>19794175.0</td>\n",
       "      <td>174839.0</td>\n",
       "      <td>-3.504386e+06</td>\n",
       "      <td>2748364.0</td>\n",
       "      <td>1.617011e+06</td>\n",
       "      <td>42.000000</td>\n",
       "      <td>905.000000</td>\n",
       "      <td>18.000000</td>\n",
       "      <td>4.000000</td>\n",
       "      <td>864.000000</td>\n",
       "      <td>True</td>\n",
       "    </tr>\n",
       "    <tr>\n",
       "      <th>RIEKER PAULA H</th>\n",
       "      <td>249201.0</td>\n",
       "      <td>1099100.0</td>\n",
       "      <td>7.000000e+05</td>\n",
       "      <td>1918887.0</td>\n",
       "      <td>33271.0</td>\n",
       "      <td>1635238.0</td>\n",
       "      <td>1950.0</td>\n",
       "      <td>-1.000000e+05</td>\n",
       "      <td>283649.0</td>\n",
       "      <td>7.596885e+05</td>\n",
       "      <td>35.000000</td>\n",
       "      <td>1328.000000</td>\n",
       "      <td>82.000000</td>\n",
       "      <td>48.000000</td>\n",
       "      <td>1258.000000</td>\n",
       "      <td>True</td>\n",
       "    </tr>\n",
       "    <tr>\n",
       "      <th>SHELBY REX</th>\n",
       "      <td>211844.0</td>\n",
       "      <td>2003885.0</td>\n",
       "      <td>2.000000e+05</td>\n",
       "      <td>2493616.0</td>\n",
       "      <td>22884.0</td>\n",
       "      <td>1624396.0</td>\n",
       "      <td>1573324.0</td>\n",
       "      <td>-4.167000e+03</td>\n",
       "      <td>869220.0</td>\n",
       "      <td>4.569229e+05</td>\n",
       "      <td>13.000000</td>\n",
       "      <td>225.000000</td>\n",
       "      <td>39.000000</td>\n",
       "      <td>14.000000</td>\n",
       "      <td>91.000000</td>\n",
       "      <td>True</td>\n",
       "    </tr>\n",
       "    <tr>\n",
       "      <th>SKILLING JEFFREY K</th>\n",
       "      <td>1111258.0</td>\n",
       "      <td>8682716.0</td>\n",
       "      <td>5.600000e+06</td>\n",
       "      <td>26093672.0</td>\n",
       "      <td>29336.0</td>\n",
       "      <td>19250000.0</td>\n",
       "      <td>22122.0</td>\n",
       "      <td>-5.738706e+05</td>\n",
       "      <td>6843672.0</td>\n",
       "      <td>1.920000e+06</td>\n",
       "      <td>88.000000</td>\n",
       "      <td>3627.000000</td>\n",
       "      <td>108.000000</td>\n",
       "      <td>30.000000</td>\n",
       "      <td>2042.000000</td>\n",
       "      <td>True</td>\n",
       "    </tr>\n",
       "    <tr>\n",
       "      <th>YEAGER F SCOTT</th>\n",
       "      <td>158403.0</td>\n",
       "      <td>360300.0</td>\n",
       "      <td>1.178640e+06</td>\n",
       "      <td>11884758.0</td>\n",
       "      <td>53947.0</td>\n",
       "      <td>8308552.0</td>\n",
       "      <td>147950.0</td>\n",
       "      <td>-9.604029e+05</td>\n",
       "      <td>3576206.0</td>\n",
       "      <td>9.905317e+05</td>\n",
       "      <td>73.562195</td>\n",
       "      <td>1713.589655</td>\n",
       "      <td>76.365948</td>\n",
       "      <td>23.628642</td>\n",
       "      <td>1243.347989</td>\n",
       "      <td>True</td>\n",
       "    </tr>\n",
       "  </tbody>\n",
       "</table>\n",
       "</div>"
      ],
      "text/plain": [
       "                       salary  total_payments         bonus  \\\n",
       "RICE KENNETH D       420636.0        505050.0  1.750000e+06   \n",
       "RIEKER PAULA H       249201.0       1099100.0  7.000000e+05   \n",
       "SHELBY REX           211844.0       2003885.0  2.000000e+05   \n",
       "SKILLING JEFFREY K  1111258.0       8682716.0  5.600000e+06   \n",
       "YEAGER F SCOTT       158403.0        360300.0  1.178640e+06   \n",
       "\n",
       "                    total_stock_value  expenses  exercised_stock_options  \\\n",
       "RICE KENNETH D             22542539.0   46950.0               19794175.0   \n",
       "RIEKER PAULA H              1918887.0   33271.0                1635238.0   \n",
       "SHELBY REX                  2493616.0   22884.0                1624396.0   \n",
       "SKILLING JEFFREY K         26093672.0   29336.0               19250000.0   \n",
       "YEAGER F SCOTT             11884758.0   53947.0                8308552.0   \n",
       "\n",
       "                        other  deferred_income  restricted_stock  \\\n",
       "RICE KENNETH D       174839.0    -3.504386e+06         2748364.0   \n",
       "RIEKER PAULA H         1950.0    -1.000000e+05          283649.0   \n",
       "SHELBY REX          1573324.0    -4.167000e+03          869220.0   \n",
       "SKILLING JEFFREY K    22122.0    -5.738706e+05         6843672.0   \n",
       "YEAGER F SCOTT       147950.0    -9.604029e+05         3576206.0   \n",
       "\n",
       "                    long_term_incentive  from_poi_to_this_person  to_messages  \\\n",
       "RICE KENNETH D             1.617011e+06                42.000000   905.000000   \n",
       "RIEKER PAULA H             7.596885e+05                35.000000  1328.000000   \n",
       "SHELBY REX                 4.569229e+05                13.000000   225.000000   \n",
       "SKILLING JEFFREY K         1.920000e+06                88.000000  3627.000000   \n",
       "YEAGER F SCOTT             9.905317e+05                73.562195  1713.589655   \n",
       "\n",
       "                    from_messages  from_this_person_to_poi  \\\n",
       "RICE KENNETH D          18.000000                 4.000000   \n",
       "RIEKER PAULA H          82.000000                48.000000   \n",
       "SHELBY REX              39.000000                14.000000   \n",
       "SKILLING JEFFREY K     108.000000                30.000000   \n",
       "YEAGER F SCOTT          76.365948                23.628642   \n",
       "\n",
       "                    shared_receipt_with_poi   poi  \n",
       "RICE KENNETH D                   864.000000  True  \n",
       "RIEKER PAULA H                  1258.000000  True  \n",
       "SHELBY REX                        91.000000  True  \n",
       "SKILLING JEFFREY K              2042.000000  True  \n",
       "YEAGER F SCOTT                  1243.347989  True  "
      ]
     },
     "execution_count": 97,
     "metadata": {},
     "output_type": "execute_result"
    }
   ],
   "source": [
    "from imputation import MultipleImputation\n",
    "\n",
    "financial_features_poi_imputed = MultipleImputation(poiYes_data, financial_features)\n",
    "email_features_poi_imputed = MultipleImputation(poiYes_data,  email_features)\n",
    "\n",
    "poi_data_filled = pd.merge(financial_features_poi_imputed, email_features_poi_imputed, left_index=True, right_index=True)\n",
    "poi_data_filled[\"poi\"] = data_df[\"poi\"]\n",
    "poi_data_filled.tail(5)"
   ]
  },
  {
   "cell_type": "markdown",
   "metadata": {},
   "source": [
    "Following transformation to log10 scale, multiple imputation returns reasonable (positive) values for excercised stock options. So let's apply the same imputation strategy to data related to regular employees (not poi)."
   ]
  },
  {
   "cell_type": "markdown",
   "metadata": {},
   "source": [
    "*before imputation of non-poi values*"
   ]
  },
  {
   "cell_type": "code",
   "execution_count": 98,
   "metadata": {
    "collapsed": false
   },
   "outputs": [
    {
     "data": {
      "text/html": [
       "<div>\n",
       "<style>\n",
       "    .dataframe thead tr:only-child th {\n",
       "        text-align: right;\n",
       "    }\n",
       "\n",
       "    .dataframe thead th {\n",
       "        text-align: left;\n",
       "    }\n",
       "\n",
       "    .dataframe tbody tr th {\n",
       "        vertical-align: top;\n",
       "    }\n",
       "</style>\n",
       "<table border=\"1\" class=\"dataframe\">\n",
       "  <thead>\n",
       "    <tr style=\"text-align: right;\">\n",
       "      <th></th>\n",
       "      <th>salary</th>\n",
       "      <th>to_messages</th>\n",
       "      <th>total_payments</th>\n",
       "      <th>exercised_stock_options</th>\n",
       "      <th>bonus</th>\n",
       "      <th>restricted_stock</th>\n",
       "      <th>shared_receipt_with_poi</th>\n",
       "      <th>total_stock_value</th>\n",
       "      <th>expenses</th>\n",
       "      <th>from_messages</th>\n",
       "      <th>other</th>\n",
       "      <th>from_this_person_to_poi</th>\n",
       "      <th>poi</th>\n",
       "      <th>deferred_income</th>\n",
       "      <th>long_term_incentive</th>\n",
       "      <th>from_poi_to_this_person</th>\n",
       "    </tr>\n",
       "  </thead>\n",
       "  <tbody>\n",
       "    <tr>\n",
       "      <th>ALLEN PHILLIP K</th>\n",
       "      <td>201955.0</td>\n",
       "      <td>2902.0</td>\n",
       "      <td>4484442.0</td>\n",
       "      <td>1729541.0</td>\n",
       "      <td>4175000.0</td>\n",
       "      <td>126027.0</td>\n",
       "      <td>1407.0</td>\n",
       "      <td>1729541.0</td>\n",
       "      <td>13868.0</td>\n",
       "      <td>2195.0</td>\n",
       "      <td>152.0</td>\n",
       "      <td>65.0</td>\n",
       "      <td>False</td>\n",
       "      <td>-3081055.0</td>\n",
       "      <td>304805.0</td>\n",
       "      <td>47.0</td>\n",
       "    </tr>\n",
       "    <tr>\n",
       "      <th>BADUM JAMES P</th>\n",
       "      <td>NaN</td>\n",
       "      <td>NaN</td>\n",
       "      <td>182466.0</td>\n",
       "      <td>257817.0</td>\n",
       "      <td>NaN</td>\n",
       "      <td>NaN</td>\n",
       "      <td>NaN</td>\n",
       "      <td>257817.0</td>\n",
       "      <td>3486.0</td>\n",
       "      <td>NaN</td>\n",
       "      <td>NaN</td>\n",
       "      <td>NaN</td>\n",
       "      <td>False</td>\n",
       "      <td>NaN</td>\n",
       "      <td>NaN</td>\n",
       "      <td>NaN</td>\n",
       "    </tr>\n",
       "    <tr>\n",
       "      <th>BANNANTINE JAMES M</th>\n",
       "      <td>258741.0</td>\n",
       "      <td>566.0</td>\n",
       "      <td>916197.0</td>\n",
       "      <td>4046157.0</td>\n",
       "      <td>NaN</td>\n",
       "      <td>1757552.0</td>\n",
       "      <td>465.0</td>\n",
       "      <td>5243487.0</td>\n",
       "      <td>56301.0</td>\n",
       "      <td>29.0</td>\n",
       "      <td>864523.0</td>\n",
       "      <td>0.0</td>\n",
       "      <td>False</td>\n",
       "      <td>-5104.0</td>\n",
       "      <td>NaN</td>\n",
       "      <td>39.0</td>\n",
       "    </tr>\n",
       "    <tr>\n",
       "      <th>BAXTER JOHN C</th>\n",
       "      <td>267102.0</td>\n",
       "      <td>NaN</td>\n",
       "      <td>5634343.0</td>\n",
       "      <td>6680544.0</td>\n",
       "      <td>1200000.0</td>\n",
       "      <td>3942714.0</td>\n",
       "      <td>NaN</td>\n",
       "      <td>10623258.0</td>\n",
       "      <td>11200.0</td>\n",
       "      <td>NaN</td>\n",
       "      <td>2660303.0</td>\n",
       "      <td>NaN</td>\n",
       "      <td>False</td>\n",
       "      <td>-1386055.0</td>\n",
       "      <td>1586055.0</td>\n",
       "      <td>NaN</td>\n",
       "    </tr>\n",
       "    <tr>\n",
       "      <th>BAY FRANKLIN R</th>\n",
       "      <td>239671.0</td>\n",
       "      <td>NaN</td>\n",
       "      <td>827696.0</td>\n",
       "      <td>NaN</td>\n",
       "      <td>400000.0</td>\n",
       "      <td>145796.0</td>\n",
       "      <td>NaN</td>\n",
       "      <td>63014.0</td>\n",
       "      <td>129142.0</td>\n",
       "      <td>NaN</td>\n",
       "      <td>69.0</td>\n",
       "      <td>NaN</td>\n",
       "      <td>False</td>\n",
       "      <td>-201641.0</td>\n",
       "      <td>NaN</td>\n",
       "      <td>NaN</td>\n",
       "    </tr>\n",
       "  </tbody>\n",
       "</table>\n",
       "</div>"
      ],
      "text/plain": [
       "                      salary  to_messages  total_payments  \\\n",
       "ALLEN PHILLIP K     201955.0       2902.0       4484442.0   \n",
       "BADUM JAMES P            NaN          NaN        182466.0   \n",
       "BANNANTINE JAMES M  258741.0        566.0        916197.0   \n",
       "BAXTER JOHN C       267102.0          NaN       5634343.0   \n",
       "BAY FRANKLIN R      239671.0          NaN        827696.0   \n",
       "\n",
       "                    exercised_stock_options      bonus  restricted_stock  \\\n",
       "ALLEN PHILLIP K                   1729541.0  4175000.0          126027.0   \n",
       "BADUM JAMES P                      257817.0        NaN               NaN   \n",
       "BANNANTINE JAMES M                4046157.0        NaN         1757552.0   \n",
       "BAXTER JOHN C                     6680544.0  1200000.0         3942714.0   \n",
       "BAY FRANKLIN R                          NaN   400000.0          145796.0   \n",
       "\n",
       "                    shared_receipt_with_poi  total_stock_value  expenses  \\\n",
       "ALLEN PHILLIP K                      1407.0          1729541.0   13868.0   \n",
       "BADUM JAMES P                           NaN           257817.0    3486.0   \n",
       "BANNANTINE JAMES M                    465.0          5243487.0   56301.0   \n",
       "BAXTER JOHN C                           NaN         10623258.0   11200.0   \n",
       "BAY FRANKLIN R                          NaN            63014.0  129142.0   \n",
       "\n",
       "                    from_messages      other  from_this_person_to_poi    poi  \\\n",
       "ALLEN PHILLIP K            2195.0      152.0                     65.0  False   \n",
       "BADUM JAMES P                 NaN        NaN                      NaN  False   \n",
       "BANNANTINE JAMES M           29.0   864523.0                      0.0  False   \n",
       "BAXTER JOHN C                 NaN  2660303.0                      NaN  False   \n",
       "BAY FRANKLIN R                NaN       69.0                      NaN  False   \n",
       "\n",
       "                    deferred_income  long_term_incentive  \\\n",
       "ALLEN PHILLIP K          -3081055.0             304805.0   \n",
       "BADUM JAMES P                   NaN                  NaN   \n",
       "BANNANTINE JAMES M          -5104.0                  NaN   \n",
       "BAXTER JOHN C            -1386055.0            1586055.0   \n",
       "BAY FRANKLIN R            -201641.0                  NaN   \n",
       "\n",
       "                    from_poi_to_this_person  \n",
       "ALLEN PHILLIP K                        47.0  \n",
       "BADUM JAMES P                           NaN  \n",
       "BANNANTINE JAMES M                     39.0  \n",
       "BAXTER JOHN C                           NaN  \n",
       "BAY FRANKLIN R                          NaN  "
      ]
     },
     "execution_count": 98,
     "metadata": {},
     "output_type": "execute_result"
    }
   ],
   "source": [
    "data_df[data_df[\"poi\"] == False].head(5)"
   ]
  },
  {
   "cell_type": "markdown",
   "metadata": {},
   "source": [
    "*after imputation of non-poi values*"
   ]
  },
  {
   "cell_type": "code",
   "execution_count": 99,
   "metadata": {
    "collapsed": false,
    "scrolled": true
   },
   "outputs": [
    {
     "data": {
      "text/html": [
       "<div>\n",
       "<style>\n",
       "    .dataframe thead tr:only-child th {\n",
       "        text-align: right;\n",
       "    }\n",
       "\n",
       "    .dataframe thead th {\n",
       "        text-align: left;\n",
       "    }\n",
       "\n",
       "    .dataframe tbody tr th {\n",
       "        vertical-align: top;\n",
       "    }\n",
       "</style>\n",
       "<table border=\"1\" class=\"dataframe\">\n",
       "  <thead>\n",
       "    <tr style=\"text-align: right;\">\n",
       "      <th></th>\n",
       "      <th>salary</th>\n",
       "      <th>total_payments</th>\n",
       "      <th>bonus</th>\n",
       "      <th>total_stock_value</th>\n",
       "      <th>expenses</th>\n",
       "      <th>exercised_stock_options</th>\n",
       "      <th>other</th>\n",
       "      <th>deferred_income</th>\n",
       "      <th>restricted_stock</th>\n",
       "      <th>long_term_incentive</th>\n",
       "      <th>from_poi_to_this_person</th>\n",
       "      <th>to_messages</th>\n",
       "      <th>from_messages</th>\n",
       "      <th>from_this_person_to_poi</th>\n",
       "      <th>shared_receipt_with_poi</th>\n",
       "      <th>poi</th>\n",
       "    </tr>\n",
       "  </thead>\n",
       "  <tbody>\n",
       "    <tr>\n",
       "      <th>ALLEN PHILLIP K</th>\n",
       "      <td>201955.00000</td>\n",
       "      <td>4484442.0</td>\n",
       "      <td>4.175000e+06</td>\n",
       "      <td>1729541.0</td>\n",
       "      <td>13868.0</td>\n",
       "      <td>1.729541e+06</td>\n",
       "      <td>1.520000e+02</td>\n",
       "      <td>-3.081055e+06</td>\n",
       "      <td>1.260270e+05</td>\n",
       "      <td>3.048050e+05</td>\n",
       "      <td>47.000000</td>\n",
       "      <td>2902.000000</td>\n",
       "      <td>2195.000000</td>\n",
       "      <td>65.000000</td>\n",
       "      <td>1407.000000</td>\n",
       "      <td>False</td>\n",
       "    </tr>\n",
       "    <tr>\n",
       "      <th>BADUM JAMES P</th>\n",
       "      <td>186960.85553</td>\n",
       "      <td>182466.0</td>\n",
       "      <td>3.161551e+05</td>\n",
       "      <td>257817.0</td>\n",
       "      <td>3486.0</td>\n",
       "      <td>2.578170e+05</td>\n",
       "      <td>4.107662e+03</td>\n",
       "      <td>-8.302308e+04</td>\n",
       "      <td>2.497844e+05</td>\n",
       "      <td>2.140665e+05</td>\n",
       "      <td>18.954550</td>\n",
       "      <td>1004.775337</td>\n",
       "      <td>79.562761</td>\n",
       "      <td>6.274474</td>\n",
       "      <td>441.660188</td>\n",
       "      <td>False</td>\n",
       "    </tr>\n",
       "    <tr>\n",
       "      <th>BANNANTINE JAMES M</th>\n",
       "      <td>258741.00000</td>\n",
       "      <td>916197.0</td>\n",
       "      <td>6.704782e+05</td>\n",
       "      <td>5243487.0</td>\n",
       "      <td>56301.0</td>\n",
       "      <td>4.046157e+06</td>\n",
       "      <td>8.645230e+05</td>\n",
       "      <td>-5.104000e+03</td>\n",
       "      <td>1.757552e+06</td>\n",
       "      <td>3.821881e+05</td>\n",
       "      <td>39.000000</td>\n",
       "      <td>566.000000</td>\n",
       "      <td>29.000000</td>\n",
       "      <td>0.000000</td>\n",
       "      <td>465.000000</td>\n",
       "      <td>False</td>\n",
       "    </tr>\n",
       "    <tr>\n",
       "      <th>BAXTER JOHN C</th>\n",
       "      <td>267102.00000</td>\n",
       "      <td>5634343.0</td>\n",
       "      <td>1.200000e+06</td>\n",
       "      <td>10623258.0</td>\n",
       "      <td>11200.0</td>\n",
       "      <td>6.680544e+06</td>\n",
       "      <td>2.660303e+06</td>\n",
       "      <td>-1.386055e+06</td>\n",
       "      <td>3.942714e+06</td>\n",
       "      <td>1.586055e+06</td>\n",
       "      <td>20.400568</td>\n",
       "      <td>1019.726056</td>\n",
       "      <td>69.098637</td>\n",
       "      <td>5.588987</td>\n",
       "      <td>468.715836</td>\n",
       "      <td>False</td>\n",
       "    </tr>\n",
       "    <tr>\n",
       "      <th>BAY FRANKLIN R</th>\n",
       "      <td>239671.00000</td>\n",
       "      <td>827696.0</td>\n",
       "      <td>4.000000e+05</td>\n",
       "      <td>63014.0</td>\n",
       "      <td>129142.0</td>\n",
       "      <td>1.663380e+05</td>\n",
       "      <td>6.900000e+01</td>\n",
       "      <td>-2.016410e+05</td>\n",
       "      <td>1.457960e+05</td>\n",
       "      <td>2.415097e+05</td>\n",
       "      <td>18.597281</td>\n",
       "      <td>963.534609</td>\n",
       "      <td>85.987848</td>\n",
       "      <td>6.512549</td>\n",
       "      <td>396.985983</td>\n",
       "      <td>False</td>\n",
       "    </tr>\n",
       "  </tbody>\n",
       "</table>\n",
       "</div>"
      ],
      "text/plain": [
       "                          salary  total_payments         bonus  \\\n",
       "ALLEN PHILLIP K     201955.00000       4484442.0  4.175000e+06   \n",
       "BADUM JAMES P       186960.85553        182466.0  3.161551e+05   \n",
       "BANNANTINE JAMES M  258741.00000        916197.0  6.704782e+05   \n",
       "BAXTER JOHN C       267102.00000       5634343.0  1.200000e+06   \n",
       "BAY FRANKLIN R      239671.00000        827696.0  4.000000e+05   \n",
       "\n",
       "                    total_stock_value  expenses  exercised_stock_options  \\\n",
       "ALLEN PHILLIP K             1729541.0   13868.0             1.729541e+06   \n",
       "BADUM JAMES P                257817.0    3486.0             2.578170e+05   \n",
       "BANNANTINE JAMES M          5243487.0   56301.0             4.046157e+06   \n",
       "BAXTER JOHN C              10623258.0   11200.0             6.680544e+06   \n",
       "BAY FRANKLIN R                63014.0  129142.0             1.663380e+05   \n",
       "\n",
       "                           other  deferred_income  restricted_stock  \\\n",
       "ALLEN PHILLIP K     1.520000e+02    -3.081055e+06      1.260270e+05   \n",
       "BADUM JAMES P       4.107662e+03    -8.302308e+04      2.497844e+05   \n",
       "BANNANTINE JAMES M  8.645230e+05    -5.104000e+03      1.757552e+06   \n",
       "BAXTER JOHN C       2.660303e+06    -1.386055e+06      3.942714e+06   \n",
       "BAY FRANKLIN R      6.900000e+01    -2.016410e+05      1.457960e+05   \n",
       "\n",
       "                    long_term_incentive  from_poi_to_this_person  to_messages  \\\n",
       "ALLEN PHILLIP K            3.048050e+05                47.000000  2902.000000   \n",
       "BADUM JAMES P              2.140665e+05                18.954550  1004.775337   \n",
       "BANNANTINE JAMES M         3.821881e+05                39.000000   566.000000   \n",
       "BAXTER JOHN C              1.586055e+06                20.400568  1019.726056   \n",
       "BAY FRANKLIN R             2.415097e+05                18.597281   963.534609   \n",
       "\n",
       "                    from_messages  from_this_person_to_poi  \\\n",
       "ALLEN PHILLIP K       2195.000000                65.000000   \n",
       "BADUM JAMES P           79.562761                 6.274474   \n",
       "BANNANTINE JAMES M      29.000000                 0.000000   \n",
       "BAXTER JOHN C           69.098637                 5.588987   \n",
       "BAY FRANKLIN R          85.987848                 6.512549   \n",
       "\n",
       "                    shared_receipt_with_poi    poi  \n",
       "ALLEN PHILLIP K                 1407.000000  False  \n",
       "BADUM JAMES P                    441.660188  False  \n",
       "BANNANTINE JAMES M               465.000000  False  \n",
       "BAXTER JOHN C                    468.715836  False  \n",
       "BAY FRANKLIN R                   396.985983  False  "
      ]
     },
     "execution_count": 99,
     "metadata": {},
     "output_type": "execute_result"
    }
   ],
   "source": [
    "financial_features_not_poi_imputed = MultipleImputation(poiNo_data, financial_features)\n",
    "email_features_not_poi_imputed = MultipleImputation(poiNo_data, email_features)\n",
    "\n",
    "not_poi_data_filled = pd.merge(financial_features_not_poi_imputed, email_features_not_poi_imputed, left_index=True, right_index=True)\n",
    "not_poi_data_filled[\"poi\"] = data_df[\"poi\"]\n",
    "not_poi_data_filled.head(5)"
   ]
  },
  {
   "cell_type": "markdown",
   "metadata": {},
   "source": [
    "The non-poi subset values are as expected following the aforementioned imputation technique. Imputation of missing values in email features results in float estimates (technically not possible), which however, is irrelevant in downstream analysis and will  be ignored.  "
   ]
  },
  {
   "cell_type": "markdown",
   "metadata": {},
   "source": [
    "Following Imputation, combine email and financial subsets back into one dataframe."
   ]
  },
  {
   "cell_type": "code",
   "execution_count": 100,
   "metadata": {
    "collapsed": false
   },
   "outputs": [],
   "source": [
    "data_df = pd.concat([poi_data_filled, not_poi_data_filled], axis=0)"
   ]
  },
  {
   "cell_type": "code",
   "execution_count": 101,
   "metadata": {
    "collapsed": false
   },
   "outputs": [
    {
     "name": "stdout",
     "output_type": "stream",
     "text": [
      "BEFORE IMPUTATION\n",
      "\n",
      "\n",
      "salary                        NaN\n",
      "to_messages                   NaN\n",
      "total_payments             182466\n",
      "exercised_stock_options    257817\n",
      "bonus                         NaN\n",
      "restricted_stock              NaN\n",
      "shared_receipt_with_poi       NaN\n",
      "total_stock_value          257817\n",
      "expenses                     3486\n",
      "from_messages                 NaN\n",
      "other                         NaN\n",
      "from_this_person_to_poi       NaN\n",
      "poi                         False\n",
      "deferred_income               NaN\n",
      "long_term_incentive           NaN\n",
      "from_poi_to_this_person       NaN\n",
      "Name: BADUM JAMES P, dtype: object\n",
      "\n",
      "\n",
      "\n",
      "AFTER COMPLETE IMPUTATION\n",
      "\n",
      "\n",
      "salary                      186961\n",
      "total_payments              182466\n",
      "bonus                       316155\n",
      "total_stock_value           257817\n",
      "expenses                      3486\n",
      "exercised_stock_options     257817\n",
      "other                      4107.66\n",
      "deferred_income           -83023.1\n",
      "restricted_stock            249784\n",
      "long_term_incentive         214067\n",
      "from_poi_to_this_person    18.9545\n",
      "to_messages                1004.78\n",
      "from_messages              79.5628\n",
      "from_this_person_to_poi    6.27447\n",
      "shared_receipt_with_poi     441.66\n",
      "poi                          False\n",
      "Name: BADUM JAMES P, dtype: object\n"
     ]
    }
   ],
   "source": [
    "print \"BEFORE IMPUTATION\"\n",
    "print \"\\n\"\n",
    "print poiNo_data.loc[\"BADUM JAMES P\"]\n",
    "print \"\\n\\n\"\n",
    "print \"AFTER COMPLETE IMPUTATION\"\n",
    "print \"\\n\"\n",
    "print data_df.loc[\"BADUM JAMES P\"]"
   ]
  },
  {
   "cell_type": "markdown",
   "metadata": {},
   "source": [
    "Comparing a data point (\"BADUM JAMES P\") before and after final imputation confirms the validity of the remerged dataset, which is to be used in downstream steps. "
   ]
  },
  {
   "cell_type": "markdown",
   "metadata": {},
   "source": [
    "Shuffling the merged dataset, which lists all poi-class employees followed by non-poi-class employees, is recommended to avoid any bias in downstream data processing."
   ]
  },
  {
   "cell_type": "code",
   "execution_count": 102,
   "metadata": {
    "collapsed": false,
    "scrolled": true
   },
   "outputs": [
    {
     "name": "stdout",
     "output_type": "stream",
     "text": [
      "BEFORE SHUFFELING\n"
     ]
    },
    {
     "data": {
      "text/html": [
       "<div>\n",
       "<style>\n",
       "    .dataframe thead tr:only-child th {\n",
       "        text-align: right;\n",
       "    }\n",
       "\n",
       "    .dataframe thead th {\n",
       "        text-align: left;\n",
       "    }\n",
       "\n",
       "    .dataframe tbody tr th {\n",
       "        vertical-align: top;\n",
       "    }\n",
       "</style>\n",
       "<table border=\"1\" class=\"dataframe\">\n",
       "  <thead>\n",
       "    <tr style=\"text-align: right;\">\n",
       "      <th></th>\n",
       "      <th>salary</th>\n",
       "      <th>total_payments</th>\n",
       "      <th>bonus</th>\n",
       "      <th>total_stock_value</th>\n",
       "      <th>expenses</th>\n",
       "      <th>exercised_stock_options</th>\n",
       "      <th>other</th>\n",
       "      <th>deferred_income</th>\n",
       "      <th>restricted_stock</th>\n",
       "      <th>long_term_incentive</th>\n",
       "      <th>from_poi_to_this_person</th>\n",
       "      <th>to_messages</th>\n",
       "      <th>from_messages</th>\n",
       "      <th>from_this_person_to_poi</th>\n",
       "      <th>shared_receipt_with_poi</th>\n",
       "      <th>poi</th>\n",
       "    </tr>\n",
       "  </thead>\n",
       "  <tbody>\n",
       "    <tr>\n",
       "      <th>BELDEN TIMOTHY N</th>\n",
       "      <td>213999.0</td>\n",
       "      <td>5501630.0</td>\n",
       "      <td>5249999.0</td>\n",
       "      <td>1110705.0</td>\n",
       "      <td>17355.0</td>\n",
       "      <td>9.531360e+05</td>\n",
       "      <td>210698.0</td>\n",
       "      <td>-2334434.0</td>\n",
       "      <td>157569.0</td>\n",
       "      <td>600758.882273</td>\n",
       "      <td>228.0</td>\n",
       "      <td>7991.0</td>\n",
       "      <td>484.0</td>\n",
       "      <td>108.0</td>\n",
       "      <td>5521.0</td>\n",
       "      <td>True</td>\n",
       "    </tr>\n",
       "    <tr>\n",
       "      <th>BOWEN JR RAYMOND M</th>\n",
       "      <td>278601.0</td>\n",
       "      <td>2669589.0</td>\n",
       "      <td>1350000.0</td>\n",
       "      <td>252055.0</td>\n",
       "      <td>65907.0</td>\n",
       "      <td>6.243031e+05</td>\n",
       "      <td>1621.0</td>\n",
       "      <td>-833.0</td>\n",
       "      <td>252055.0</td>\n",
       "      <td>974293.000000</td>\n",
       "      <td>140.0</td>\n",
       "      <td>1858.0</td>\n",
       "      <td>27.0</td>\n",
       "      <td>15.0</td>\n",
       "      <td>1593.0</td>\n",
       "      <td>True</td>\n",
       "    </tr>\n",
       "    <tr>\n",
       "      <th>CALGER CHRISTOPHER F</th>\n",
       "      <td>240189.0</td>\n",
       "      <td>1639297.0</td>\n",
       "      <td>1250000.0</td>\n",
       "      <td>126027.0</td>\n",
       "      <td>35818.0</td>\n",
       "      <td>5.454893e+05</td>\n",
       "      <td>486.0</td>\n",
       "      <td>-262500.0</td>\n",
       "      <td>126027.0</td>\n",
       "      <td>375304.000000</td>\n",
       "      <td>199.0</td>\n",
       "      <td>2598.0</td>\n",
       "      <td>144.0</td>\n",
       "      <td>25.0</td>\n",
       "      <td>2188.0</td>\n",
       "      <td>True</td>\n",
       "    </tr>\n",
       "    <tr>\n",
       "      <th>CAUSEY RICHARD A</th>\n",
       "      <td>415189.0</td>\n",
       "      <td>1868758.0</td>\n",
       "      <td>1000000.0</td>\n",
       "      <td>2502063.0</td>\n",
       "      <td>30674.0</td>\n",
       "      <td>3.501988e+06</td>\n",
       "      <td>307895.0</td>\n",
       "      <td>-235000.0</td>\n",
       "      <td>2502063.0</td>\n",
       "      <td>350000.000000</td>\n",
       "      <td>58.0</td>\n",
       "      <td>1892.0</td>\n",
       "      <td>49.0</td>\n",
       "      <td>12.0</td>\n",
       "      <td>1585.0</td>\n",
       "      <td>True</td>\n",
       "    </tr>\n",
       "    <tr>\n",
       "      <th>COLWELL WESLEY</th>\n",
       "      <td>288542.0</td>\n",
       "      <td>1490344.0</td>\n",
       "      <td>1200000.0</td>\n",
       "      <td>698242.0</td>\n",
       "      <td>16514.0</td>\n",
       "      <td>1.613226e+06</td>\n",
       "      <td>101740.0</td>\n",
       "      <td>-144062.0</td>\n",
       "      <td>698242.0</td>\n",
       "      <td>682350.681114</td>\n",
       "      <td>240.0</td>\n",
       "      <td>1758.0</td>\n",
       "      <td>40.0</td>\n",
       "      <td>11.0</td>\n",
       "      <td>1132.0</td>\n",
       "      <td>True</td>\n",
       "    </tr>\n",
       "  </tbody>\n",
       "</table>\n",
       "</div>"
      ],
      "text/plain": [
       "                        salary  total_payments      bonus  total_stock_value  \\\n",
       "BELDEN TIMOTHY N      213999.0       5501630.0  5249999.0          1110705.0   \n",
       "BOWEN JR RAYMOND M    278601.0       2669589.0  1350000.0           252055.0   \n",
       "CALGER CHRISTOPHER F  240189.0       1639297.0  1250000.0           126027.0   \n",
       "CAUSEY RICHARD A      415189.0       1868758.0  1000000.0          2502063.0   \n",
       "COLWELL WESLEY        288542.0       1490344.0  1200000.0           698242.0   \n",
       "\n",
       "                      expenses  exercised_stock_options     other  \\\n",
       "BELDEN TIMOTHY N       17355.0             9.531360e+05  210698.0   \n",
       "BOWEN JR RAYMOND M     65907.0             6.243031e+05    1621.0   \n",
       "CALGER CHRISTOPHER F   35818.0             5.454893e+05     486.0   \n",
       "CAUSEY RICHARD A       30674.0             3.501988e+06  307895.0   \n",
       "COLWELL WESLEY         16514.0             1.613226e+06  101740.0   \n",
       "\n",
       "                      deferred_income  restricted_stock  long_term_incentive  \\\n",
       "BELDEN TIMOTHY N           -2334434.0          157569.0        600758.882273   \n",
       "BOWEN JR RAYMOND M             -833.0          252055.0        974293.000000   \n",
       "CALGER CHRISTOPHER F        -262500.0          126027.0        375304.000000   \n",
       "CAUSEY RICHARD A            -235000.0         2502063.0        350000.000000   \n",
       "COLWELL WESLEY              -144062.0          698242.0        682350.681114   \n",
       "\n",
       "                      from_poi_to_this_person  to_messages  from_messages  \\\n",
       "BELDEN TIMOTHY N                        228.0       7991.0          484.0   \n",
       "BOWEN JR RAYMOND M                      140.0       1858.0           27.0   \n",
       "CALGER CHRISTOPHER F                    199.0       2598.0          144.0   \n",
       "CAUSEY RICHARD A                         58.0       1892.0           49.0   \n",
       "COLWELL WESLEY                          240.0       1758.0           40.0   \n",
       "\n",
       "                      from_this_person_to_poi  shared_receipt_with_poi   poi  \n",
       "BELDEN TIMOTHY N                        108.0                   5521.0  True  \n",
       "BOWEN JR RAYMOND M                       15.0                   1593.0  True  \n",
       "CALGER CHRISTOPHER F                     25.0                   2188.0  True  \n",
       "CAUSEY RICHARD A                         12.0                   1585.0  True  \n",
       "COLWELL WESLEY                           11.0                   1132.0  True  "
      ]
     },
     "execution_count": 102,
     "metadata": {},
     "output_type": "execute_result"
    }
   ],
   "source": [
    "print \"BEFORE SHUFFELING\"\n",
    "data_df.head(5)"
   ]
  },
  {
   "cell_type": "code",
   "execution_count": 103,
   "metadata": {
    "collapsed": false,
    "scrolled": true
   },
   "outputs": [
    {
     "name": "stdout",
     "output_type": "stream",
     "text": [
      "AFTER SHUFFELING\n"
     ]
    },
    {
     "data": {
      "text/html": [
       "<div>\n",
       "<style>\n",
       "    .dataframe thead tr:only-child th {\n",
       "        text-align: right;\n",
       "    }\n",
       "\n",
       "    .dataframe thead th {\n",
       "        text-align: left;\n",
       "    }\n",
       "\n",
       "    .dataframe tbody tr th {\n",
       "        vertical-align: top;\n",
       "    }\n",
       "</style>\n",
       "<table border=\"1\" class=\"dataframe\">\n",
       "  <thead>\n",
       "    <tr style=\"text-align: right;\">\n",
       "      <th></th>\n",
       "      <th>salary</th>\n",
       "      <th>total_payments</th>\n",
       "      <th>bonus</th>\n",
       "      <th>total_stock_value</th>\n",
       "      <th>expenses</th>\n",
       "      <th>exercised_stock_options</th>\n",
       "      <th>other</th>\n",
       "      <th>deferred_income</th>\n",
       "      <th>restricted_stock</th>\n",
       "      <th>long_term_incentive</th>\n",
       "      <th>from_poi_to_this_person</th>\n",
       "      <th>to_messages</th>\n",
       "      <th>from_messages</th>\n",
       "      <th>from_this_person_to_poi</th>\n",
       "      <th>shared_receipt_with_poi</th>\n",
       "      <th>poi</th>\n",
       "    </tr>\n",
       "  </thead>\n",
       "  <tbody>\n",
       "    <tr>\n",
       "      <th>BIBI PHILIPPE A</th>\n",
       "      <td>213625.000000</td>\n",
       "      <td>2.047593e+06</td>\n",
       "      <td>1.000000e+06</td>\n",
       "      <td>1.843816e+06</td>\n",
       "      <td>38559.000000</td>\n",
       "      <td>1.465734e+06</td>\n",
       "      <td>425688.000000</td>\n",
       "      <td>-186991.065713</td>\n",
       "      <td>3.780820e+05</td>\n",
       "      <td>369721.000000</td>\n",
       "      <td>23.000000</td>\n",
       "      <td>1607.000000</td>\n",
       "      <td>40.000000</td>\n",
       "      <td>8.000000</td>\n",
       "      <td>1336.000000</td>\n",
       "      <td>False</td>\n",
       "    </tr>\n",
       "    <tr>\n",
       "      <th>FALLON JAMES B</th>\n",
       "      <td>304588.000000</td>\n",
       "      <td>3.676340e+06</td>\n",
       "      <td>2.500000e+06</td>\n",
       "      <td>2.332399e+06</td>\n",
       "      <td>95924.000000</td>\n",
       "      <td>9.402570e+05</td>\n",
       "      <td>401481.000000</td>\n",
       "      <td>-172891.626153</td>\n",
       "      <td>1.392142e+06</td>\n",
       "      <td>374347.000000</td>\n",
       "      <td>42.000000</td>\n",
       "      <td>1755.000000</td>\n",
       "      <td>75.000000</td>\n",
       "      <td>37.000000</td>\n",
       "      <td>1604.000000</td>\n",
       "      <td>False</td>\n",
       "    </tr>\n",
       "    <tr>\n",
       "      <th>MEYER JEROME J</th>\n",
       "      <td>125535.965430</td>\n",
       "      <td>2.151000e+03</td>\n",
       "      <td>1.040278e+05</td>\n",
       "      <td>3.235032e+05</td>\n",
       "      <td>2151.000000</td>\n",
       "      <td>2.515871e+05</td>\n",
       "      <td>1704.542918</td>\n",
       "      <td>-38346.000000</td>\n",
       "      <td>2.120370e+05</td>\n",
       "      <td>77729.218879</td>\n",
       "      <td>26.703202</td>\n",
       "      <td>1282.439842</td>\n",
       "      <td>113.152159</td>\n",
       "      <td>9.230237</td>\n",
       "      <td>635.130575</td>\n",
       "      <td>False</td>\n",
       "    </tr>\n",
       "    <tr>\n",
       "      <th>CLINE KENNETH W</th>\n",
       "      <td>225723.265037</td>\n",
       "      <td>3.680254e+05</td>\n",
       "      <td>4.290120e+05</td>\n",
       "      <td>1.895180e+05</td>\n",
       "      <td>24503.780745</td>\n",
       "      <td>3.094344e+05</td>\n",
       "      <td>9779.410974</td>\n",
       "      <td>-88719.066040</td>\n",
       "      <td>6.620860e+05</td>\n",
       "      <td>250580.322067</td>\n",
       "      <td>24.207282</td>\n",
       "      <td>1065.713961</td>\n",
       "      <td>88.147552</td>\n",
       "      <td>7.466978</td>\n",
       "      <td>495.434029</td>\n",
       "      <td>False</td>\n",
       "    </tr>\n",
       "    <tr>\n",
       "      <th>BANNANTINE JAMES M</th>\n",
       "      <td>258741.000000</td>\n",
       "      <td>9.161970e+05</td>\n",
       "      <td>6.704782e+05</td>\n",
       "      <td>5.243487e+06</td>\n",
       "      <td>56301.000000</td>\n",
       "      <td>4.046157e+06</td>\n",
       "      <td>864523.000000</td>\n",
       "      <td>-5104.000000</td>\n",
       "      <td>1.757552e+06</td>\n",
       "      <td>382188.140339</td>\n",
       "      <td>39.000000</td>\n",
       "      <td>566.000000</td>\n",
       "      <td>29.000000</td>\n",
       "      <td>0.000000</td>\n",
       "      <td>465.000000</td>\n",
       "      <td>False</td>\n",
       "    </tr>\n",
       "  </tbody>\n",
       "</table>\n",
       "</div>"
      ],
      "text/plain": [
       "                           salary  total_payments         bonus  \\\n",
       "BIBI PHILIPPE A     213625.000000    2.047593e+06  1.000000e+06   \n",
       "FALLON JAMES B      304588.000000    3.676340e+06  2.500000e+06   \n",
       "MEYER JEROME J      125535.965430    2.151000e+03  1.040278e+05   \n",
       "CLINE KENNETH W     225723.265037    3.680254e+05  4.290120e+05   \n",
       "BANNANTINE JAMES M  258741.000000    9.161970e+05  6.704782e+05   \n",
       "\n",
       "                    total_stock_value      expenses  exercised_stock_options  \\\n",
       "BIBI PHILIPPE A          1.843816e+06  38559.000000             1.465734e+06   \n",
       "FALLON JAMES B           2.332399e+06  95924.000000             9.402570e+05   \n",
       "MEYER JEROME J           3.235032e+05   2151.000000             2.515871e+05   \n",
       "CLINE KENNETH W          1.895180e+05  24503.780745             3.094344e+05   \n",
       "BANNANTINE JAMES M       5.243487e+06  56301.000000             4.046157e+06   \n",
       "\n",
       "                            other  deferred_income  restricted_stock  \\\n",
       "BIBI PHILIPPE A     425688.000000   -186991.065713      3.780820e+05   \n",
       "FALLON JAMES B      401481.000000   -172891.626153      1.392142e+06   \n",
       "MEYER JEROME J        1704.542918    -38346.000000      2.120370e+05   \n",
       "CLINE KENNETH W       9779.410974    -88719.066040      6.620860e+05   \n",
       "BANNANTINE JAMES M  864523.000000     -5104.000000      1.757552e+06   \n",
       "\n",
       "                    long_term_incentive  from_poi_to_this_person  to_messages  \\\n",
       "BIBI PHILIPPE A           369721.000000                23.000000  1607.000000   \n",
       "FALLON JAMES B            374347.000000                42.000000  1755.000000   \n",
       "MEYER JEROME J             77729.218879                26.703202  1282.439842   \n",
       "CLINE KENNETH W           250580.322067                24.207282  1065.713961   \n",
       "BANNANTINE JAMES M        382188.140339                39.000000   566.000000   \n",
       "\n",
       "                    from_messages  from_this_person_to_poi  \\\n",
       "BIBI PHILIPPE A         40.000000                 8.000000   \n",
       "FALLON JAMES B          75.000000                37.000000   \n",
       "MEYER JEROME J         113.152159                 9.230237   \n",
       "CLINE KENNETH W         88.147552                 7.466978   \n",
       "BANNANTINE JAMES M      29.000000                 0.000000   \n",
       "\n",
       "                    shared_receipt_with_poi    poi  \n",
       "BIBI PHILIPPE A                 1336.000000  False  \n",
       "FALLON JAMES B                  1604.000000  False  \n",
       "MEYER JEROME J                   635.130575  False  \n",
       "CLINE KENNETH W                  495.434029  False  \n",
       "BANNANTINE JAMES M               465.000000  False  "
      ]
     },
     "execution_count": 103,
     "metadata": {},
     "output_type": "execute_result"
    }
   ],
   "source": [
    "print \"AFTER SHUFFELING\"\n",
    "data_df = data_df.sample(frac=1)\n",
    "data_df.head(5)"
   ]
  },
  {
   "cell_type": "markdown",
   "metadata": {},
   "source": [
    "pickle the imputed main dataset"
   ]
  },
  {
   "cell_type": "code",
   "execution_count": 104,
   "metadata": {
    "collapsed": false
   },
   "outputs": [],
   "source": [
    "with open(\"data_df_filtered_imputed.pkl\", \"wb\") as file_out:\n",
    "    pickle.dump(data_df, file_out) "
   ]
  },
  {
   "cell_type": "markdown",
   "metadata": {},
   "source": [
    "load filtered and imputed main dataset if necessary"
   ]
  },
  {
   "cell_type": "code",
   "execution_count": 5,
   "metadata": {
    "collapsed": false
   },
   "outputs": [],
   "source": [
    "with open(\"data_df_filtered_imputed.pkl\", \"r\") as file_in:\n",
    "    data_df = pickle.load(file_in) "
   ]
  },
  {
   "cell_type": "markdown",
   "metadata": {},
   "source": [
    "# Extracting paths to employee emails \n",
    "Email paths will be used to assess and analyse the email correspondence for each employee from the main dataset, which will be required for engineering of novel features."
   ]
  },
  {
   "cell_type": "markdown",
   "metadata": {},
   "source": [
    "##### Extracting all available email addresses for each employee \n",
    "Multiple valid email addresses (obtained via execution of poiEmails()) are associated with poi employees, however, the main dataset (data_df or complete_df) is listing only one address each. In order to be sure that all poi emails can be identified within the email corpus, a dictionary will be created to store all available poi email addresses (dict key) by the correponding poi name (dict value). Furthermore, this dictionary will be expanded by non-poi email addresses to record all available email addresses for all enron employees present in the main dataset (data_df or complete_df). As such, the email address dictionary will serve as a reference to verify if any email has been written by an enron employee present in the main dataset. \n",
    "\n",
    "*(use EmailPaths() in email_paths.py and poiEmails() in poi_email_addresses.py)*"
   ]
  },
  {
   "cell_type": "code",
   "execution_count": 38,
   "metadata": {
    "collapsed": false
   },
   "outputs": [],
   "source": [
    "# import function poiEmails() that returns all email addresses for poi employees\n",
    "from poi_email_addresses import poiEmails\n",
    "from email_paths import *\n",
    "\n",
    "# path to directory that contains the email dataset; for each employee there is a separate subdirectory within root\n",
    "# root path depends on where the user has saved the email corpus on his harddrive!!\n",
    "root = \"/Users/damirvana/Coursera_EDX/UDACITY_Data_Analyst_Nanodegree/P5_Machine_Learning/maildir\"\n",
    "email_processor = EmailPaths(root)\n",
    "poi_emails = poiEmails()\n",
    "email_by_name = email_processor.EmployeeEmails(poi_emails, default_dataset)"
   ]
  },
  {
   "cell_type": "code",
   "execution_count": 42,
   "metadata": {
    "collapsed": false
   },
   "outputs": [
    {
     "data": {
      "text/plain": [
       "[(\"'bowen@enron.com\", 'BOWEN JR RAYMOND M'),\n",
       " (\"'david.delainey'@enron.com\", 'DELAINEY DAVID W'),\n",
       " (\"'delainey@enron.com\", 'DELAINEY DAVID W'),\n",
       " ('NaN', 'BADUM JAMES P'),\n",
       " ('a..martin@enron.com', 'MARTIN AMANDA K'),\n",
       " ('adam.umanoff@enron.com', 'UMANOFF ADAM S'),\n",
       " ('andrew.fastow@enron.com', 'FASTOW ANDREW S'),\n",
       " ('andrew.s.fastow@enron.com', 'FASTOW ANDREW S'),\n",
       " ('andy.fastow@enron.com', 'FASTOW ANDREW S'),\n",
       " (\"ben'.'glisan@enron.com\", 'GLISAN JR BEN F')]"
      ]
     },
     "execution_count": 42,
     "metadata": {},
     "output_type": "execute_result"
    }
   ],
   "source": [
    "sorted(email_by_name.items())[:10]"
   ]
  },
  {
   "cell_type": "markdown",
   "metadata": {},
   "source": [
    "The dictionary storing all emails seems to be of expected structure. However, NaN as an email address for BADUM JAMES P needs to be removed. \n",
    "- multiple email addresses for single employees \n",
    "- email address pointing to cognate employee name"
   ]
  },
  {
   "cell_type": "code",
   "execution_count": 8,
   "metadata": {
    "collapsed": false
   },
   "outputs": [
    {
     "data": {
      "text/plain": [
       "'BADUM JAMES P'"
      ]
     },
     "execution_count": 8,
     "metadata": {},
     "output_type": "execute_result"
    }
   ],
   "source": [
    "email_by_name.pop(\"NaN\")"
   ]
  },
  {
   "cell_type": "markdown",
   "metadata": {},
   "source": [
    "##### Extracting file paths specifying emails written by each employee\n",
    "The path of each email that has been authored by any of the enron employees present in the main dataset will be extracted. For each employee, a key:value entry will be defined within a dictionary. The employee's name will be assigned as the key, whereas a list storing all email paths for that particular employee will be assigned as the cognate value.\n",
    "\n",
    "Expected data structure:  \n",
    "*{name1:[path1, path2], name2:[path1, path2], ...}*\n",
    "\n",
    "The best approach would be to survey only all sent emails for each employee, because this would ignore duplicated emails. However, the email corpus doesn't contain a separate folder for each employee (e.g., folder for FASTOW ANDREW is not present). Nevertheless, the dataset contains emails sent by those missing employees, which are stored in subfolders of other employees. Therefore, I decided to include all emails to extract paths instead of only sent emails (this would only encompass 23 employees). \n",
    "\n",
    "*(use ExtractPath() in email_paths.py; requires RemoveMetaData(), ExtractEmailAdress(), IdentifyEmailAddress() which can also be found in email_paths.py)*"
   ]
  },
  {
   "cell_type": "code",
   "execution_count": 9,
   "metadata": {
    "collapsed": false
   },
   "outputs": [],
   "source": [
    "from_email_paths = email_processor.extractPath(email_by_name)\n",
    "#from_email_paths = ExtractPath(root, email_by_name)"
   ]
  },
  {
   "cell_type": "code",
   "execution_count": 247,
   "metadata": {
    "collapsed": false
   },
   "outputs": [
    {
     "data": {
      "text/plain": [
       "defaultdict(list,\n",
       "            {'ALLEN PHILLIP K': ['/Users/damirvana/Coursera_EDX/UDACITY_Data_Analyst_Nanodegree/P5_Machine_Learning/maildir_test_copy/allen-p/sent/1.',\n",
       "              '/Users/damirvana/Coursera_EDX/UDACITY_Data_Analyst_Nanodegree/P5_Machine_Learning/maildir_test_copy/allen-p/sent/2.',\n",
       "              '/Users/damirvana/Coursera_EDX/UDACITY_Data_Analyst_Nanodegree/P5_Machine_Learning/maildir_test_copy/allen-p/sent/3.']})"
      ]
     },
     "execution_count": 247,
     "metadata": {},
     "output_type": "execute_result"
    }
   ],
   "source": [
    "from_email_paths"
   ]
  },
  {
   "cell_type": "markdown",
   "metadata": {},
   "source": [
    "Using a small subset of the email corpus confirms that the dictionary is of appropriate structure and contains all emails written by a particular employee.\n",
    "Now we can use the entire corpus, run the code and save the dictionary using pickle (this will preserve the data structure). This file will be used to access all emails in the course of applying natural language techniques."
   ]
  },
  {
   "cell_type": "markdown",
   "metadata": {},
   "source": [
    "Pickle the dictionary with email paths"
   ]
  },
  {
   "cell_type": "code",
   "execution_count": 188,
   "metadata": {
    "collapsed": false
   },
   "outputs": [],
   "source": [
    "with open(\"from_email_paths.pkl\", \"wb\") as file_out:\n",
    "    pickle.dump(from_email_paths, file_out)"
   ]
  },
  {
   "cell_type": "markdown",
   "metadata": {},
   "source": [
    "If required load the dictionary containing extracted email paths from the entire email corpus."
   ]
  },
  {
   "cell_type": "code",
   "execution_count": 9,
   "metadata": {
    "collapsed": false
   },
   "outputs": [],
   "source": [
    "with open(\"from_email_paths.pkl\", \"r\") as file_in:\n",
    "    from_email_paths = pickle.load(file_in)"
   ]
  },
  {
   "cell_type": "markdown",
   "metadata": {},
   "source": [
    "# Creating new features\n",
    "#### Difference in frequency of sent/received emails as  a new feature\n",
    "\n",
    "On august 15, 2001 Kenneth Lay was informed by Sherron Watkins about accounting issues. If a significant amount of communication between employees was carried out via email, I hypothesize that there is a difference in the number of emails sent/received for poi employees as opposed to non-poi employees.  \n",
    "\n",
    "##### two possible scenarios\n",
    "*more email communication after august 15, 2001*  \n",
    "Assuming poi employees feeling caught in the act of commiting fraud as Sherron Watkins became suspicious, a state of panic is triggered. Or alternatively, poi employees feeling required to come up with a new plan on how to handle the situation. In either case, the communication between poi employees increases.\n",
    "\n",
    "\n",
    "*less email communication after august 15, 2001*  \n",
    "In this scenario, I assume poi employees going into \"stealth\" mode trying to reduce the possibility that any relevant information about the participation will be leaked. Consequently, communication via email is reduced.\n",
    "\n",
    "\n",
    "August 15, 2001 will be used as the reference date. For each employee the number of emails sent/received (to/by poi) before and after the reference date will be calculated. The email counts will be normalized to total email count and the normalized frequency change will be obtained by dividing counts after the reference date by counts before the reference date. E.g., if 10 out of 100 and 40 out of 200 emails were sent to poi before and after the reference date, respectively, it will result in a frequency change of 2. This means that 2 times more emails were sent to poi after the reference date. Furthermore, I decided to weight the emails with respect to the type of email recipients. If recipients are exclusively poi, the email will be weighted by a factor of 10, whereas emails with mixed groups of recipients (poi and none poi) will be weighted a factor of 1.\n",
    "The reasoning behind weighting is that first, I assume a person of interest will send more emails to another person of interest and second, if another poi (or a group of poi) is the only recipient, it is more likely that the content of this email conversation is about the fraudulent activity. It is less likely that email communication with mixed recipients (poi and none poi) will include content in the context of the fraudulent activity.\n",
    "\n"
   ]
  },
  {
   "cell_type": "markdown",
   "metadata": {},
   "source": [
    "##### Discrepancy in email sent/received counts between datasets\n",
    "The function EmailFrequencyChange was used to retrieve the aforementioned ratios. In order to evaluate the accuracy of the code, I implemented a code snippet (removed from final code) to count the total sent to poi/received by poi emails (ignoring reference date). Those counts were compared with the corresponding counts in the \"from_this_person_to_poi\" and \"from_poi_to_this_person\" features from the main dataset. \n",
    "\n",
    "Because the estimated counts didn't match those from the main dataset, I took a closer look at extracted email timestamps from sent emails for some of the employees. Intriguingly, many timestamps were identical, which is indicative of duplicated emails. As such, I filtered file paths for some of the emails for which the same timestamps were extracted. A closer investigation of the corresponding emails confirmed that emails with the same timestamp are actually duplicated emails stored in different folders. Consequently I defined an ID-tag for each email, consisting of the email timestamp, email subject and the last word-character substring from the email text body. This ID was used to check if an email was already parsed in the course of calculating the aforementioned counts.  \n",
    "\n",
    "By counting sent and received emails without correcting for duplicates, I was able to reproduce the numbers from the main dataset. This includes counting an email that was sent to multiple recipients only as one count instance. The second specification is perfectly valid - count estimate either by the number of recipients or by the number of effectively written text -. However, I consider counting the same email, albeit located in different subfolders, multiple times as an invalid procedure. \n",
    "For emails sent to poi and received by poi, the counts didn't match exactly those from the main dataset. However, the order of magnitude was very similar, if counting email duplicates was allowed. E.g sent to poi, \"BECK SALLY W\" 386 (main dataset) vs. 433, \"BIBI PHILIPPE A\" 8 vs. 8, \"ALLEN PHILLIP K\" 65 (main dataset) vs. 43. I am not sure why the numbers don't match for all employees. After correcting for duplicate emails, the counts are as follows: \"BECK SALLY W\" 386 (main dataset) vs. 122, \"BIBI PHILIPPE A\" 8 (main dataset) vs. 3,  \"ALLEN PHILLIP K\" 65 (main dataset) vs. 12.\n",
    "For estimating sent to poi counts, I am counting each poi recipient as one instance. If the corresponding counts in the main dataset reflect emails sent to at least one employee as one instnce and ignoring multiple poi recipients, this might explain the slight difference between my estimates (without correcting for duplicate emails) and the main dataset.   \n",
    "\n",
    "There is a reciprocal discrepancy in counts for some employees, even after correcting for duplicate emails (less counts in the main dataset). For instance, \"CHRISTODOULOU DIOMEDES\" and \"FASTOW ANDREW S\" have NaN values for the \"from_this_person_to_poi\" feature from the main dataset. I interpreted NaN values for any of the features associated with email communication as truly missing values, i.e. no emails sent or received by this employee. \n",
    "However, emails sent to poi employees and authored by both of the aforementioned employees can be found in the email corpus (e.g. skilling-j/inbox/187. for CHRISTODOULOU DIOMEDES; skilling-j/deleted_items/283. for FASTOW ANDREW S).\n",
    "\n",
    "Counts for emails shared with poi (if a poi is part of multiple recipient s) also dont't match exactly those from the main dataset. But similarly to sent and received emails, the order of magnitude is very similar. E.g, \"BECK SALLY W\" 2639 (main dataset) vs. 2593, \"BIBI PHILIPPE A\" 1336 (main dataset) vs. 1401, \"ALLEN PHILLIP K\" 1407 (main dataset) vs. 1547. Again, this is only true if email duplicates are not rejected!!\n",
    "\n",
    "Based on this findings, I decided to reconstruct all features from the main dataset that are associated with email communication (to_messages, shared_receipt_with_poi, from_messages, from_this_person_to_poi and from_poi_to_this_person). \"to_messages\" will be calculated based on the number of recipients (In the main dataset an email was counted as one \"to_messages\" instance even if sent to multiple recipients). \"shared_receipt_with_poi\" will be calculated based on the pooled recipient email addresses directly received (To: meta field) and received as a carbon copy (Cc: meta field). Overall, email duplicates will be rejected.  \n",
    "\n",
    "*(use EmailCounts() class for reconstruction of original email features; use EmailFrequencyChange() class to create new features; both stored in EmailProcessing_COUNTS.py)*"
   ]
  },
  {
   "cell_type": "code",
   "execution_count": 10,
   "metadata": {
    "collapsed": false
   },
   "outputs": [],
   "source": [
    "from EmailProcessing_COUNTS import *\n",
    "email_counter = EmailCounts(from_email_paths, email_by_name, data_df)\n",
    "\n",
    "dict_sent_total, dict_sent_timestamp = email_counter.fit(\"sent_messages\")\n",
    "dict_received_total, dict_received_timestamp = email_counter.fit(\"received_messages\")\n",
    "dict_sent_to_poi = email_counter.fit(\"sent_to_poi\")\n",
    "dict_received_from_poi = email_counter.fit(\"received_from_poi\")\n",
    "dict_poi_shared = email_counter.fit(\"shared\")"
   ]
  },
  {
   "cell_type": "markdown",
   "metadata": {},
   "source": [
    "Auditing estimated email counts (received or sent) and the number of entries in the respective timestamp dictionary revealed inconsistency due to not correcting for a recipient email address being used twice and the same recipient having multiple email addresses in a single email. "
   ]
  },
  {
   "cell_type": "code",
   "execution_count": 2494,
   "metadata": {
    "collapsed": false
   },
   "outputs": [],
   "source": [
    "def AuditEmailDictionaries(count_dict, timestamp_dict):\n",
    "    for key in count_dict.keys():\n",
    "        try:\n",
    "            assert count_dict[key] == len(timestamp_dict[key][0]) == len(timestamp_dict[key][1]) == len(timestamp_dict[key][2])\\\n",
    "            , \"Counts don't match for: {}\".format(key)\n",
    "        except IndexError:\n",
    "            continue"
   ]
  },
  {
   "cell_type": "code",
   "execution_count": 2499,
   "metadata": {
    "collapsed": false
   },
   "outputs": [],
   "source": [
    "AuditEmailDictionaries(dict_sent_total, dict_sent_timestamp)\n",
    "AuditEmailDictionaries(dict_received_total, dict_received_timestamp)"
   ]
  },
  {
   "cell_type": "markdown",
   "metadata": {},
   "source": [
    "After updating the EmailCounts() function accordingly, auditing confirmed consistency in the aforementioned counts."
   ]
  },
  {
   "cell_type": "markdown",
   "metadata": {},
   "source": [
    "The reconstructed email features require one more update. As already mentioned, a single feature is considered as truly missing only if all other email features are also missing. Basically, the cognate employee is missing from the dataset. Otherwise, if at least one email feature has a valid numerical value, missing values in other email features will be transformed to 0 value. So let's analyse all email features for every employee and update missing values accordingly. "
   ]
  },
  {
   "cell_type": "code",
   "execution_count": 2591,
   "metadata": {
    "collapsed": false
   },
   "outputs": [],
   "source": [
    "email_datasets = [dict_sent_to_poi, dict_received_from_poi, dict_sent_total, \n",
    "                  dict_received_total, dict_poi_shared]\n",
    "# check for each employee in each dataset  \n",
    "for employee in data_df.index:\n",
    "    \n",
    "    all_values = [dataset[employee] for dataset in email_datasets]\n",
    "    # continue if no missing values\n",
    "    if np.nan not in all_values:\n",
    "        continue   \n",
    "    \n",
    "    is_int = [isinstance(value, int) for value in all_values]\n",
    "    # continue if all entries are missing values \n",
    "    if not any(is_int):\n",
    "        continue\n",
    "        \n",
    "    # transform missing values to 0 values if at least one int entry      \n",
    "    for idx in range(len(is_int)):\n",
    "        if np.isnan(all_values[idx]):\n",
    "            email_datasets[idx][employee] = 0.   "
   ]
  },
  {
   "cell_type": "markdown",
   "metadata": {},
   "source": [
    "Pickle the returned dictionaries"
   ]
  },
  {
   "cell_type": "code",
   "execution_count": null,
   "metadata": {
    "collapsed": true
   },
   "outputs": [],
   "source": [
    "files = [dict_sent_to_poi, dict_sent_timestamp, dict_received_from_poi,\n",
    "         dict_received_timestamp, dict_sent_total, dict_received_total,dict_poi_shared]\n",
    "\n",
    "for file_ in files:\n",
    "    file_name = str(file_)+\".pkl\"\n",
    "    with open(file_name, \"wb\") as file_out:\n",
    "        pickle.dump(file_, file_out)"
   ]
  },
  {
   "cell_type": "markdown",
   "metadata": {},
   "source": [
    "Load files if necessary"
   ]
  },
  {
   "cell_type": "code",
   "execution_count": 9,
   "metadata": {
    "collapsed": false
   },
   "outputs": [],
   "source": [
    "with open(\"dict_sent_to_poi.pkl\", \"r\") as file_in:\n",
    "    dict_sent_to_poi = pickle.load(file_in)     \n",
    "    \n",
    "with open(\"dict_sent_timestamp.pkl\", \"r\") as file_in:\n",
    "    dict_sent_timestamp = pickle.load(file_in)    \n",
    "    \n",
    "with open(\"dict_received_from_poi.pkl\", \"r\") as file_in:\n",
    "    dict_received_from_poi = pickle.load(file_in)\n",
    "    \n",
    "with open(\"dict_received_timestamp.pkl\", \"r\") as file_in:\n",
    "    dict_received_timestamp = pickle.load(file_in) \n",
    "    \n",
    "with open(\"dict_sent_total.pkl\", \"r\") as file_in:\n",
    "    dict_sent_total = pickle.load(file_in)\n",
    "    \n",
    "with open(\"dict_received_total.pkl\", \"r\") as file_in:\n",
    "    dict_received_total = pickle.load(file_in)     \n",
    " \n",
    "with open(\"dict_poi_shared.pkl\", \"r\") as file_in:\n",
    "    dict_poi_shared = pickle.load(file_in)  "
   ]
  },
  {
   "cell_type": "markdown",
   "metadata": {},
   "source": [
    "Convert the reconstructed email features into dataframes and replace the cognate features in the main dataset (data_df)"
   ]
  },
  {
   "cell_type": "code",
   "execution_count": 39,
   "metadata": {
    "collapsed": true
   },
   "outputs": [],
   "source": [
    "sent_to_poi = pd.DataFrame({\"from_this_person_to_poi\" : dict_sent_to_poi})\n",
    "received_from_poi = pd.DataFrame({\"from_poi_to_this_person\" : dict_received_from_poi})\n",
    "sent_total = pd.DataFrame({\"from_messages\" : dict_sent_total})\n",
    "received_total = pd.DataFrame({\"to_messages\" : dict_received_total})\n",
    "poi_shared = pd.DataFrame({\"shared_receipt_with_poi\" : dict_poi_shared})"
   ]
  },
  {
   "cell_type": "code",
   "execution_count": 141,
   "metadata": {
    "collapsed": false
   },
   "outputs": [],
   "source": [
    "for data in [sent_to_poi, received_from_poi, sent_total, received_total, poi_shared]:\n",
    "    # update only replaces non-nan values; convert NaN to string\n",
    "    data_df.update(data.replace(np.nan, \"NaN\"))   \n",
    "\n",
    "# convert NaN string back to true NaN (required for imputation)    \n",
    "data_df = data_df.replace(\"NaN\", np.nan)    "
   ]
  },
  {
   "cell_type": "markdown",
   "metadata": {},
   "source": [
    "Use the updated main dataset to create the novel features **frequency change for sent/received emails** (description see above)."
   ]
  },
  {
   "cell_type": "code",
   "execution_count": null,
   "metadata": {
    "collapsed": true
   },
   "outputs": [],
   "source": [
    "counter = EmailFrequencyChange(data_df)\n",
    "freq_change_sent = counter.fit(dict_sent_timestamp)\n",
    "freq_change_received = counter.fit(dict_received_timestamp)"
   ]
  },
  {
   "cell_type": "markdown",
   "metadata": {},
   "source": [
    "Again, convert the new features (returned as dictionary) into dataframes and update the main dataset."
   ]
  },
  {
   "cell_type": "code",
   "execution_count": 144,
   "metadata": {
    "collapsed": false
   },
   "outputs": [],
   "source": [
    "freq_change_sent = pd.DataFrame({\"freq_change_sent\" : freq_change_sent})\n",
    "freq_change_received = pd.DataFrame({\"freq_change_received\" : freq_change_received})"
   ]
  },
  {
   "cell_type": "code",
   "execution_count": 44,
   "metadata": {
    "collapsed": false
   },
   "outputs": [],
   "source": [
    "for dataframe in [freq_change_sent, freq_change_received]:\n",
    "    data_df = pd.merge(data_df, dataframe, left_index = True, right_index = True )"
   ]
  },
  {
   "cell_type": "markdown",
   "metadata": {},
   "source": [
    "**Since the email features have been reconstructed and new email features engineered, it is required to repeat imputation!!** First, Split the dataset into poi and not-poi subsets to conduct imputation separately for each group."
   ]
  },
  {
   "cell_type": "code",
   "execution_count": 147,
   "metadata": {
    "collapsed": false
   },
   "outputs": [],
   "source": [
    "poiYes_data = data_df[data_df[\"poi\"] == True]\n",
    "poiNo_data = data_df[data_df[\"poi\"] == False]"
   ]
  },
  {
   "cell_type": "code",
   "execution_count": 148,
   "metadata": {
    "collapsed": true
   },
   "outputs": [],
   "source": [
    "email_features = set([\"to_messages\", \"shared_receipt_with_poi\", \"from_messages\", \n",
    "                \"from_this_person_to_poi\", \"from_poi_to_this_person\"])"
   ]
  },
  {
   "cell_type": "code",
   "execution_count": 149,
   "metadata": {
    "collapsed": false
   },
   "outputs": [],
   "source": [
    "# add frequency features to email feature list\n",
    "email_features.update([\"freq_change_sent\", \"freq_change_received\"])\n",
    "\n",
    "email_features_poi_imputed = MultipleImputation(poiYes_data, email_features)\n",
    "email_features_not_poi_imputed = MultipleImputation(poiNo_data, email_features)\n",
    "\n",
    "#replace the original dataset with imputed features\n",
    "data_df.update(email_features_poi_imputed)\n",
    "data_df.update(email_features_not_poi_imputed)"
   ]
  },
  {
   "cell_type": "markdown",
   "metadata": {},
   "source": [
    "Check if merging and updating results in correct values for each employee."
   ]
  },
  {
   "cell_type": "code",
   "execution_count": null,
   "metadata": {
    "collapsed": true
   },
   "outputs": [],
   "source": [
    "map_to_columns = {\"from_this_person_to_poi\" : sent_to_poi,\n",
    "                  \"from_poi_to_this_person\" : received_from_poi, \n",
    "                  \"from_messages\" : sent_total, \n",
    "                  \"to_messages\" : received_total, \n",
    "                  \"shared_receipt_with_poi\" : poi_shared,\n",
    "                  \"freq_change_sent\" : freq_change_sent,\n",
    "                  \"freq_change_received\" : freq_change_received}\n",
    "\n",
    "for col in map_to_columns.keys():\n",
    "    for index in data_df.index:\n",
    "        # use round with 2 decimal precision to compensate differences in float precission\n",
    "        value_main_dataset = round(float(data_df.loc[index][col]),2)\n",
    "        value_subset = round(float(map_to_columns[col].loc[index][col]),2)\n",
    "        \n",
    "        # omit missing values in value_subset; main dataset contains now imputed values\n",
    "        if not np.isnan(value_subset) :\n",
    "            assert value_main_dataset == value_subset, \"Wrong update of the main dataset {} {}\".format(index, col)\n",
    "        "
   ]
  },
  {
   "cell_type": "markdown",
   "metadata": {},
   "source": [
    "No assertion error for non-imputed data points confirms that merging and updating was correct. Pickle the main dataset containing the new features."
   ]
  },
  {
   "cell_type": "code",
   "execution_count": 2612,
   "metadata": {
    "collapsed": false
   },
   "outputs": [],
   "source": [
    "with open(\"data_df_update_corrected.pkl\", \"wb\") as file_out:\n",
    "    pickle.dump(data_df, file_out)"
   ]
  },
  {
   "cell_type": "markdown",
   "metadata": {},
   "source": [
    "Load dataset if necessary."
   ]
  },
  {
   "cell_type": "code",
   "execution_count": 5,
   "metadata": {
    "collapsed": false
   },
   "outputs": [],
   "source": [
    "with open(\"data_df_update_corrected.pkl\", \"r\") as file_in:\n",
    "    data_df = pickle.load(file_in)"
   ]
  },
  {
   "cell_type": "markdown",
   "metadata": {
    "collapsed": true
   },
   "source": [
    "#### TF-IDF frequency as a feature\n",
    "A new feature set will be created that is based on word frequencies (TF-IDF) derived from email communication. Word frequencies will be obtained by analysing enron's email corpus (dataset containing emails from enron employees). All emails authorded by enron employees will feed into the pipeline. Each email text body will be cleaned (removal of unimportant strings; see description below) and a string consisting of stemmed words will be returned along with the name of the author. So overall, two lists will be generated, each containing the stemmed word variants and the email author/enron employee, respectively. \n",
    "\n",
    "The entire email collection represented in stemmed word format depicts the bag of words, which will be used to calculate TF-IDF values for each word. So ulimately, each email will be transformed to a set of frequencies that represent the usage of words based on the the aforementioned word collection. \n",
    "\n",
    "Following strategy will be applied to obtain the TF-IDF features for each enron employee:\n",
    "\n",
    "1. calculate TF-IDF values based on the bag of words representation\n",
    "2. identify the poi status for each email author (poi feature in the main dataset)\n",
    "3. based on poi status, use a statistical approach to identify the 5 most significant words/TF-IDF values\n",
    "4. group stemmed email variants by employee and calculate the average TF-IDF values for the 5 most significant words (based on all emails authored by each employee)\n",
    "5. average TF-IDF values per employee denote the TF-IDF feature that will be added to the main dataset\n"
   ]
  },
  {
   "cell_type": "markdown",
   "metadata": {},
   "source": [
    "##### Define procedures to clean email text\n",
    "As already stated, the goal is to derive TF-IDF values for the set of words present in the email corpus. This requires prior cleaning of raw text according to some user defined rules in order to extract the most reasonable words for calculation of respective TF-IDF values. Remember the rule for machine learning-based analysis, **GARBAGE IN, GARBAGE OUT**! \n",
    "\n",
    "Text cleaning will be conducted in iterative steps and code will be modified according to results:  \n",
    "\n",
    "*first iteration*  \n",
    "Remove standard meta data (message-id, from:, to:, subject:, etc.), punctuation present in emails and conduct whitespace stemming (split words by whitespace and apply stemming algorithm).\n",
    "\n",
    "*second iteration*  \n",
    "Additionally remove employee names, meta data from email conversations (i.e. substrings present in emails that keep record of conversation history -multiple send and received emails-, such as additional from:, to:, subject: fields), meta data from forwarded emails (\"forwarded + name of author\" as substring)\n",
    "\n",
    "*third iteration*  \n",
    "Additionally remove short variants of names and nick-names, respectively\n",
    "\n",
    "*fourth iteration*  \n",
    "Additionally remove special abbreviations (e.g., \"i'll\", \"i've\", \"i'd\", \"i'm\", \"you'd\", \"you're\") that will be missed by stopwords cleaning strategy. E.g., \"you\" and \"are\" are integral part of stopwords that will be removed prior to text processing. However, \"you're\" will be missed\n",
    "\n",
    "*fifth iteration*  \n",
    "Additionally remove email duplicates (same email in different folders).\n",
    "\n",
    "*(use EmailStemmer() class in EmailProcessing_NLP.py for cleaning and processing (stemming) of raw emails*"
   ]
  },
  {
   "cell_type": "markdown",
   "metadata": {},
   "source": [
    "Return stemmed word variants of each email and corresponding author name"
   ]
  },
  {
   "cell_type": "code",
   "execution_count": 13,
   "metadata": {
    "collapsed": false
   },
   "outputs": [],
   "source": [
    "from EmailProcessing_NLP import *\n",
    "process = EmailStemmer(from_email_paths,data_df) \n",
    "word_data, from_data = process.ProcessEmail()"
   ]
  },
  {
   "cell_type": "code",
   "execution_count": 21,
   "metadata": {
    "collapsed": false
   },
   "outputs": [],
   "source": [
    "# convert stemmed words into TF-IDF values \n",
    "vectorizer = TfidfVectorizer()\n",
    "vectorizer_fitted = vectorizer.fit_transform(word_data)"
   ]
  },
  {
   "cell_type": "code",
   "execution_count": 31,
   "metadata": {
    "collapsed": true
   },
   "outputs": [],
   "source": [
    "#select the best 5 TF-IDF values\n",
    "selector = SelectKBest(score_func=f_classif, k=5)\n",
    "selector_fitted = selector.fit_transform(vectorizer_fitted, [0,1,0])"
   ]
  },
  {
   "cell_type": "markdown",
   "metadata": {},
   "source": [
    "The entire email collection represented in stemmed word format depict the bag of words, which will be used to calculate TF-IDF values for each word. So ulimately, each email will be transformed to a set of frequencies that represent the usage of words based on the the aforementioned word collection."
   ]
  },
  {
   "cell_type": "markdown",
   "metadata": {
    "collapsed": false
   },
   "source": [
    "Pickle stemmed variants of the email dataset and the name of each corresponding author."
   ]
  },
  {
   "cell_type": "code",
   "execution_count": null,
   "metadata": {
    "collapsed": true
   },
   "outputs": [],
   "source": [
    "with open(\"nlp_emails_tokenized_third_cleaning.pkl\", \"wb\") as file_out:\n",
    "    pickle.dump(word_data, file_out)\n",
    "    \n",
    "with open(\"nlp_emails_authors_third_cleaning.pkl\", \"wb\") as file_out:\n",
    "    pickle.dump(from_data, file_out)"
   ]
  },
  {
   "cell_type": "markdown",
   "metadata": {},
   "source": [
    "If required, load email authors and stemmed email datasets."
   ]
  },
  {
   "cell_type": "code",
   "execution_count": 5,
   "metadata": {
    "collapsed": false
   },
   "outputs": [],
   "source": [
    "with open(\"nlp_emails_authors_third_cleaning.pkl\", \"r\") as file_in:\n",
    "    from_data = pickle.load(file_in)\n",
    "    \n",
    "with open(\"nlp_emails_tokenized_third_cleaning.pkl\", \"r\") as file_in:\n",
    "    word_data = pickle.load(file_in)"
   ]
  },
  {
   "cell_type": "markdown",
   "metadata": {},
   "source": [
    "I want to expand the main dataset, which consists of 15 features (after filtering), by TF-IDF values as novel features. The TF-IDF features are extremely high dimensional with a bag of words representation storing 70340 words as features. If I simply include all TF-IDF features they would strongly outweigh the features from the main dataset. As such, I want to limit the number of TF-IDF features to be included to approximately 5.  "
   ]
  },
  {
   "cell_type": "code",
   "execution_count": 38,
   "metadata": {
    "collapsed": false
   },
   "outputs": [
    {
     "data": {
      "text/plain": [
       "70340"
      ]
     },
     "execution_count": 38,
     "metadata": {},
     "output_type": "execute_result"
    }
   ],
   "source": [
    "vectorizer = CountVectorizer()\n",
    "word_bag = vectorizer.fit_transform(word_data)\n",
    "len(vectorizer.get_feature_names())"
   ]
  },
  {
   "cell_type": "markdown",
   "metadata": {},
   "source": [
    "Strategy to select TF-IDF features:  \n",
    "1. use pipeline and gridsearch to estimate optimal parameter for TfidfVectorizer (first level of feature selection) \n",
    "2. use feature selection (SelectKBest) to select the best TF-IDF feature subset"
   ]
  },
  {
   "cell_type": "markdown",
   "metadata": {},
   "source": [
    "Using the entire email dataset to estimate the best hyperparameter for TF-IDF vectorizer takes too much computation time. Therefore, a smaller subset will be used.  \n",
    "We already know that the main dataset is highly skewed with regard to the number of samples for poi versus non poi class (only a few poi instances). First, lets check how many poi samples (emails from poi employees) are included in the processed email dataset, in order to have an upper bound on the size of the subset (subset of equal or smaller size will be used). "
   ]
  },
  {
   "cell_type": "code",
   "execution_count": 40,
   "metadata": {
    "collapsed": true
   },
   "outputs": [],
   "source": [
    "# iterate over email author list (from_data) and extract poi class (poi = True, non-poi = False) for each name\n",
    "class_label = pd.Series(from_data).apply(lambda name: data_df[\"poi\"].loc[name])\n",
    "from_data_df = pd.DataFrame({\"poi\":class_label, \"name\":from_data})\n",
    "\n",
    "# filter poi versus non poi classes \n",
    "poi_class = class_label[class_label == True]\n",
    "non_poi_class = class_label[class_label == False]"
   ]
  },
  {
   "cell_type": "code",
   "execution_count": 41,
   "metadata": {
    "collapsed": false
   },
   "outputs": [
    {
     "name": "stdout",
     "output_type": "stream",
     "text": [
      "total number of emails:  51919\n",
      "number of emails from poi employees:  4250\n"
     ]
    }
   ],
   "source": [
    "print \"total number of emails: \", len(word_data)\n",
    "print \"number of emails from poi employees: \", sum(poi_class)"
   ]
  },
  {
   "cell_type": "markdown",
   "metadata": {},
   "source": [
    "Out of 51919 emails in total, 4250 emails have been authored by poi employees. A random subset containing each 1000 emails from poi and non poi employees, respectively, will be used. This is likely still not enough data to avoid overfitting. However, using the entire email dataset is impractical (long computation time) for hyperparameter evaluation. For the purpose of evaluating the best hyperparameter and also the \"quality\" of selected features (assessing text cleaning strategy), I will use 40 features. "
   ]
  },
  {
   "cell_type": "code",
   "execution_count": 42,
   "metadata": {
    "collapsed": true
   },
   "outputs": [],
   "source": [
    "# take a random sample (1000 instances) from each class   \n",
    "non_poi_class_rnd = poi_class.sample(n = 1000)\n",
    "poi_class_rnd = non_poi_class.sample(n = 1000)  \n",
    "\n",
    "# combine both samples and shuffle (necessary to avoid any bias in downstream processing)\n",
    "class_label_sub = pd.concat([non_poi_class_rnd, poi_class_rnd])\n",
    "class_label_sub = class_label_sub.sample(frac=1)\n",
    "\n",
    "# extract the emails from the dataset that correspond to the index provided by the sampled class label\n",
    "word_data_sub = np.array(word_data)[class_label_sub.index.values]"
   ]
  },
  {
   "cell_type": "markdown",
   "metadata": {},
   "source": [
    "Since a balanced dataset is used, the default scoring function (model accuracy) will be applied in gridsearch. Naive Bayes will be used in combination with pipeline and gridsearch. This requires to define a custom transformer class to transform a scarse matrix output from Tfidfvectorizer() to a dense matrix."
   ]
  },
  {
   "cell_type": "code",
   "execution_count": 39,
   "metadata": {
    "collapsed": true
   },
   "outputs": [],
   "source": [
    "from sklearn.base import TransformerMixin, BaseEstimator\n",
    "\n",
    "class MatrixTransformer(BaseEstimator,TransformerMixin):\n",
    "    \n",
    "    def transform(self, X, y=None, **fit_params):\n",
    "        dense_matrix = X.todense()\n",
    "        return dense_matrix\n",
    "    \n",
    "    def fit(self, X, y=None, **fit_params):\n",
    "        return self"
   ]
  },
  {
   "cell_type": "code",
   "execution_count": 43,
   "metadata": {
    "collapsed": false
   },
   "outputs": [
    {
     "data": {
      "text/plain": [
       "GridSearchCV(cv=None, error_score='raise',\n",
       "       estimator=Pipeline(steps=[('tfidf', TfidfVectorizer(analyzer=u'word', binary=False, decode_error=u'strict',\n",
       "        dtype=<type 'numpy.int64'>, encoding=u'utf-8', input=u'content',\n",
       "        lowercase=True, max_df=1.0, max_features=None, min_df=1,\n",
       "        ngram_range=(1, 1), norm=u'l2', preprocessor=None, smooth_idf=Tru...electKBest(k=40, score_func=<function f_classif at 0x11d5cf848>)), ('clf', GaussianNB(priors=None))]),\n",
       "       fit_params={}, iid=True, n_jobs=1,\n",
       "       param_grid={'tfidf__max_df': (0.2, 0.4, 0.6), 'tfidf__ngram_range': ((1, 1), (1, 2), (1, 3)), 'tfidf__min_df': (1, 5, 10, 50)},\n",
       "       pre_dispatch='2*n_jobs', refit=True, return_train_score=True,\n",
       "       scoring=None, verbose=0)"
      ]
     },
     "execution_count": 43,
     "metadata": {},
     "output_type": "execute_result"
    }
   ],
   "source": [
    "parameters = {\n",
    "    \"tfidf__ngram_range\" : ((1,1),(1,2),(1,3)),\n",
    "    \"tfidf__max_df\": (0.2,0.4,0.6),\n",
    "    \"tfidf__min_df\": (1,5,10,50)\n",
    "}\n",
    "\n",
    "\n",
    "pipeline = Pipeline([\n",
    "    \n",
    "    (\"tfidf\", TfidfVectorizer()),\n",
    "    (\"to_dense\", MatrixTransformer()),\n",
    "    (\"KBest\", SelectKBest(score_func=f_classif, k=40)),\n",
    "    (\"clf\", GaussianNB()),\n",
    "])\n",
    "\n",
    "\n",
    "\n",
    "grid_search = GridSearchCV(pipeline, parameters)\n",
    "grid_search.fit(word_data_sub, class_label_sub)"
   ]
  },
  {
   "cell_type": "markdown",
   "metadata": {},
   "source": [
    "The following TF-IDF hyperparameter values give the best prediction score."
   ]
  },
  {
   "cell_type": "code",
   "execution_count": 44,
   "metadata": {
    "collapsed": false
   },
   "outputs": [
    {
     "data": {
      "text/plain": [
       "Pipeline(steps=[('tfidf', TfidfVectorizer(analyzer=u'word', binary=False, decode_error=u'strict',\n",
       "        dtype=<type 'numpy.int64'>, encoding=u'utf-8', input=u'content',\n",
       "        lowercase=True, max_df=0.6, max_features=None, min_df=10,\n",
       "        ngram_range=(1, 1), norm=u'l2', preprocessor=None, smooth_idf=Tr...electKBest(k=40, score_func=<function f_classif at 0x11d5cf848>)), ('clf', GaussianNB(priors=None))])"
      ]
     },
     "execution_count": 44,
     "metadata": {},
     "output_type": "execute_result"
    }
   ],
   "source": [
    "grid_search.best_estimator_"
   ]
  },
  {
   "cell_type": "markdown",
   "metadata": {},
   "source": [
    "Extract the stemmed words corresponding to the best 40 TF-IDF values."
   ]
  },
  {
   "cell_type": "code",
   "execution_count": 45,
   "metadata": {
    "collapsed": true
   },
   "outputs": [],
   "source": [
    "vectorizer = TfidfVectorizer(ngram_range=(1, 1),max_df=0.6, min_df=10)\n",
    "email_fitted = vectorizer.fit_transform(word_data_sub)\n",
    "\n",
    "selector = SelectKBest(score_func=f_classif, k=40)\n",
    "email_selected = selector.fit_transform(email_fitted, class_label_sub)"
   ]
  },
  {
   "cell_type": "code",
   "execution_count": 46,
   "metadata": {
    "collapsed": false
   },
   "outputs": [
    {
     "name": "stdout",
     "output_type": "stream",
     "text": [
      "[u'2000', u'44', u'also', u'appropri', u'approv', u'calendar', u'commerci', u'cours', u'decid', u'effect', u'ena', u'end', u'energi', u'enrol', u'goal', u'help', u'hr', u'make', u'mandat', u'need', u'next', u'offsit', u'postpon', u'program', u'receiv', u'regard', u'remain', u'repres', u'resourc', u'rsvp', u'sign', u'stretch', u'take', u'time', u'train', u'tremend', u'trust', u'volatil', u'year', u'yet']\n"
     ]
    }
   ],
   "source": [
    "print [vectorizer.get_feature_names()[idx] for idx in selector.get_support(indices = True)]    "
   ]
  },
  {
   "cell_type": "markdown",
   "metadata": {},
   "source": [
    "##### Results text cleaning first iteation\n",
    "The goal of filtering the words corresponding to the 40 best TF-IDF features, is to subjectively evaluate their \"predictive power\". Especially, since I already suspected that employee names will be amongst the selected features as they occur frequently in emails and are very specific to predict our groups of interest (poi, non-poi). In fact, they are perfect predictors. However, names are not very well suited as features for a generalized model that is supposed to give good predictions for unseen data!!\n",
    "\n",
    "As anticipated, the vast majority of the best 40 TF-IDF features denote employee names. Also, meta data substrings like \"forwarded+name\" (as bigram) are amongst those features. \n",
    "\n",
    "##### Results text cleaning second iteation\n",
    "With the implementation of the aforementioned cleaning steps in the second iteration, names were almost completely absent from selected features. Remaining names seem to be short variants of names and nick-names, respectively. Some of the obtained features include words like \"strategy\", \"value\", \"goal\" that were completely absent from the selected feature list from first iteration.\n",
    "\n",
    "##### Results text cleaning third iteation\n",
    "A reference names dataset with almost 100,000 names (obtained from http://mbejda.github.io/) based on public US inmate records was additionally (together with names from the main enron dataset) was used to remove names from the email corpus prior to applying TF_IDF vectorization. 40 KBest selected features were completely devoid of names."
   ]
  },
  {
   "cell_type": "markdown",
   "metadata": {},
   "source": [
    "Now that we estimated the best hyperparameters for TF-IDF vectorizer, TF-IDF values will be calculated for each employee from the main dataset. I decided to incorporate only the best 5 values in the main dataset in order not to inflate the complexity of the classification model, which would actually significantly reduce the generalization of the model (the main dataset only consits of 144 data points!!!).  \n",
    "\n",
    "As already noted, the email dataset is highly imbalanced towards non-poi emails. This might invoke very low IDF values even for highly discriminative words -if those words are predominantly in the class with more documents (here emails)- and, as such, low TF-IDF values. Consequently, this might transform a good feature (specific for one class) in a bad feature (low TF-IDF).\n",
    "based on this I will conduct oversampling (resampling with replacement to adjust the size of the smaller class to the size of the bigger class).\n",
    "\n",
    "##### Perform oversampling and calculate TF-IDF values using selected TF-IDF hyperparameter\n",
    "Parsed emails and corresponding authors will be shuffeled twice (before conducting resampling and after merging resampled data with not resampled data) in order to avoid any selection bias in the downstream upsampling procedure and classifier training and testing.\n",
    "\n",
    "*(use Upsampling class for upsampling of stemmed email/author data; use TFIDFcalculator class to extract TF-IDF values as new features; Both classes in EmailProcessing_TFIDF.py)*"
   ]
  },
  {
   "cell_type": "code",
   "execution_count": 6,
   "metadata": {
    "collapsed": false
   },
   "outputs": [],
   "source": [
    "from EmailProcessing_TFIDF import *\n",
    "sampler = Upsampling(word_data, from_data, data_df)\n",
    "word_data_upsampled, from_data_upsampled = sampler.upsample()"
   ]
  },
  {
   "cell_type": "markdown",
   "metadata": {},
   "source": [
    "Use csv module in combination with gzip module to save upsampled emails and corresponding authors. Using csv requires much less disk space in comparison with pickle, even after transforming both files to lists (np.array requires more disk space than a list)."
   ]
  },
  {
   "cell_type": "code",
   "execution_count": null,
   "metadata": {
    "collapsed": true
   },
   "outputs": [],
   "source": [
    "with gzip.open(\"nlp_emails_tokenized_upsampled_csv.gzip\", \"wb\") as file_emails:\n",
    "    with gzip.open(\"nlp_emails_authors_upsampled_csv.gzip\", \"wb\") as file_authors:\n",
    "        \n",
    "        writer_emails = csv.writer(file_emails, delimiter = \",\")\n",
    "        writer_authors = csv.writer(file_authors, delimiter = \",\")\n",
    "        \n",
    "        for row in word_data_upsampled:\n",
    "            writer_emails.writerow([row])\n",
    "        for row in from_data_upsampled:\n",
    "            writer_authors.writerow([row])"
   ]
  },
  {
   "cell_type": "markdown",
   "metadata": {},
   "source": [
    "Load upsampled email dataset and corresponding authors if necessary."
   ]
  },
  {
   "cell_type": "code",
   "execution_count": 5,
   "metadata": {
    "collapsed": true
   },
   "outputs": [],
   "source": [
    "word_data_upsampled = list()\n",
    "from_data_upsampled = list()\n",
    "\n",
    "with gzip.open(\"nlp_emails_tokenized_upsampled_csv.gzip\", \"r\") as file_emails:\n",
    "    with gzip.open(\"nlp_emails_authors_upsampled_csv.gzip\", \"r\") as file_authors:\n",
    "    \n",
    "        reader_emails = csv.reader(file_emails)\n",
    "        reader_authors = csv.reader(file_authors)\n",
    "    \n",
    "        for row in reader_emails:\n",
    "            word_data_upsampled.append(row[0]) \n",
    "        for row in reader_authors:\n",
    "            from_data_upsampled.append(row[0])     "
   ]
  },
  {
   "cell_type": "markdown",
   "metadata": {},
   "source": [
    "Calculate TF-IDF values for each employee and update the main dataset."
   ]
  },
  {
   "cell_type": "code",
   "execution_count": 7,
   "metadata": {
    "collapsed": false
   },
   "outputs": [],
   "source": [
    "selector = TFIDFcalculator(from_data_upsampled, word_data_upsampled, data_df, ngram_range=(1, 1), max_df=0.6, min_df=1)\n",
    "tfidf_features_df = selector.extractFeature()"
   ]
  },
  {
   "cell_type": "markdown",
   "metadata": {},
   "source": [
    "Following terms correspond to the 5 best scoring TF-IDF features."
   ]
  },
  {
   "cell_type": "code",
   "execution_count": 23,
   "metadata": {
    "collapsed": false
   },
   "outputs": [
    {
     "data": {
      "text/plain": [
       "[u'2000', u'ena', u'goal', u'regard', u'year']"
      ]
     },
     "execution_count": 23,
     "metadata": {},
     "output_type": "execute_result"
    }
   ],
   "source": [
    "selector.terms"
   ]
  },
  {
   "cell_type": "markdown",
   "metadata": {},
   "source": [
    "Add poi feature to tfidf dataframe and filter according to class affiliation in order to conduct imputation separately for poi and not-poi groups."
   ]
  },
  {
   "cell_type": "code",
   "execution_count": 11,
   "metadata": {
    "collapsed": false
   },
   "outputs": [],
   "source": [
    "# to_frame() converts pandas series into pandas datframe\n",
    "tfidf_features_df = pd.merge(tfidf_features_df, data_df[\"poi\"].to_frame(), left_index=True, right_index=True)"
   ]
  },
  {
   "cell_type": "code",
   "execution_count": null,
   "metadata": {
    "collapsed": true
   },
   "outputs": [],
   "source": [
    "poiYes_data = tfidf_features_df[data_df[\"poi\"] == True]\n",
    "poiNo_data = tfidf_features_df[data_df[\"poi\"] == False]\n",
    "\n",
    "tfidf_features_poi_imputed = MultipleImputation(poiYes_data, tfidf_features_df.columns.drop(\"poi\"))\n",
    "tfidf_features_not_poi_imputed = MultipleImputation(poiNo_data, tfidf_features_df.columns.drop(\"poi\"))"
   ]
  },
  {
   "cell_type": "markdown",
   "metadata": {},
   "source": [
    "Add imputed TF-IDF values to the main dataset."
   ]
  },
  {
   "cell_type": "code",
   "execution_count": 161,
   "metadata": {
    "collapsed": false
   },
   "outputs": [],
   "source": [
    "tfidf_features_all_imputed = pd.concat([tfidf_features_poi_imputed, tfidf_features_not_poi_imputed])\n",
    "data_df = pd.merge(data_df, tfidf_features_all_imputed, right_index=True, left_index=True)"
   ]
  },
  {
   "cell_type": "code",
   "execution_count": 57,
   "metadata": {
    "collapsed": false
   },
   "outputs": [],
   "source": [
    "for col in [\"word_feature_{}\".format(idx+1) for idx in range(5)]:\n",
    "    for index in data_df.index:\n",
    "        assert data_df.loc[index][col] == tfidf_features_all_imputed.loc[index][col], \"Wrong update of the main dataset\""
   ]
  },
  {
   "cell_type": "markdown",
   "metadata": {},
   "source": [
    "No assertion error confirms the correct update of the main dataset (correct merging by index). Pickle the updated dataframe."
   ]
  },
  {
   "cell_type": "code",
   "execution_count": 2715,
   "metadata": {
    "collapsed": true
   },
   "outputs": [],
   "source": [
    "with open(\"data_df_update_tfidf.pkl\", \"wb\") as file_out:\n",
    "    pickle.dump(data_df, file_out)"
   ]
  },
  {
   "cell_type": "markdown",
   "metadata": {},
   "source": [
    "# Train and test different classifiers"
   ]
  },
  {
   "cell_type": "markdown",
   "metadata": {},
   "source": [
    "------------------------------------------------------------------------------\n",
    "------------------------------------------------------------------------------"
   ]
  },
  {
   "cell_type": "markdown",
   "metadata": {},
   "source": [
    "**Notification:**   \n",
    "Loading the following files enables the user to proceed with model training and testing without requiring to execute the upstream code of the pipeline (very time consuming). "
   ]
  },
  {
   "cell_type": "markdown",
   "metadata": {},
   "source": [
    "*load the latest version of the main dataset (including engineered features and imputation)*"
   ]
  },
  {
   "cell_type": "code",
   "execution_count": 17,
   "metadata": {
    "collapsed": false
   },
   "outputs": [],
   "source": [
    "with open(\"data_df_update_tfidf.pkl\", \"r\") as file_in:\n",
    "    data_df = pickle.load(file_in)"
   ]
  },
  {
   "cell_type": "markdown",
   "metadata": {},
   "source": [
    "*load the default version of the main dataset to define the default feature set* "
   ]
  },
  {
   "cell_type": "code",
   "execution_count": 20,
   "metadata": {
    "collapsed": true
   },
   "outputs": [],
   "source": [
    "with open(\"default_dataset.pkl\", \"r\") as file_in:\n",
    "    default_dataset = pickle.load(file_in)"
   ]
  },
  {
   "cell_type": "markdown",
   "metadata": {},
   "source": [
    "*load the dataset containing information on the best feature subset (final features used)* "
   ]
  },
  {
   "cell_type": "code",
   "execution_count": 27,
   "metadata": {
    "collapsed": true
   },
   "outputs": [],
   "source": [
    "with open(\"BFS_summary_20folds.pkl\", \"r\") as file_in:\n",
    "    best_features = pickle.load(file_in)"
   ]
  },
  {
   "cell_type": "markdown",
   "metadata": {},
   "source": [
    "------------------------------------------------------------------------------\n",
    "------------------------------------------------------------------------------"
   ]
  },
  {
   "cell_type": "markdown",
   "metadata": {},
   "source": [
    "As already stated, the dataset is highly unbalanced, consisting of predominantly non-poi class members (87.5%). If any classifier would exclusively predict non-poi class, the overall accuracy (number of accurate predictions over all classes) would be 87.5%. However, such a classifier would result in 100% misclassification of poi class, which is actually the class of interest in the context of this analysis. Instead precision and recall will be used as evaluation metrics as both reflect classifier performance over all classes.\n",
    "\n",
    "**precision: True positive/True positive + False positive**\n",
    "- precision specifies what proportion of positive predictions are actually correct \n",
    "\n",
    "**recall: True positive/True positive + False negative**\n",
    "- recall specifies what proportion of total positives have been predicted correctly (reflects completeness of classification results) \n",
    "\n",
    "\n",
    "New features have already been engineered and incorporated into the main dataset. However, I want to first evaluate different classifiers using the default feature set. This \"baseline\" evaluation will serve to select the best one or two classifier that will be further subjected to optimization (feature selection, hyperparameter tuning). Each optimization step will be compared to the performance from \"baseline\" metrics."
   ]
  },
  {
   "cell_type": "markdown",
   "metadata": {},
   "source": [
    "Following algorithms will be tested:\n",
    "    - Support Vector Classifier (SVC)\n",
    "    - Naive Bayes Classifier (GaussianNB)\n",
    "    - K-Means Classifier\n",
    "    - Decision Tree Classifier\n",
    "    - Random Forest Classifier\n",
    "    - Ada Boost Classifier\n",
    "    - Logistic Regression\n",
    "    \n",
    "As we recall, the features present in the main dataset encompasses encompass quite different size ranges. This is an issue for classifier that rely on distance calculations to define the decision boundary, such as in SVC. Here, a decision boundary will be defined that maximizes the distance to support vectors. If the magnitude of one feature is much bigger than of another feature, the decision boundary will be \"pulled\" towards the bigger-magnitude feature giving it more weight in the classification. If one assumes that all features are supposed to have equal weight in the decission process, it is required to scale all features to same magnitude. This is not relevant for non-distance based classifier such as Decision Trees. However, for the purpose of comparability, feature scaling will be conducted for all classifier. Moreover, since the class distribution is highly unbalanced in the dataset, I will use balanced class weight if supported by classifier. For KMeans, the number of clusters will be restricted to 2, since the dataset consists of 2 classes.    "
   ]
  },
  {
   "cell_type": "markdown",
   "metadata": {},
   "source": [
    "Standardize features to 0 mean and unit variance and convert to dictionary. Dictionary format is required to be compatible with tester.py (will be used to validate different classification algorithms)."
   ]
  },
  {
   "cell_type": "code",
   "execution_count": 18,
   "metadata": {
    "collapsed": false
   },
   "outputs": [],
   "source": [
    "scaler = StandardScaler()\n",
    "\n",
    "data_df_scaled = data_df.copy() \n",
    "data_df_scaled[data_df.columns.drop(\"poi\")] = scaler.fit_transform(data_df_scaled[data_df.columns.drop(\"poi\")])\n",
    "final_dataset = data_df_scaled.T.to_dict()"
   ]
  },
  {
   "cell_type": "markdown",
   "metadata": {},
   "source": [
    "define the default feature list (Reason for removal of particular features, see \"Check for irregularities and outliers\" section) and move poi feature to first place in the list (featureFormat function in tester.py assumes poi feature to be in first position in feature list)  "
   ]
  },
  {
   "cell_type": "code",
   "execution_count": 21,
   "metadata": {
    "collapsed": false
   },
   "outputs": [],
   "source": [
    "feature_list_default = list(default_dataset.columns.drop([\"deferral_payments\", \"restricted_stock_deferred\", \"loan_advances\", \"director_fees\", \"email_address\"]))\n",
    "feature_list_default.insert(0, feature_list_default.pop(feature_list_default.index(\"poi\")))"
   ]
  },
  {
   "cell_type": "code",
   "execution_count": 403,
   "metadata": {
    "collapsed": false
   },
   "outputs": [],
   "source": [
    "for clf in [GaussianNB(),KMeans(), LogisticRegression(class_weight=\"balanced\"), SVC(class_weight=\"balanced\"), \n",
    "            ADA(), DT(class_weight=\"balanced\"), RF(class_weight=\"balanced\")]:\n",
    "\n",
    "    tester.dump_classifier_and_data(clf, final_dataset, feature_list_default)\n",
    "    tester.main()"
   ]
  },
  {
   "cell_type": "markdown",
   "metadata": {},
   "source": [
    "**using default feature set**\n",
    "\n",
    "\n",
    "|Classifier|Accuracy|Precision|Recall|\n",
    "|---|---|---|\n",
    "|Naive Bayes|0.837|0.377|0.336| \n",
    "|Logistic Reg|0.789|0.325|0.535| \n",
    "|SVC|0.744|0.279|0.583|\n",
    "|ADA|0.839|0.372|0.297|\n",
    "|DT|0.824|0.328|0.304|\n",
    "|RF|0.861|0.408|0.102|\n",
    "|KMeans|0.625|0.148|0.379|\n",
    "\n"
   ]
  },
  {
   "cell_type": "markdown",
   "metadata": {},
   "source": [
    "The goal is to achieve a performance of at least 0.3 for recall and precision, respectively. This is satisfied by \n",
    "Naive Bayes, Logistic Regression, Decision Tree. Next, I will repeat performance testing, however, including the newly enginered features."
   ]
  },
  {
   "cell_type": "code",
   "execution_count": 22,
   "metadata": {
    "collapsed": false
   },
   "outputs": [],
   "source": [
    "feature_list_engineered = list(data_df.columns)\n",
    "feature_list_engineered.insert(0, feature_list_engineered.pop(feature_list_engineered.index(\"poi\")))"
   ]
  },
  {
   "cell_type": "markdown",
   "metadata": {},
   "source": [
    "**using extended feature set (engineered features)**\n",
    "\n",
    "|Classifier|Accuracy|Precision|Recall|\n",
    "|---|---|---|\n",
    "|Naive Bayes|0.846|0.429|0.447| \n",
    "|Logistic Reg|0.816|0.372|0.552| \n",
    "|SVC|0.802|0.316|0.415|\n",
    "|ADA|0.861|0.467|0.300|\n",
    "|DT|0.812|0.282|0.266|\n",
    "|RF|0.867|0.499|0.090|\n",
    "|KMeans|0.553|0.137|0.443|\n",
    "\n"
   ]
  },
  {
   "cell_type": "markdown",
   "metadata": {},
   "source": [
    "Including new features improved the overall performance of the Naive Bayes classifier, Logistic Regression and Ada Boost. For the other classifier, one performance metric improved at the expense of lowering the performance of the other metric (e.g., improvment of precision paired with decrease in recall for the Random Forest classifier). I assume that the overall decrease in performance for the Decision Tree classifier reflects the \"curse of dimensionality\" issue by increasing dimensionality without increasing the sample size. This leads to overfitting. Strikingly, the linear classifier (Naive Bayes and Logistic Regression) seem to be overall better performer, which is in good agreement with low complexity classifier achieving good performance with a dataset of small sample size. So I would like to test the performance of the Support Vector classifier with linear kernel."
   ]
  },
  {
   "cell_type": "code",
   "execution_count": 76,
   "metadata": {
    "collapsed": false
   },
   "outputs": [
    {
     "name": "stdout",
     "output_type": "stream",
     "text": [
      "SVC(C=1.0, cache_size=200, class_weight='balanced', coef0=0.0,\n",
      "  decision_function_shape='ovr', degree=3, gamma='auto', kernel='linear',\n",
      "  max_iter=-1, probability=False, random_state=None, shrinking=True,\n",
      "  tol=0.001, verbose=False)\n",
      "\tAccuracy: 0.81347\tPrecision: 0.36952\tRecall: 0.56500\tF1: 0.44682\tF2: 0.51094\n",
      "\tTotal predictions: 15000\tTrue positives: 1130\tFalse positives: 1928\tFalse negatives:  870\tTrue negatives: 11072\n",
      "\n"
     ]
    }
   ],
   "source": [
    "clf = SVC(kernel = \"linear\", class_weight=\"balanced\")\n",
    "tester.dump_classifier_and_data(clf, final_dataset, feature_list_engineered)\n",
    "tester.main()"
   ]
  },
  {
   "cell_type": "markdown",
   "metadata": {},
   "source": [
    "**using extended feature set and linear kernel with SVC**\n",
    "\n",
    "|Classifier|Accuracy|Precision|Recall|\n",
    "|---|---|---|\n",
    "|SVC|0.814|0.370|0.565|"
   ]
  },
  {
   "cell_type": "markdown",
   "metadata": {},
   "source": [
    "Indeed, using linear kernel with the Support Vector classifier improves precision and recall. So let's further optimize classification performance by conducting feature selection and only include features with higher discriminating power, i.e. considerable differences in value distribution for poi and non-poi class. I will use both, a statistical approach via the SelectKBest algorithm and visualization to assess the feature-specific discriminating power. SelectKBest scores the difference in sample means (here, means between the two classes) ranking those features the highest that exhibit the strongest variation between class means. "
   ]
  },
  {
   "cell_type": "markdown",
   "metadata": {},
   "source": [
    "*statistical evaluation of discriminating power*"
   ]
  },
  {
   "cell_type": "code",
   "execution_count": 72,
   "metadata": {
    "collapsed": false
   },
   "outputs": [
    {
     "data": {
      "text/plain": [
       "[('exercised_stock_options', 31.729339684335436),\n",
       " ('total_stock_value', 23.906553938107745),\n",
       " ('bonus', 22.108211532980572),\n",
       " ('long_term_incentive', 18.368287609695692),\n",
       " ('word_feature_2', 17.977238123131421),\n",
       " ('word_feature_3', 16.634426289858435),\n",
       " ('deferred_income', 15.264398067552143),\n",
       " ('salary', 15.173272419079922),\n",
       " ('restricted_stock', 9.3065836366118848),\n",
       " ('total_payments', 9.1710288064341015),\n",
       " ('word_feature_1', 8.8364556424083069),\n",
       " ('shared_receipt_with_poi', 8.2906950884710326),\n",
       " ('from_this_person_to_poi', 4.2442833638470834),\n",
       " ('other', 4.1956315536376998),\n",
       " ('expenses', 3.011913140867656),\n",
       " ('from_poi_to_this_person', 2.674585212596869),\n",
       " ('to_messages', 2.2117213066469281),\n",
       " ('word_feature_5', 2.1234657293283314),\n",
       " ('freq_change_received', 1.2674728076992043),\n",
       " ('word_feature_4', 0.51869297302726147),\n",
       " ('from_messages', 0.23089684336102889),\n",
       " ('freq_change_sent', 5.4979031846712018e-05)]"
      ]
     },
     "execution_count": 72,
     "metadata": {},
     "output_type": "execute_result"
    }
   ],
   "source": [
    "final_dataset_array = tester.featureFormat(final_dataset, feature_list_engineered)\n",
    "labels, features = tester.targetFeatureSplit(final_dataset_array)\n",
    "\n",
    "selector = SelectKBest(k = \"all\")\n",
    "selected = selector.fit(features, labels)\n",
    "\n",
    "scored_features = []\n",
    "for i in range(len(data_df.columns.drop(\"poi\"))):\n",
    "    scored_features.append((data_df.columns.drop(\"poi\")[i], selected.scores_[i]))\n",
    "    \n",
    "sorted(scored_features,key = lambda x: x[1], reverse = True) "
   ]
  },
  {
   "cell_type": "markdown",
   "metadata": {},
   "source": [
    "*evaluation of feature discriminative power via visualization*"
   ]
  },
  {
   "cell_type": "code",
   "execution_count": 28,
   "metadata": {
    "collapsed": false
   },
   "outputs": [
    {
     "data": {
      "image/png": "[encoded data removed]",
      "text/plain": [
       "<matplotlib.figure.Figure at 0x11f08cf90>"
      ]
     },
     "metadata": {},
     "output_type": "display_data"
    }
   ],
   "source": [
    "plt.figure(figsize=(18,12))\n",
    "sns.set_style(\"white\")\n",
    "for idx,feature in enumerate(data_df.columns.drop(\"poi\")):\n",
    "    ax = plt.subplot(5, 5,idx+1)\n",
    "    \n",
    "    # transform to positive values for log10 transformation\n",
    "    if feature == \"deferred_income\":\n",
    "        feature_poi = np.log10(data_df[data_df[\"poi\"]==True][feature]*-1)\n",
    "        feature_regular = np.log10(data_df[data_df[\"poi\"]==False][feature]*-1)\n",
    "        \n",
    "    else:\n",
    "        feature_poi = np.log10(data_df[data_df[\"poi\"]==True][feature])\n",
    "        feature_regular = np.log10(data_df[data_df[\"poi\"]==False][feature])\n",
    "    \n",
    "    label = [\"poi\", \"not poi\"]\n",
    "    for idx, data_ in enumerate([feature_poi,feature_regular]) :\n",
    "        sns.distplot(data_, hist = False, kde = True, kde_kws = {'shade': True, 'linewidth': 2}, label = label[idx])\n",
    "    \n",
    "plt.subplots_adjust(wspace=0.5, hspace=0.5) "
   ]
  },
  {
   "cell_type": "markdown",
   "metadata": {},
   "source": [
    "Training a support vector classifier with a selected feature set (6 of the highest scoring features with SelectKBest) and linear kernel further improved the classification performance. Both, precision and recall improved for the SVM classifier to 0.609 and 0.612, respectively. Overall, linear classifier exhibited again the best performance, of which SVM classifier exibits the best balanced score in terms of recall and precision. Next, I want to apply a systematical feature selection approach. Especially since both the dataset and total feature space are rather small, I will perform a sequential feature selection (combinatorial approach). Furthermore the results from the sequential feature selection will be compared to the dimensionality reduction approach via PCA."
   ]
  },
  {
   "cell_type": "code",
   "execution_count": 107,
   "metadata": {
    "collapsed": false
   },
   "outputs": [
    {
     "name": "stdout",
     "output_type": "stream",
     "text": [
      "SVC(C=1.0, cache_size=200, class_weight='balanced', coef0=0.0,\n",
      "  decision_function_shape='ovr', degree=3, gamma='auto', kernel='linear',\n",
      "  max_iter=-1, probability=False, random_state=None, shrinking=True,\n",
      "  tol=0.001, verbose=False)\n",
      "\tAccuracy: 0.89580\tPrecision: 0.60876\tRecall: 0.61150\tF1: 0.61013\tF2: 0.61095\n",
      "\tTotal predictions: 15000\tTrue positives: 1223\tFalse positives:  786\tFalse negatives:  777\tTrue negatives: 12214\n",
      "\n"
     ]
    }
   ],
   "source": [
    "clf = SVC(kernel = \"linear\", class_weight=\"balanced\")\n",
    "tester.dump_classifier_and_data(clf, final_dataset, [\"poi\",\"word_feature_2\", \"word_feature_3\",\"exercised_stock_options\",\"total_stock_value\", \"long_term_incentive\", \"bonus\"])\n",
    "tester.main()"
   ]
  },
  {
   "cell_type": "markdown",
   "metadata": {},
   "source": [
    "**using selected features (linear kernel with SVC)**\n",
    "\n",
    "|Classifier|Accuracy|Precision|Recall|\n",
    "|---|---|---|\n",
    "|SVC|0.896|0.609|0.612|\n",
    "|Logistic Reg|0.862|0.487|0.650|\n",
    "|Naive Bayes|0.875|0.534|0.470|\n",
    "|DT|0.835|0.360|0.306|\n",
    "|ADA|0.862|0.477|0.336|\n",
    "|RF|0.880|0.631|0.232|"
   ]
  },
  {
   "cell_type": "markdown",
   "metadata": {},
   "source": [
    "**Sequential Feature Selection**  \n",
    "\n",
    "First of all features with a SelectKBest score below 3 will be removed from the feature set. Next, the aforementioned selection process will be a greedy approach by simply evaluating all possible feature combinations for each subset size (e.g., 3 features and subset size of 2 will result in following subsets: 12,13,23). For each subset size the best performing combination will be returned. I will use f1 score to evaluate the performance since I am interested in having a balanced prediction performance in terms of recall and precission.\n",
    "Furthermore, StratifiedShuffleSplit with 20 reiterations of shuffling and resampling will be used to generate training and test sets.  \n",
    "This is based on screening test scores for each fold for a random selection of \"total-features-1\" subsets using 5-fold StratifiedShuffleSplit. It is evident that there is a strong variation in test scores over the sets generated by StratifiedShuffleSplit. Since the dataset is very small, one would expect that training and test sets exhibit a rather smaller variation in datapoints. However, the strong variation in the fold-specific f1 scores is indicative of high variance in the dataset (and not necessarily predominantly between the two classes!!). of course this translates into a model with high variance!  \n",
    "In order to account for high variance in the dataset and to being able to model a classifier with good prediction generalization (good prediction of unseen data) it is necessary train and test the classifier with as many as possible different data subsets (here, folds from StratifiedShuffleSplit). Especially in the context of selecting the best feature subset. This will make sure that the fold-specific test scores converge to the \"true\" test score for each feature combination, which helps to pinpoint each best subset combination.\n",
    "Due to the greedy nature of this selection approach, there is a tradeoff between runtime performance and classification accuracy. The more folds used the more accurate the evaluation of each subset's classification performance but the more time the code requires to execute. I figured, 20 folds is a suitable size to be used in this feature selection approach."
   ]
  },
  {
   "cell_type": "code",
   "execution_count": 23,
   "metadata": {
    "collapsed": false
   },
   "outputs": [],
   "source": [
    "# remove features with a SelectKBest score < 3 \n",
    "to_remove = ['freq_change_sent','from_messages','word_feature_4','word_feature_5','to_messages','from_poi_to_this_person']\n",
    "preselected_features = [item for item in feature_list_engineered if item not in to_remove]"
   ]
  },
  {
   "cell_type": "markdown",
   "metadata": {},
   "source": [
    "With each smaller dimension the combinatorial space increases drastically, which of course increases very much the runtime of the code. As such, 5-feature dimension will be set as the lower cutoff."
   ]
  },
  {
   "cell_type": "code",
   "execution_count": null,
   "metadata": {
    "collapsed": true
   },
   "outputs": [],
   "source": [
    "from feature_selection import *\n",
    "clf = SVC(kernel = \"linear\", class_weight=\"balanced\")\n",
    "bfs = BFS(clf,final_dataset, preselected_features,5)\n",
    "bfs.search()"
   ]
  },
  {
   "cell_type": "markdown",
   "metadata": {},
   "source": [
    "pickle the best feature subset and the respective scores for each feature dimension"
   ]
  },
  {
   "cell_type": "code",
   "execution_count": null,
   "metadata": {
    "collapsed": true
   },
   "outputs": [],
   "source": [
    "with open(\"BFS_summary_20folds.pkl\", \"w\") as file_out:\n",
    "    pickle.dump(bfs.summary, file_out)"
   ]
  },
  {
   "cell_type": "markdown",
   "metadata": {},
   "source": [
    "**summary sequential feature search (linear kernel with SVC)**\n",
    "\n",
    "|subset dimension|Accuracy|Precision|Recall|\n",
    "|---|---|---|\n",
    "|16|0.777|0.299|0.501|\n",
    "|15|0.784|0.320|0.551|\n",
    "|14|0.786|0.324|0.559|\n",
    "|10|0.876|0.534|0.550|\n",
    "|9|0.888|0.577|0.607|\n",
    "|8|0.894|0.600|0.604|\n",
    "|7|0.900|0.623|0.627|\n",
    "|6|0.895|0.604|0.613|\n",
    "|5|0.895|0.598|0.652|"
   ]
  },
  {
   "cell_type": "markdown",
   "metadata": {},
   "source": [
    "*best 7-subset feature set:*  \n",
    "['bonus',\n",
    " 'total_stock_value',\n",
    " 'exercised_stock_options',\n",
    " 'long_term_incentive',\n",
    " 'freq_change_received',\n",
    " 'word_feature_2',\n",
    " 'word_feature_3']\n"
   ]
  },
  {
   "cell_type": "markdown",
   "metadata": {},
   "source": [
    "Based on the results from sequential feature selection, the overall performance increases with decreasing number of features. The overall best performance is achieved with selected subset with 7 features. Interestingly, the selected subset contain 3 of the engineered features (tfidf features and email features) and 4 of the best financial features based on SelectKBest scoring. Feature selection further improved the prediction performance. However, I want to perform hyperparameter tuning to hopefully furthermore boost the prediction performance"
   ]
  },
  {
   "cell_type": "markdown",
   "metadata": {},
   "source": [
    "**Hyperparameter Tuning**  \n",
    "The best feature subset (sequential feature selection) will be used in combination with the previously evaluated best classifier (SVC) to facilitate the final optimization step.\n",
    "Tuning will be conducted via GridSearch and similar to feature selection, I will use StratifiedShuffleSplit to account for high variance in the dataset. Since the overall time complexity is lower than in feature selection, I will use 500 folds with StratifiedShuffleSplit. I will ommit rbf kernel and poly kernel in grid search, since linear kernel resulted in best performance. Again, I figure this is a good tradeoff between runtime and model performance."
   ]
  },
  {
   "cell_type": "code",
   "execution_count": 34,
   "metadata": {
    "collapsed": false
   },
   "outputs": [],
   "source": [
    "# filter the best subset (3, 4, 6, 10, 13, 15, 16) and add \"poi\" feature for correct data split\n",
    "#final_features = np.array(preselected_features)[[3, 4, 6, 10, 13, 15, 16]]]\n",
    "final_features = np.array(preselected_features)[[best_features[9]['best_subset_7']]]\n",
    "final_features=list(final_features)\n",
    "final_features.insert(0,\"poi\")\n",
    "\n",
    "data = tester.featureFormat(final_dataset, final_features)\n",
    "labels, features = tester.targetFeatureSplit(data)"
   ]
  },
  {
   "cell_type": "code",
   "execution_count": 17,
   "metadata": {
    "collapsed": false
   },
   "outputs": [],
   "source": [
    "parameters = {'clf__kernel':['linear'], \n",
    "              'clf__C':[0.01,0.2,0.4,0.8,1,2,4,8,10,100],\n",
    "              \"clf__gamma\":[0.001,0.01,0.05, 0.1,1,10],\n",
    "              \"clf__class_weight\":[\"balanced\", {1:4,0:1},{1:5,0:1},{1:6,0:1}]}\n",
    "\n",
    "\n",
    "pipeline = Pipeline([(\"clf\", SVC())])"
   ]
  },
  {
   "cell_type": "code",
   "execution_count": 21,
   "metadata": {
    "collapsed": false
   },
   "outputs": [
    {
     "data": {
      "text/plain": [
       "GridSearchCV(cv=StratifiedShuffleSplit(n_splits=200, random_state=42, test_size='default',\n",
       "            train_size=None),\n",
       "       error_score='raise',\n",
       "       estimator=Pipeline(memory=None,\n",
       "     steps=[('clf', SVC(C=1.0, cache_size=200, class_weight=None, coef0=0.0,\n",
       "  decision_function_shape='ovr', degree=3, gamma='auto', kernel='rbf',\n",
       "  max_iter=-1, probability=False, random_state=None, shrinking=True,\n",
       "  tol=0.001, verbose=False))]),\n",
       "       fit_params=None, iid=True, n_jobs=1,\n",
       "       param_grid={'clf__gamma': [0.001, 0.01, 0.05, 0.1, 1, 10], 'clf__C': [0.01, 0.2, 0.4, 0.8, 1, 2, 4, 8, 10, 100], 'clf__class_weight': ['balanced', {0: 1, 1: 4}, {0: 1, 1: 5}, {0: 1, 1: 6}], 'clf__kernel': ['linear']},\n",
       "       pre_dispatch='2*n_jobs', refit=True, return_train_score=True,\n",
       "       scoring='f1', verbose=0)"
      ]
     },
     "execution_count": 21,
     "metadata": {},
     "output_type": "execute_result"
    }
   ],
   "source": [
    "from sklearn.model_selection import StratifiedShuffleSplit\n",
    "cv = StratifiedShuffleSplit(n_splits=500,  random_state=42)\n",
    "grid_search = GridSearchCV(pipeline, parameters, scoring = \"f1\", cv=cv)\n",
    "grid_search.fit(features, labels)"
   ]
  },
  {
   "cell_type": "code",
   "execution_count": 34,
   "metadata": {
    "collapsed": false,
    "scrolled": true
   },
   "outputs": [
    {
     "data": {
      "text/plain": [
       "Pipeline(memory=None,\n",
       "     steps=[('clf', SVC(C=0.4, cache_size=200, class_weight={0: 1, 1: 6}, coef0=0.0,\n",
       "  decision_function_shape='ovr', degree=3, gamma=0.05, kernel='linear',\n",
       "  max_iter=-1, probability=False, random_state=None, shrinking=True,\n",
       "  tol=0.001, verbose=False))])"
      ]
     },
     "execution_count": 34,
     "metadata": {},
     "output_type": "execute_result"
    }
   ],
   "source": [
    "grid_search.best_estimator_"
   ]
  },
  {
   "cell_type": "code",
   "execution_count": 35,
   "metadata": {
    "collapsed": false
   },
   "outputs": [
    {
     "data": {
      "text/plain": [
       "0.63916190476190482"
      ]
     },
     "execution_count": 35,
     "metadata": {},
     "output_type": "execute_result"
    }
   ],
   "source": [
    "grid_search.best_score_"
   ]
  },
  {
   "cell_type": "code",
   "execution_count": 60,
   "metadata": {
    "collapsed": false
   },
   "outputs": [
    {
     "name": "stdout",
     "output_type": "stream",
     "text": [
      "Pipeline(memory=None,\n",
      "     steps=[('clf', SVC(C=0.4, cache_size=200, class_weight={0: 1, 1: 6}, coef0=0.0,\n",
      "  decision_function_shape='ovr', degree=3, gamma=0.05, kernel='linear',\n",
      "  max_iter=-1, probability=False, random_state=None, shrinking=True,\n",
      "  tol=0.001, verbose=False))])\n",
      "\tAccuracy: 0.90867\tPrecision: 0.66475\tRecall: 0.63550\tF1: 0.64980\tF2: 0.64114\n",
      "\tTotal predictions: 15000\tTrue positives: 1271\tFalse positives:  641\tFalse negatives:  729\tTrue negatives: 12359\n",
      "\n"
     ]
    }
   ],
   "source": [
    "tester.dump_classifier_and_data(grid_search.best_estimator_, final_dataset, final_features)\n",
    "tester.main()"
   ]
  },
  {
   "cell_type": "markdown",
   "metadata": {},
   "source": [
    "**optimized hyperparameter and best feature subset with SVC**\n",
    "\n",
    "|Classifier|Accuracy|Precision|Recall|\n",
    "|---|---|---|\n",
    "|SVC|0.910|0.665|0.636|"
   ]
  },
  {
   "cell_type": "markdown",
   "metadata": {},
   "source": [
    "Based on grid search, the best hyperparameter for the SVM classifier are: **C=0.4, class_weight={0: 1, 1: 6}, gamma=0.05.**  \n",
    "This improves especially the precision score to 0. 665 (before, 0.623). Also the recall score increases from 0.627 to 0.636. Accuracy improves only slightly to 0.910 (before, 0.900)."
   ]
  },
  {
   "cell_type": "markdown",
   "metadata": {},
   "source": [
    "# Conclusion\n",
    "The final precision and recall scores are 0.665 and 0.636, respectively. Precision translates to all employees that were predicted by the model to be a person of interest approx. 67% of those predictions are correct and truly represent a person of interest (precision metric). The recall metric translates to approx. 64% of all persons of interest in the dataset were identified by the model.\n",
    "\n",
    "If we break down the model building process using a support vector classifier, the precision improved significantly when the default feature set was expanded by the engineered features in combination with a linear kernel (from 0.279 to 0.370). Furthermore, a significant improvement in precision performance was achieved by selecting the best feature subset via greedy combinatorial search (from 0.370 to 0.623). However, this improvement comes at the cost of time it takes to execute the code and one has to decide if it is really worth the effort, or if alternative approaches can be applied to achieve similar results but at much more \"user friendly\" runtime. Frankly, I tested the SelectKBest algorithm in a grid search approach for feature selection, which resulted in precision and recall scores of 0.609 and 0.612 (6 best scoring features as the subset), respectively. However, the SelectKBest approach markedly reduced the overall time to perform feature selection. So obviously, one has to determine a rational timeframe for each project and decide on project basis whether longer runtime is a major issue for the success of the project.\n",
    "\n",
    "\n",
    "As already mentioned in the section **Sequential Feature Selection**,  training a classifier with the main dataset  results in a high variance model, which exhibits markedly reduced predictive power when the model is applied to unseen test data. This is not very suprising if we take the small size of the main dataset and the number of missing datapoints into account. Furthermore, the small size of the dataset is rather restrictive in terms of optimizing the **bias-variance tradeoff**. Even with only 7 features selected, the model is relatively complex in comparison to the size of the dataset. In this context, using less features results in sacrificing predictive power. A prefered solution to reduce model variance without hampering predictive power would be to increase the number of training examples. We don't have more data on enron employees comprising of financial features. However, the size of the email corpus seems to offer enough training examples to train a classifier with much lower variance. The informtion enclosed within the email corpus has been aggregated in order to being able to merge with the main dataset. So effectively, we reduced the size of samples from >500,000 to 144, which again suggests that the classifier trained will suffer from high variance.     \n",
    "\n",
    "As such, I assume that using exclusively the email corpus and the engineered TF-IDF values, respectively, to train the classifier will highly reduce model variance and concomitantly increase classification performance. So let's check this assumption."
   ]
  },
  {
   "cell_type": "markdown",
   "metadata": {},
   "source": [
    "### Classification based solely on TF-IDF values\n",
    "Class labels will be assigned to email authors (from_data) in order to split the stemmed email dataset (word_data) into a train and test set. As already mentioned in the section \"TF-IDF as a feature\", 4250 emails out of 51919 emails in total, have been authored by poi employees. As such, I will use a stratified split method to preserve the class percentages in the train and test set."
   ]
  },
  {
   "cell_type": "code",
   "execution_count": 8,
   "metadata": {
    "collapsed": false
   },
   "outputs": [],
   "source": [
    "class_label = pd.Series(from_data).apply(lambda x: data_df[\"poi\"].loc[x])\n",
    "feature_train, feature_test, label_train, label_test = train_test_split(word_data, class_label, test_size = 0.2,stratify=class_label, random_state = 1)"
   ]
  },
  {
   "cell_type": "markdown",
   "metadata": {},
   "source": [
    "Next, the lower percentage class in the feature training set (poi class) will be upsampled to match the higher percentage class. It is important to perform upsampling after the train test split in order to avoid \"carry over\" of information from the training set into the test set, i.e. same upsampled features used for training and testing, which would cause overfitting.   "
   ]
  },
  {
   "cell_type": "code",
   "execution_count": 9,
   "metadata": {
    "collapsed": false
   },
   "outputs": [],
   "source": [
    "# reset indices of the class label Series and filter the dataset into poi and not-poi class\n",
    "label_train = label_train.reset_index(drop=True)\n",
    "poi_class, not_poi_class = label_train[label_train == True], label_train[label_train == False]\n",
    "\n",
    "# upsample poi class; this will also duplicate indices of the poi class Series, which will be used to extract the \n",
    "# cognate features (word_data)\n",
    "poi_class_upsampled = resample(poi_class, replace=True, n_samples = len(not_poi_class), random_state=1234)\n",
    "\n",
    "# merge not-poi class with upsampled poi class and extract the corresponding features\n",
    "label_train_upsampled = pd.concat([poi_class_upsampled, not_poi_class]).sample(frac=1) \n",
    "feature_train_upsampled = np.array(feature_train)[label_train_upsampled.index.values]"
   ]
  },
  {
   "cell_type": "markdown",
   "metadata": {},
   "source": [
    "Transform the email training set into TF-IDF values and select the 15% TF-IDF values with best discriminative power between the two classes."
   ]
  },
  {
   "cell_type": "code",
   "execution_count": 32,
   "metadata": {
    "collapsed": false
   },
   "outputs": [],
   "source": [
    "# hyperparameter based on hyperparameter tuning in section \"TF-IDF values as features\"\n",
    "vectorizer = TfidfVectorizer(ngram_range = (1,1), max_df = 0.6, min_df=10)\n",
    "feature_train_tdidf = vectorizer.fit_transform(feature_train_upsampled)\n",
    "\n",
    "selector = SelectPercentile(percentile=10)\n",
    "feature_train_tdidf_selected = selector.fit_transform(feature_train_tdidf, label_train_upsampled)"
   ]
  },
  {
   "cell_type": "markdown",
   "metadata": {},
   "source": [
    "Perform transformation and selection for the feature test set"
   ]
  },
  {
   "cell_type": "code",
   "execution_count": 33,
   "metadata": {
    "collapsed": false
   },
   "outputs": [],
   "source": [
    "feature_test_tdidf = vectorizer.transform(feature_test)\n",
    "feature_test_tdidf_selected = selector.transform(feature_test_tdidf)"
   ]
  },
  {
   "cell_type": "markdown",
   "metadata": {},
   "source": [
    "Since this is not a comprehensive model selection and the feature space is high dimensional, I will only consider Decision Tree and Random Forrest."
   ]
  },
  {
   "cell_type": "code",
   "execution_count": 44,
   "metadata": {
    "collapsed": false
   },
   "outputs": [
    {
     "name": "stdout",
     "output_type": "stream",
     "text": [
      "Random Forrest Recall 0.791764705882\n",
      "--------------------\n",
      "Random Forrest Precision 0.943899018233\n",
      "--------------------\n",
      "Random Forrest Accuracy 0.979102465331\n",
      "--------------------\n",
      "Decision Tree Recall 0.829411764706\n",
      "--------------------\n",
      "Decision Tree Precision 0.758880516685\n",
      "--------------------\n",
      "Decision Tree Accuracy 0.964464560863\n",
      "--------------------\n"
     ]
    }
   ],
   "source": [
    "classifier = {\"Decision Tree\":DT(), \"Random Forrest\":RF()}\n",
    "scoring = {\"Accuracy\":accuracy_score, \"Recall\":recall_score, \"Precision\":precision_score}\n",
    "for clf in classifier:\n",
    "    clf_fitted = classifier[clf].fit(feature_train_tdidf_selected, label_train_upsampled)\n",
    "    clf_predict = classifier[clf].predict(feature_test_tdidf_selected)\n",
    "    for function in scoring:\n",
    "        print clf, function, scoring[function](label_test, clf_predict)\n",
    "        print \"--------------------\""
   ]
  },
  {
   "cell_type": "markdown",
   "metadata": {},
   "source": [
    "The classification results suggest that our hypothesis that model variance will be reduced whereas prediction power will be enhanced by increasing the effective sample size by three orders of magnitude is true. The improvement in comparison to the model trained with the main dataset (data_df) and engineered features is quite intriguing!! Random Forest exhibits an overall better performance. **Recall and precision improved by 25% and 42%, respectively!!** This is already a very satisfying result, however, let's see if we can boost the performance of the Random Forest classifier by facilitating hyperparameter tuning using grid search."
   ]
  },
  {
   "cell_type": "code",
   "execution_count": 10,
   "metadata": {
    "collapsed": false
   },
   "outputs": [
    {
     "data": {
      "text/plain": [
       "GridSearchCV(cv=None, error_score='raise',\n",
       "       estimator=Pipeline(memory=None,\n",
       "     steps=[('clf', RandomForestClassifier(bootstrap=True, class_weight=None, criterion='gini',\n",
       "            max_depth=None, max_features='auto', max_leaf_nodes=None,\n",
       "            min_impurity_decrease=0.0, min_impurity_split=None,\n",
       "            min_samples_leaf=1, min_samples_split=2,\n",
       "            min_weight_fraction_leaf=0.0, n_estimators=10, n_jobs=1,\n",
       "            oob_score=False, random_state=None, verbose=0,\n",
       "            warm_start=False))]),\n",
       "       fit_params=None, iid=True, n_jobs=1,\n",
       "       param_grid={'clf__criterion': ('gini', 'entropy'), 'clf__max_depth': (None, 10, 100, 500, 1000), 'clf__min_samples_split': (2, 4, 6), 'clf__n_estimators': (10, 20, 40)},\n",
       "       pre_dispatch='2*n_jobs', refit=True, return_train_score=True,\n",
       "       scoring='f1', verbose=0)"
      ]
     },
     "execution_count": 10,
     "metadata": {},
     "output_type": "execute_result"
    }
   ],
   "source": [
    "#convert upsampled training set into TF-IDF values and conduct grid_search\n",
    "vectorizer = TfidfVectorizer(ngram_range = (1,1), max_df = 0.6, min_df=10)\n",
    "feature_train_tdidf = vectorizer.fit_transform(feature_train_upsampled)\n",
    "\n",
    "\"\"\"pipeline = Pipeline([\n",
    "    ('vect', CountVectorizer(ngram_range = (1,1), max_df = 0.6, min_df=10)),\n",
    "    ('tfidf', TfidfTransformer()),\n",
    "    ('clf', RF()),\n",
    "])\"\"\"\n",
    "\n",
    "pipeline = Pipeline([\n",
    "    ('clf', RF())\n",
    "])\n",
    "\n",
    "parameters = {\n",
    "    'clf__criterion': (\"gini\", \"entropy\"),\n",
    "    'clf__max_depth': (None, 10,100,500,1000),\n",
    "    'clf__n_estimators': (10, 20, 40),\n",
    "    'clf__min_samples_split': (2,4,6),\n",
    "}\n",
    "\n",
    "grid_search = GridSearchCV(pipeline, parameters, scoring=\"f1\")\n",
    "grid_search.fit(feature_train_tdidf, label_train_upsampled)"
   ]
  },
  {
   "cell_type": "code",
   "execution_count": 27,
   "metadata": {
    "collapsed": false
   },
   "outputs": [
    {
     "data": {
      "text/plain": [
       "{'clf__criterion': 'entropy',\n",
       " 'clf__max_depth': None,\n",
       " 'clf__min_samples_split': 4,\n",
       " 'clf__n_estimators': 40}"
      ]
     },
     "execution_count": 27,
     "metadata": {},
     "output_type": "execute_result"
    }
   ],
   "source": [
    "grid_search.best_params_"
   ]
  },
  {
   "cell_type": "code",
   "execution_count": 31,
   "metadata": {
    "collapsed": false
   },
   "outputs": [
    {
     "name": "stdout",
     "output_type": "stream",
     "text": [
      "Recall 0.792941176471\n",
      "Precision 0.95197740113\n",
      "Accuracy 0.979776579353\n"
     ]
    }
   ],
   "source": [
    "clf = RF(criterion = 'entropy', max_depth= None, min_samples_split= 4,n_estimators= 40)\n",
    "clf_fitted = clf.fit(feature_train_tdidf_selected, label_train_upsampled)\n",
    "clf_predict = clf.predict(feature_test_tdidf_selected)\n",
    "\n",
    "for function in scoring:\n",
    "    print function, scoring[function](label_test, clf_predict)"
   ]
  },
  {
   "cell_type": "markdown",
   "metadata": {},
   "source": [
    "The performance improvement is negligible. It seems that classification performance of the Random Forest classifier already reached a plateau and further model optimization is not advisable. "
   ]
  }
 ],
 "metadata": {
  "anaconda-cloud": {},
  "kernelspec": {
   "display_name": "Python [conda env:python2]",
   "language": "python",
   "name": "conda-env-python2-py"
  },
  "language_info": {
   "codemirror_mode": {
    "name": "ipython",
    "version": 2
   },
   "file_extension": ".py",
   "mimetype": "text/x-python",
   "name": "python",
   "nbconvert_exporter": "python",
   "pygments_lexer": "ipython2",
   "version": "2.7.13"
  }
 },
 "nbformat": 4,
 "nbformat_minor": 2
}
